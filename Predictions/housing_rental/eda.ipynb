{
 "cells": [
  {
   "cell_type": "code",
   "execution_count": 1,
   "metadata": {},
   "outputs": [],
   "source": [
    "import numpy as np\n",
    "import pandas as pd\n",
    "import matplotlib.pyplot as plt\n",
    "import seaborn as sns\n",
    "from pandas_profiling import ProfileReport"
   ]
  },
  {
   "cell_type": "code",
   "execution_count": 2,
   "metadata": {},
   "outputs": [],
   "source": [
    "sns.set_theme()"
   ]
  },
  {
   "cell_type": "markdown",
   "metadata": {},
   "source": [
    "Remarks\n",
    "- No date of transaction (wtf)\n",
    "\n",
    "Hypotheses\n",
    "- Price of sell is negociated at -10% max\n",
    "- Chambres NA with Pièces 1 can be replaced by 0. It can be considered as 'Chambre séparée', which is not the case in a studio\n",
    "- High precision of Superficie, when multiple rows, is considered outlier (i.e. 24.00030284m2 should be a single row that might have been duplicated)\n",
    "\n",
    "Improve\n",
    "- Better imputation of Chambres NA with 3 & 4 Pièces (deleted 8%! of whole data here)"
   ]
  },
  {
   "cell_type": "markdown",
   "metadata": {},
   "source": [
    "# Load data"
   ]
  },
  {
   "cell_type": "code",
   "execution_count": 3,
   "metadata": {},
   "outputs": [],
   "source": [
    "prices = pd.read_csv('Prix IDF.xlsx - Prix.csv')\n",
    "rentals = pd.read_csv('Prix IDF.xlsx - Loyer.csv')"
   ]
  },
  {
   "cell_type": "code",
   "execution_count": 4,
   "metadata": {},
   "outputs": [
    {
     "data": {
      "text/plain": "(44685, 6)"
     },
     "execution_count": 4,
     "metadata": {},
     "output_type": "execute_result"
    }
   ],
   "source": [
    "prices.shape"
   ]
  },
  {
   "cell_type": "code",
   "execution_count": 5,
   "metadata": {},
   "outputs": [
    {
     "data": {
      "text/html": "<div>\n<style scoped>\n    .dataframe tbody tr th:only-of-type {\n        vertical-align: middle;\n    }\n\n    .dataframe tbody tr th {\n        vertical-align: top;\n    }\n\n    .dataframe thead th {\n        text-align: right;\n    }\n</style>\n<table border=\"1\" class=\"dataframe\">\n  <thead>\n    <tr style=\"text-align: right;\">\n      <th></th>\n      <th>Code Postal</th>\n      <th>Ville</th>\n      <th>Pièces</th>\n      <th>Chambres</th>\n      <th>Superficie</th>\n      <th>Prix de vente</th>\n    </tr>\n  </thead>\n  <tbody>\n    <tr>\n      <th>0</th>\n      <td>75001</td>\n      <td>PARIS</td>\n      <td>3</td>\n      <td>2.0</td>\n      <td>93</td>\n      <td>1680000.0</td>\n    </tr>\n    <tr>\n      <th>1</th>\n      <td>75001</td>\n      <td>PARIS</td>\n      <td>3</td>\n      <td>2.0</td>\n      <td>87,4</td>\n      <td>1295000.0</td>\n    </tr>\n    <tr>\n      <th>2</th>\n      <td>75001</td>\n      <td>PARIS</td>\n      <td>5</td>\n      <td>4.0</td>\n      <td>115,19</td>\n      <td>1905000.0</td>\n    </tr>\n    <tr>\n      <th>3</th>\n      <td>75001</td>\n      <td>PARIS</td>\n      <td>4</td>\n      <td>4.0</td>\n      <td>93,5</td>\n      <td>1177000.0</td>\n    </tr>\n    <tr>\n      <th>4</th>\n      <td>75001</td>\n      <td>PARIS</td>\n      <td>2</td>\n      <td>1.0</td>\n      <td>54</td>\n      <td>870000.0</td>\n    </tr>\n  </tbody>\n</table>\n</div>",
      "text/plain": "   Code Postal  Ville Pièces  Chambres Superficie  Prix de vente\n0        75001  PARIS      3       2.0         93      1680000.0\n1        75001  PARIS      3       2.0       87,4      1295000.0\n2        75001  PARIS      5       4.0     115,19      1905000.0\n3        75001  PARIS      4       4.0       93,5      1177000.0\n4        75001  PARIS      2       1.0         54       870000.0"
     },
     "execution_count": 5,
     "metadata": {},
     "output_type": "execute_result"
    }
   ],
   "source": [
    "prices.head()"
   ]
  },
  {
   "cell_type": "code",
   "execution_count": 6,
   "metadata": {},
   "outputs": [
    {
     "data": {
      "text/plain": "(16014, 7)"
     },
     "execution_count": 6,
     "metadata": {},
     "output_type": "execute_result"
    }
   ],
   "source": [
    "rentals.shape"
   ]
  },
  {
   "cell_type": "code",
   "execution_count": 7,
   "metadata": {},
   "outputs": [
    {
     "data": {
      "text/html": "<div>\n<style scoped>\n    .dataframe tbody tr th:only-of-type {\n        vertical-align: middle;\n    }\n\n    .dataframe tbody tr th {\n        vertical-align: top;\n    }\n\n    .dataframe thead th {\n        text-align: right;\n    }\n</style>\n<table border=\"1\" class=\"dataframe\">\n  <thead>\n    <tr style=\"text-align: right;\">\n      <th></th>\n      <th>Unnamed: 0</th>\n      <th>Code Postal</th>\n      <th>Ville</th>\n      <th>Pièces</th>\n      <th>Chambres</th>\n      <th>Superficie</th>\n      <th>Loyer</th>\n    </tr>\n  </thead>\n  <tbody>\n    <tr>\n      <th>0</th>\n      <td>0</td>\n      <td>75001</td>\n      <td>PARIS</td>\n      <td>3</td>\n      <td>1.0</td>\n      <td>71</td>\n      <td>2150</td>\n    </tr>\n    <tr>\n      <th>1</th>\n      <td>1</td>\n      <td>75001</td>\n      <td>PARIS</td>\n      <td>2</td>\n      <td>1.0</td>\n      <td>35</td>\n      <td>1600</td>\n    </tr>\n    <tr>\n      <th>2</th>\n      <td>2</td>\n      <td>75001</td>\n      <td>PARIS</td>\n      <td>2</td>\n      <td>1.0</td>\n      <td>50</td>\n      <td>2515</td>\n    </tr>\n    <tr>\n      <th>3</th>\n      <td>3</td>\n      <td>75001</td>\n      <td>PARIS</td>\n      <td>1</td>\n      <td>NaN</td>\n      <td>35</td>\n      <td>1380</td>\n    </tr>\n    <tr>\n      <th>4</th>\n      <td>4</td>\n      <td>75001</td>\n      <td>PARIS</td>\n      <td>2</td>\n      <td>1.0</td>\n      <td>42</td>\n      <td>1700</td>\n    </tr>\n  </tbody>\n</table>\n</div>",
      "text/plain": "   Unnamed: 0  Code Postal  Ville  Pièces  Chambres Superficie  Loyer\n0           0        75001  PARIS       3       1.0         71   2150\n1           1        75001  PARIS       2       1.0         35   1600\n2           2        75001  PARIS       2       1.0         50   2515\n3           3        75001  PARIS       1       NaN         35   1380\n4           4        75001  PARIS       2       1.0         42   1700"
     },
     "execution_count": 7,
     "metadata": {},
     "output_type": "execute_result"
    }
   ],
   "source": [
    "rentals.head()"
   ]
  },
  {
   "cell_type": "markdown",
   "metadata": {},
   "source": [
    "# Clean data"
   ]
  },
  {
   "cell_type": "markdown",
   "metadata": {},
   "source": [
    "## General "
   ]
  },
  {
   "cell_type": "code",
   "execution_count": 8,
   "metadata": {},
   "outputs": [],
   "source": [
    "# Drop dead column\n",
    "rentals.drop(['Unnamed: 0'], axis=1, inplace=True)"
   ]
  },
  {
   "cell_type": "code",
   "execution_count": 9,
   "metadata": {},
   "outputs": [],
   "source": [
    "# Rename columns\n",
    "prices.columns = ['Code_postal', 'Ville', 'Pièces', 'Chambres', 'Superficie', 'Prix_de_vente']\n",
    "rentals.columns = ['Code_postal', 'Ville', 'Pièces', 'Chambres', 'Superficie', 'Loyer']"
   ]
  },
  {
   "cell_type": "code",
   "execution_count": 10,
   "metadata": {},
   "outputs": [],
   "source": [
    "# Replace commas by points\n",
    "prices = prices.replace(to_replace=',', value='.', regex=True)\n",
    "rentals = rentals.replace(to_replace=',', value='.', regex=True)"
   ]
  },
  {
   "cell_type": "markdown",
   "metadata": {},
   "source": [
    "## Cast"
   ]
  },
  {
   "cell_type": "markdown",
   "metadata": {},
   "source": [
    "Cast variables into:\n",
    "- Code_postal: category\n",
    "- Ville: category\n",
    "- Pièces: int\n",
    "- Chambres: int  (TODO when NANs are imputed)\n",
    "- Superficie: float\n",
    "- Loyer: int\n",
    "- Prix_de_vente: float"
   ]
  },
  {
   "cell_type": "markdown",
   "metadata": {},
   "source": [
    "### Cast categories"
   ]
  },
  {
   "cell_type": "code",
   "execution_count": 11,
   "metadata": {},
   "outputs": [],
   "source": [
    "# Cast Code_postal as category\n",
    "prices['Code_postal'] = prices['Code_postal'].astype('category')\n",
    "rentals['Code_postal'] = rentals['Code_postal'].astype('category')\n",
    "\n",
    "# Cast Ville as category\n",
    "prices['Ville'] = prices['Ville'].astype('category')\n",
    "rentals['Ville'] = rentals['Ville'].astype('category')"
   ]
  },
  {
   "cell_type": "markdown",
   "metadata": {},
   "source": [
    "### Cast Pièces (and clean)"
   ]
  },
  {
   "cell_type": "code",
   "execution_count": 12,
   "metadata": {},
   "outputs": [
    {
     "name": "stdout",
     "output_type": "stream",
     "text": [
      "prices ['25.44', '54.54', '17.46', '130.44', '63.72', '194.56', '47.89']\n",
      "rentals []\n"
     ]
    }
   ],
   "source": [
    "# Get outliers\n",
    "p_out = [val for val in prices['Pièces'] if float(val) != round(float(val))]\n",
    "r_out = [val for val in rentals['Pièces'] if float(val) != round(float(val))]\n",
    "print('prices', p_out)\n",
    "print('rentals', r_out)"
   ]
  },
  {
   "cell_type": "markdown",
   "metadata": {},
   "source": [
    "Prices:\n",
    "- Few outliers\n",
    "- Round to closest (as no importance) the outliers to cast as int\n",
    "- Fun fact: only 1 house sold having 13 rooms. Whereas 20 and 6 were sold having 12 and 14 rooms respectivelly\n",
    "- Max rooms in a sell: 195\n",
    "\n",
    "Rentals:\n",
    "- No outlier\n",
    "- Max rooms in a rental: 20"
   ]
  },
  {
   "cell_type": "code",
   "execution_count": 13,
   "metadata": {},
   "outputs": [],
   "source": [
    "# Prices: Cast from object to float\n",
    "prices['Pièces'] = prices['Pièces'].astype('float64')\n",
    "# Prices: Round\n",
    "prices['Pièces'] = prices['Pièces'].apply(round)"
   ]
  },
  {
   "cell_type": "code",
   "execution_count": 14,
   "metadata": {},
   "outputs": [],
   "source": [
    "# Cast to int64\n",
    "prices['Pièces'] = prices['Pièces'].astype('int64')\n",
    "rentals['Pièces'] = rentals['Pièces'].astype('int64')"
   ]
  },
  {
   "cell_type": "markdown",
   "metadata": {},
   "source": [
    "### Cast Superficie"
   ]
  },
  {
   "cell_type": "code",
   "execution_count": 15,
   "metadata": {},
   "outputs": [],
   "source": [
    "# a = prices['Superficie'].astype('float64', errors='ignore')\n",
    "err = []\n",
    "for v in prices['Superficie']:\n",
    "    try:\n",
    "        float(v)\n",
    "    except:\n",
    "        err.append(v)"
   ]
  },
  {
   "cell_type": "code",
   "execution_count": 16,
   "metadata": {},
   "outputs": [
    {
     "data": {
      "text/plain": "['²1', '²1', '²1', '²1', '²1']"
     },
     "execution_count": 16,
     "metadata": {},
     "output_type": "execute_result"
    }
   ],
   "source": [
    "err"
   ]
  },
  {
   "cell_type": "code",
   "execution_count": 17,
   "metadata": {},
   "outputs": [
    {
     "data": {
      "text/html": "<div>\n<style scoped>\n    .dataframe tbody tr th:only-of-type {\n        vertical-align: middle;\n    }\n\n    .dataframe tbody tr th {\n        vertical-align: top;\n    }\n\n    .dataframe thead th {\n        text-align: right;\n    }\n</style>\n<table border=\"1\" class=\"dataframe\">\n  <thead>\n    <tr style=\"text-align: right;\">\n      <th></th>\n      <th>Code_postal</th>\n      <th>Ville</th>\n      <th>Pièces</th>\n      <th>Chambres</th>\n      <th>Superficie</th>\n      <th>Prix_de_vente</th>\n    </tr>\n  </thead>\n  <tbody>\n    <tr>\n      <th>34824</th>\n      <td>93300</td>\n      <td>Aubervilliers</td>\n      <td>55</td>\n      <td>NaN</td>\n      <td>²1</td>\n      <td>210000.0</td>\n    </tr>\n    <tr>\n      <th>34825</th>\n      <td>93300</td>\n      <td>Aubervilliers</td>\n      <td>17</td>\n      <td>NaN</td>\n      <td>²1</td>\n      <td>96000.0</td>\n    </tr>\n    <tr>\n      <th>34827</th>\n      <td>93300</td>\n      <td>Aubervilliers</td>\n      <td>64</td>\n      <td>NaN</td>\n      <td>²1</td>\n      <td>234000.0</td>\n    </tr>\n    <tr>\n      <th>34828</th>\n      <td>93300</td>\n      <td>Aubervilliers</td>\n      <td>195</td>\n      <td>NaN</td>\n      <td>²1</td>\n      <td>738000.0</td>\n    </tr>\n    <tr>\n      <th>34829</th>\n      <td>93300</td>\n      <td>Aubervilliers</td>\n      <td>48</td>\n      <td>NaN</td>\n      <td>²1</td>\n      <td>186000.0</td>\n    </tr>\n  </tbody>\n</table>\n</div>",
      "text/plain": "      Code_postal          Ville  Pièces  Chambres Superficie  Prix_de_vente\n34824       93300  Aubervilliers      55       NaN         ²1       210000.0\n34825       93300  Aubervilliers      17       NaN         ²1        96000.0\n34827       93300  Aubervilliers      64       NaN         ²1       234000.0\n34828       93300  Aubervilliers     195       NaN         ²1       738000.0\n34829       93300  Aubervilliers      48       NaN         ²1       186000.0"
     },
     "execution_count": 17,
     "metadata": {},
     "output_type": "execute_result"
    }
   ],
   "source": [
    "# Analyse errors\n",
    "prices[prices['Superficie'] == '²1']"
   ]
  },
  {
   "cell_type": "markdown",
   "metadata": {},
   "source": [
    "- These are errors definitely, since houses with +17 rooms are incoherent with these prices\n",
    "- Drop these outliers"
   ]
  },
  {
   "cell_type": "code",
   "execution_count": 18,
   "metadata": {},
   "outputs": [],
   "source": [
    "# Drop outliers\n",
    "ma_no_outliers = prices['Superficie'] == '²1'\n",
    "prices = prices[~ma_no_outliers]"
   ]
  },
  {
   "cell_type": "code",
   "execution_count": 19,
   "metadata": {},
   "outputs": [],
   "source": [
    "# Cast to float\n",
    "prices['Superficie'] = prices['Superficie'].astype('float64')\n",
    "rentals['Superficie'] = rentals['Superficie'].astype('float64')"
   ]
  },
  {
   "cell_type": "markdown",
   "metadata": {},
   "source": [
    "### Cast Loyer to int64"
   ]
  },
  {
   "cell_type": "code",
   "execution_count": 20,
   "metadata": {},
   "outputs": [],
   "source": [
    "rentals['Loyer'] = rentals['Loyer'].astype('int64')"
   ]
  },
  {
   "cell_type": "markdown",
   "metadata": {},
   "source": [
    "### Cast Prix_de_vente"
   ]
  },
  {
   "cell_type": "code",
   "execution_count": 21,
   "metadata": {},
   "outputs": [],
   "source": [
    "prices['Prix_de_vente'] = prices['Prix_de_vente'].astype('float64')"
   ]
  },
  {
   "cell_type": "markdown",
   "metadata": {},
   "source": [
    "## Missing (NaN)"
   ]
  },
  {
   "cell_type": "markdown",
   "metadata": {},
   "source": [
    "### NA Prix_de_vente\n",
    "- 1 missing\n",
    "- Dropped it\n",
    "- if time left, impute it"
   ]
  },
  {
   "cell_type": "code",
   "execution_count": 22,
   "metadata": {},
   "outputs": [
    {
     "data": {
      "text/html": "<div>\n<style scoped>\n    .dataframe tbody tr th:only-of-type {\n        vertical-align: middle;\n    }\n\n    .dataframe tbody tr th {\n        vertical-align: top;\n    }\n\n    .dataframe thead th {\n        text-align: right;\n    }\n</style>\n<table border=\"1\" class=\"dataframe\">\n  <thead>\n    <tr style=\"text-align: right;\">\n      <th></th>\n      <th>Code_postal</th>\n      <th>Ville</th>\n      <th>Pièces</th>\n      <th>Chambres</th>\n      <th>Superficie</th>\n      <th>Prix_de_vente</th>\n    </tr>\n  </thead>\n  <tbody>\n    <tr>\n      <th>38429</th>\n      <td>94100</td>\n      <td>Saint-Maur-des-Fossés</td>\n      <td>4</td>\n      <td>3.0</td>\n      <td>87.0</td>\n      <td>NaN</td>\n    </tr>\n  </tbody>\n</table>\n</div>",
      "text/plain": "      Code_postal                  Ville  Pièces  Chambres  Superficie  \\\n38429       94100  Saint-Maur-des-Fossés       4       3.0        87.0   \n\n       Prix_de_vente  \n38429            NaN  "
     },
     "execution_count": 22,
     "metadata": {},
     "output_type": "execute_result"
    }
   ],
   "source": [
    "# Prix_de_vente\n",
    "ma_out_px = prices['Prix_de_vente'].isna()\n",
    "prices[ma_out_px]"
   ]
  },
  {
   "cell_type": "code",
   "execution_count": 23,
   "metadata": {},
   "outputs": [],
   "source": [
    "# Drop na\n",
    "prices = prices[~ma_out_px]"
   ]
  },
  {
   "cell_type": "markdown",
   "metadata": {},
   "source": [
    "### NA Chambres\n",
    "- Some advertisements have many rooms, with might be explained by large rooms counting as multiple rooms [https://www.logic-immo.com/vendre/estimer-bien-immobilier/calculer-nombre-pieces-maison-appartement-1-20-40](cf)\n",
    "\n",
    "Prices:\n",
    "- NAs with Pièces <=2\n",
    "- +8000 NAs with Pièces > 2\n",
    "\n",
    "Rentals:\n",
    "- Mostly NAs with Pièces <=2\n",
    "- 71 NAs with Pièces > 2\n",
    "\n",
    "Imputations:\n",
    "- 0 when Pièces = 1\n",
    "- 1 when Pièces = 2\n",
    "- Dropped otherwise (can't tell whether Pièces or Chambres is wrong)"
   ]
  },
  {
   "cell_type": "markdown",
   "metadata": {},
   "source": [
    "#### Study Prices"
   ]
  },
  {
   "cell_type": "markdown",
   "metadata": {},
   "source": [
    "##### Analysis"
   ]
  },
  {
   "cell_type": "code",
   "execution_count": 24,
   "metadata": {},
   "outputs": [
    {
     "data": {
      "text/plain": "(0.0, 200.0)"
     },
     "execution_count": 24,
     "metadata": {},
     "output_type": "execute_result"
    },
    {
     "data": {
      "image/png": "[encoded data removed]",
      "text/plain": "<Figure size 432x288 with 1 Axes>"
     },
     "metadata": {},
     "output_type": "display_data"
    }
   ],
   "source": [
    "prices['Superficie'].hist(bins=150)\n",
    "ma_na_chamb = prices['Chambres'].isna()\n",
    "prices[ma_na_chamb]['Superficie'].hist(bins=150)\n",
    "plt.xlim([0, 200])"
   ]
  },
  {
   "cell_type": "code",
   "execution_count": 25,
   "metadata": {},
   "outputs": [
    {
     "data": {
      "text/plain": "(0.0, 10.0)"
     },
     "execution_count": 25,
     "metadata": {},
     "output_type": "execute_result"
    },
    {
     "data": {
      "image/png": "[encoded data removed]",
      "text/plain": "<Figure size 432x288 with 1 Axes>"
     },
     "metadata": {},
     "output_type": "display_data"
    }
   ],
   "source": [
    "prices['Pièces'].hist(bins=150)\n",
    "ma_na_pieces = prices['Chambres'].isna()\n",
    "prices[ma_na_pieces]['Pièces'].hist(bins=150)\n",
    "plt.xlim([0, 10])"
   ]
  },
  {
   "cell_type": "markdown",
   "metadata": {},
   "source": [
    "- When missing and 1 Pièces only, it is a studio, and can be replaced by 0\n",
    "- When there are 2 Pièces, NaN can be replaced by 1.\n",
    "- For > 2 Pièces, its hard to tell."
   ]
  },
  {
   "cell_type": "code",
   "execution_count": 26,
   "metadata": {},
   "outputs": [
    {
     "data": {
      "text/plain": "<bound method IndexOpsMixin.value_counts of 0        2.0\n1        2.0\n5        2.0\n9        1.0\n14       2.0\n        ... \n44666    NaN\n44670    2.0\n44672    2.0\n44676    2.0\n44682    2.0\nName: Chambres, Length: 13315, dtype: float64>"
     },
     "execution_count": 26,
     "metadata": {},
     "output_type": "execute_result"
    }
   ],
   "source": [
    "# Distribution of Chambres for 3 Pièces\n",
    "ma_pieces_px_3 = prices['Pièces'] == 3\n",
    "prices[ma_pieces_px_3]['Chambres'].value_counts"
   ]
  },
  {
   "cell_type": "markdown",
   "metadata": {},
   "source": [
    "- Chambres > 4 are obvious outliers\n",
    "- Chambres = 3 & 4 are difficult to interpret. It might as well be an error in the number of Chambres than Pièces"
   ]
  },
  {
   "cell_type": "code",
   "execution_count": 27,
   "metadata": {},
   "outputs": [
    {
     "data": {
      "text/plain": "<AxesSubplot:>"
     },
     "execution_count": 27,
     "metadata": {},
     "output_type": "execute_result"
    },
    {
     "data": {
      "image/png": "[encoded data removed]",
      "text/plain": "<Figure size 432x288 with 1 Axes>"
     },
     "metadata": {},
     "output_type": "display_data"
    }
   ],
   "source": [
    "# Distribution Superficie for 3 Chambres 3 Pièces\n",
    "ma_pieces_px_3 = prices['Pièces'] == 3\n",
    "ma_chambres_px_3 = prices['Chambres'] == 3\n",
    "prices[ma_pieces_px_3 & ma_chambres_px_3]['Superficie'].hist(bins=20)"
   ]
  },
  {
   "cell_type": "markdown",
   "metadata": {},
   "source": [
    "- Although it is concentrated around 60m2, it is hard to tell whether it might have 3 Chambres or 2 Chambres\n",
    "- Drop these records"
   ]
  },
  {
   "cell_type": "markdown",
   "metadata": {},
   "source": [
    "##### Impute!"
   ]
  },
  {
   "cell_type": "code",
   "execution_count": 28,
   "metadata": {},
   "outputs": [],
   "source": [
    "# Impute Chambre NA with 0 when Pièces is 1\n",
    "ma_na_pieces_px = prices['Chambres'].isna()\n",
    "ma_n_pieces_px_1 = prices['Pièces'] == 1\n",
    "prices.loc[ma_na_pieces_px & ma_n_pieces_px_1, 'Chambres'] = 0"
   ]
  },
  {
   "cell_type": "code",
   "execution_count": 29,
   "metadata": {},
   "outputs": [],
   "source": [
    "# Impute Chambre NA with 1 when Pièces is 2\n",
    "ma_n_pieces_px_2 = prices['Pièces'] == 2\n",
    "prices.loc[ma_na_pieces_px & ma_n_pieces_px_2, 'Chambres'] = 1"
   ]
  },
  {
   "cell_type": "code",
   "execution_count": 30,
   "metadata": {},
   "outputs": [],
   "source": [
    "# /!\\ Drop Chambre NA when Pièces > 2 (since hard to tell what it should be)\n",
    "# /!\\ Large data loss here\n",
    "ma_na_pieces_px = prices['Chambres'].isna()\n",
    "ma_n_pieces_px_large = prices['Pièces'] > 2\n",
    "ma_idx_px_na = prices[ma_na_pieces_px & ma_n_pieces_px_large].index\n",
    "prices.drop(ma_idx_px_na, inplace=True)"
   ]
  },
  {
   "cell_type": "code",
   "execution_count": 31,
   "metadata": {},
   "outputs": [
    {
     "data": {
      "text/html": "<div>\n<style scoped>\n    .dataframe tbody tr th:only-of-type {\n        vertical-align: middle;\n    }\n\n    .dataframe tbody tr th {\n        vertical-align: top;\n    }\n\n    .dataframe thead th {\n        text-align: right;\n    }\n</style>\n<table border=\"1\" class=\"dataframe\">\n  <thead>\n    <tr style=\"text-align: right;\">\n      <th></th>\n      <th>Code_postal</th>\n      <th>Ville</th>\n      <th>Pièces</th>\n      <th>Chambres</th>\n      <th>Superficie</th>\n      <th>Prix_de_vente</th>\n    </tr>\n  </thead>\n  <tbody>\n    <tr>\n      <th>30817</th>\n      <td>93100</td>\n      <td>Montreuil</td>\n      <td>0</td>\n      <td>NaN</td>\n      <td>363.0</td>\n      <td>747000.0</td>\n    </tr>\n    <tr>\n      <th>30947</th>\n      <td>93100</td>\n      <td>Montreuil</td>\n      <td>0</td>\n      <td>NaN</td>\n      <td>363.0</td>\n      <td>747000.0</td>\n    </tr>\n    <tr>\n      <th>44290</th>\n      <td>78000</td>\n      <td>Versailles</td>\n      <td>0</td>\n      <td>NaN</td>\n      <td>214.0</td>\n      <td>766500.0</td>\n    </tr>\n    <tr>\n      <th>44411</th>\n      <td>78000</td>\n      <td>Versailles</td>\n      <td>0</td>\n      <td>NaN</td>\n      <td>214.0</td>\n      <td>766500.0</td>\n    </tr>\n    <tr>\n      <th>44425</th>\n      <td>78000</td>\n      <td>Versailles</td>\n      <td>0</td>\n      <td>NaN</td>\n      <td>214.0</td>\n      <td>766500.0</td>\n    </tr>\n    <tr>\n      <th>44546</th>\n      <td>78000</td>\n      <td>Versailles</td>\n      <td>0</td>\n      <td>NaN</td>\n      <td>214.0</td>\n      <td>766500.0</td>\n    </tr>\n    <tr>\n      <th>44587</th>\n      <td>78000</td>\n      <td>Versailles</td>\n      <td>0</td>\n      <td>NaN</td>\n      <td>214.0</td>\n      <td>766500.0</td>\n    </tr>\n  </tbody>\n</table>\n</div>",
      "text/plain": "      Code_postal       Ville  Pièces  Chambres  Superficie  Prix_de_vente\n30817       93100   Montreuil       0       NaN       363.0       747000.0\n30947       93100   Montreuil       0       NaN       363.0       747000.0\n44290       78000  Versailles       0       NaN       214.0       766500.0\n44411       78000  Versailles       0       NaN       214.0       766500.0\n44425       78000  Versailles       0       NaN       214.0       766500.0\n44546       78000  Versailles       0       NaN       214.0       766500.0\n44587       78000  Versailles       0       NaN       214.0       766500.0"
     },
     "execution_count": 31,
     "metadata": {},
     "output_type": "execute_result"
    }
   ],
   "source": [
    "# Control NA are dropped (Not!)\n",
    "prices[prices['Chambres'].isna()]"
   ]
  },
  {
   "cell_type": "code",
   "execution_count": 32,
   "metadata": {},
   "outputs": [
    {
     "data": {
      "text/html": "<div>\n<style scoped>\n    .dataframe tbody tr th:only-of-type {\n        vertical-align: middle;\n    }\n\n    .dataframe tbody tr th {\n        vertical-align: top;\n    }\n\n    .dataframe thead th {\n        text-align: right;\n    }\n</style>\n<table border=\"1\" class=\"dataframe\">\n  <thead>\n    <tr style=\"text-align: right;\">\n      <th></th>\n      <th>Code_postal</th>\n      <th>Ville</th>\n      <th>Pièces</th>\n      <th>Chambres</th>\n      <th>Superficie</th>\n      <th>Prix_de_vente</th>\n    </tr>\n  </thead>\n  <tbody>\n    <tr>\n      <th>30817</th>\n      <td>93100</td>\n      <td>Montreuil</td>\n      <td>0</td>\n      <td>NaN</td>\n      <td>363.0</td>\n      <td>747000.0</td>\n    </tr>\n    <tr>\n      <th>30947</th>\n      <td>93100</td>\n      <td>Montreuil</td>\n      <td>0</td>\n      <td>NaN</td>\n      <td>363.0</td>\n      <td>747000.0</td>\n    </tr>\n    <tr>\n      <th>44290</th>\n      <td>78000</td>\n      <td>Versailles</td>\n      <td>0</td>\n      <td>NaN</td>\n      <td>214.0</td>\n      <td>766500.0</td>\n    </tr>\n    <tr>\n      <th>44411</th>\n      <td>78000</td>\n      <td>Versailles</td>\n      <td>0</td>\n      <td>NaN</td>\n      <td>214.0</td>\n      <td>766500.0</td>\n    </tr>\n    <tr>\n      <th>44425</th>\n      <td>78000</td>\n      <td>Versailles</td>\n      <td>0</td>\n      <td>NaN</td>\n      <td>214.0</td>\n      <td>766500.0</td>\n    </tr>\n    <tr>\n      <th>44546</th>\n      <td>78000</td>\n      <td>Versailles</td>\n      <td>0</td>\n      <td>NaN</td>\n      <td>214.0</td>\n      <td>766500.0</td>\n    </tr>\n    <tr>\n      <th>44587</th>\n      <td>78000</td>\n      <td>Versailles</td>\n      <td>0</td>\n      <td>NaN</td>\n      <td>214.0</td>\n      <td>766500.0</td>\n    </tr>\n  </tbody>\n</table>\n</div>",
      "text/plain": "      Code_postal       Ville  Pièces  Chambres  Superficie  Prix_de_vente\n30817       93100   Montreuil       0       NaN       363.0       747000.0\n30947       93100   Montreuil       0       NaN       363.0       747000.0\n44290       78000  Versailles       0       NaN       214.0       766500.0\n44411       78000  Versailles       0       NaN       214.0       766500.0\n44425       78000  Versailles       0       NaN       214.0       766500.0\n44546       78000  Versailles       0       NaN       214.0       766500.0\n44587       78000  Versailles       0       NaN       214.0       766500.0"
     },
     "execution_count": 32,
     "metadata": {},
     "output_type": "execute_result"
    }
   ],
   "source": [
    "# Control these NA come from Pièces being 0 (i.e. outliers) (Yes!)\n",
    "prices[prices['Pièces'] == 0]"
   ]
  },
  {
   "cell_type": "code",
   "execution_count": 33,
   "metadata": {},
   "outputs": [],
   "source": [
    "# Drop remaining Chambres NAs\n",
    "ma_chambre_px_na_r = prices[prices['Chambres'].isna()]\n",
    "ma_chambre_px_na_r_idx = ma_chambre_px_na_r.index\n",
    "prices.drop(ma_chambre_px_na_r_idx, inplace=True)"
   ]
  },
  {
   "cell_type": "markdown",
   "metadata": {},
   "source": [
    "#### Study Rentals"
   ]
  },
  {
   "cell_type": "code",
   "execution_count": 34,
   "metadata": {},
   "outputs": [
    {
     "data": {
      "text/plain": "(0.0, 8.0)"
     },
     "execution_count": 34,
     "metadata": {},
     "output_type": "execute_result"
    },
    {
     "data": {
      "image/png": "[encoded data removed]",
      "text/plain": "<Figure size 432x288 with 1 Axes>"
     },
     "metadata": {},
     "output_type": "display_data"
    }
   ],
   "source": [
    "rentals['Pièces'].hist(bins=50)\n",
    "ma_na_pieces_rent = rentals['Chambres'].isna()\n",
    "rentals[ma_na_pieces_rent]['Pièces'].hist(bins=50)\n",
    "plt.xlim([0, 8])"
   ]
  },
  {
   "cell_type": "markdown",
   "metadata": {},
   "source": [
    "- There is an even clearer pattern, with missing Chambres representing studios\n",
    "- NAs when 2 Chambres must be replaced by 1\n",
    "- NAs can (almost all) be imputed with a 0 (or 1, to think) but surely < 2"
   ]
  },
  {
   "cell_type": "code",
   "execution_count": 35,
   "metadata": {},
   "outputs": [],
   "source": [
    "# Impute Chambre NA with 1 when Pièces is 2\n",
    "ma_na_pieces_rent = rentals['Chambres'].isna()\n",
    "ma_n_pieces_2 = rentals['Pièces'] == 2\n",
    "rentals.loc[ma_na_pieces_rent & ma_n_pieces_2, 'Chambres'] = 1"
   ]
  },
  {
   "cell_type": "code",
   "execution_count": 36,
   "metadata": {},
   "outputs": [],
   "source": [
    "# Impute Chambre NA with 0 when Pièces is 1\n",
    "ma_n_pieces_1 = rentals['Pièces'] == 1\n",
    "rentals.loc[ma_na_pieces_rent & ma_n_pieces_1, 'Chambres'] = 0"
   ]
  },
  {
   "cell_type": "code",
   "execution_count": 37,
   "metadata": {},
   "outputs": [
    {
     "data": {
      "text/plain": "3     45\n4     17\n5      4\n6      1\n7      1\n9      1\n10     1\n20     1\nName: Pièces, dtype: int64"
     },
     "execution_count": 37,
     "metadata": {},
     "output_type": "execute_result"
    }
   ],
   "source": [
    "# Drop when Pièces > 2 (71 NAs)\n",
    "ma_na_ch_rent = rentals['Chambres'].isna()\n",
    "rentals[ma_na_ch_rent]['Pièces'].value_counts()"
   ]
  },
  {
   "cell_type": "code",
   "execution_count": 38,
   "metadata": {},
   "outputs": [],
   "source": [
    "ma_na_ch_rent_idx = rentals[ma_na_ch_rent].index\n",
    "rentals.drop(ma_na_ch_rent_idx, inplace=True)"
   ]
  },
  {
   "cell_type": "code",
   "execution_count": null,
   "metadata": {},
   "outputs": [],
   "source": []
  },
  {
   "cell_type": "markdown",
   "metadata": {},
   "source": [
    "### NA Superficie\n",
    "- Prices: 25 NAs remaining\n",
    "- Rentals: 27 NAs remaining\n",
    "\n",
    "Imputation:\n",
    "- Dropped, too complex to impute (range between large range of Loyer from 500 to 1200)"
   ]
  },
  {
   "cell_type": "code",
   "execution_count": 39,
   "metadata": {},
   "outputs": [
    {
     "data": {
      "text/plain": "Code_postal     0\nVille           0\nPièces          0\nChambres        0\nSuperficie     27\nLoyer           0\ndtype: int64"
     },
     "execution_count": 39,
     "metadata": {},
     "output_type": "execute_result"
    }
   ],
   "source": [
    "rentals.isna().sum()"
   ]
  },
  {
   "cell_type": "code",
   "execution_count": 40,
   "metadata": {},
   "outputs": [
    {
     "data": {
      "text/plain": "Code_postal       0\nVille             0\nPièces            0\nChambres          0\nSuperficie       25\nPrix_de_vente     0\ndtype: int64"
     },
     "execution_count": 40,
     "metadata": {},
     "output_type": "execute_result"
    }
   ],
   "source": [
    "prices.isna().sum()"
   ]
  },
  {
   "cell_type": "markdown",
   "metadata": {},
   "source": [
    "- Drop Superficie NAs (too risky to impute a value - mean would be worse than dropped)"
   ]
  },
  {
   "cell_type": "code",
   "execution_count": 41,
   "metadata": {},
   "outputs": [],
   "source": [
    "# Prices\n",
    "ma_sup_px_na = prices['Superficie'].isna()\n",
    "idx = prices[ma_sup_px_na].index\n",
    "prices.drop(idx, inplace=True)"
   ]
  },
  {
   "cell_type": "code",
   "execution_count": 42,
   "metadata": {},
   "outputs": [],
   "source": [
    "# Rentals\n",
    "ma_sup_rent_na = rentals['Superficie'].isna()\n",
    "idx = rentals[ma_sup_rent_na].index\n",
    "rentals.drop(idx, inplace=True)"
   ]
  },
  {
   "cell_type": "markdown",
   "metadata": {},
   "source": [
    "## Cast Chambres"
   ]
  },
  {
   "cell_type": "code",
   "execution_count": 43,
   "metadata": {},
   "outputs": [],
   "source": [
    "prices['Chambres'] = prices['Chambres'].astype('int64')\n",
    "rentals['Chambres'] = rentals['Chambres'].astype('int64')"
   ]
  },
  {
   "cell_type": "code",
   "execution_count": 44,
   "metadata": {},
   "outputs": [
    {
     "data": {
      "text/plain": "Code_postal    category\nVille          category\nPièces            int64\nChambres          int64\nSuperficie      float64\nLoyer             int64\ndtype: object"
     },
     "execution_count": 44,
     "metadata": {},
     "output_type": "execute_result"
    }
   ],
   "source": [
    "# Clean!\n",
    "rentals.dtypes"
   ]
  },
  {
   "cell_type": "markdown",
   "metadata": {},
   "source": [
    "## Outliers\n",
    "- Drop samples with Superficie lower than 8 (price and superficie doesn't help, investigate further)\n",
    "- Drop samples with var > med + 3std for:\n",
    "    - Superficie\n",
    "    - Chambres (for Prices)\n",
    "    - Pièces\n",
    "    - Loyers\n",
    "    - Prix_de_vente\n",
    "- Drop samples with Chambres > q99"
   ]
  },
  {
   "cell_type": "code",
   "execution_count": 45,
   "metadata": {},
   "outputs": [],
   "source": [
    "def get_high_outliers(data, col, n_std=3):\n",
    "    \"\"\"\n",
    "    Get the value at 3std of the median along with \n",
    "    idx corresponding to outliers\n",
    "    \"\"\"\n",
    "    med = data[col].median()\n",
    "    std = data[col].std()\n",
    "    up_val = med + n_std * std\n",
    "    \n",
    "    ma = data[col] > up_val\n",
    "    idx = data[ma].index\n",
    "    n_samples = idx.shape[0]\n",
    "    return idx, up_val, n_samples"
   ]
  },
  {
   "cell_type": "markdown",
   "metadata": {},
   "source": [
    "### Low Superficie\n",
    "- Drop all below 8m2 since too hard to differentiate between outliers and true data (based on a price analysis, since the price range is large)"
   ]
  },
  {
   "cell_type": "markdown",
   "metadata": {},
   "source": [
    "#### Prices"
   ]
  },
  {
   "cell_type": "code",
   "execution_count": 46,
   "metadata": {},
   "outputs": [
    {
     "data": {
      "text/plain": "0    154\n1     47\nName: Chambres, dtype: int64"
     },
     "execution_count": 46,
     "metadata": {},
     "output_type": "execute_result"
    }
   ],
   "source": [
    "ma_sfcie_low = prices['Superficie'] < 8\n",
    "prices[ma_sfcie_low]['Chambres'].value_counts()"
   ]
  },
  {
   "cell_type": "code",
   "execution_count": 47,
   "metadata": {},
   "outputs": [
    {
     "data": {
      "text/plain": "(60000.0, 1000000.0)"
     },
     "execution_count": 47,
     "metadata": {},
     "output_type": "execute_result"
    },
    {
     "data": {
      "image/png": "[encoded data removed]",
      "text/plain": "<Figure size 432x288 with 1 Axes>"
     },
     "metadata": {},
     "output_type": "display_data"
    }
   ],
   "source": [
    "ma_sfcie_low = prices['Superficie'] < 8\n",
    "ma_chm_1 = prices['Chambres'] == 1\n",
    "prices[ma_sfcie_low & ma_chm_1]['Prix_de_vente'].hist()\n",
    "plt.xlim([60000, 1000000])"
   ]
  },
  {
   "cell_type": "markdown",
   "metadata": {},
   "source": [
    "- Too complex to impute (it might correspond to announces that disrupt the system to be shown to everyone - prevent to be filtered out because of its large superficie)\n",
    "- Drop it!"
   ]
  },
  {
   "cell_type": "code",
   "execution_count": 48,
   "metadata": {},
   "outputs": [],
   "source": [
    "# Drop all\n",
    "idx = prices[ma_sfcie_low].index\n",
    "prices.drop(idx, inplace=True)"
   ]
  },
  {
   "cell_type": "markdown",
   "metadata": {},
   "source": [
    "#### Rentals"
   ]
  },
  {
   "cell_type": "code",
   "execution_count": 49,
   "metadata": {},
   "outputs": [
    {
     "data": {
      "text/plain": "<AxesSubplot:>"
     },
     "execution_count": 49,
     "metadata": {},
     "output_type": "execute_result"
    },
    {
     "data": {
      "image/png": "[encoded data removed]",
      "text/plain": "<Figure size 432x288 with 1 Axes>"
     },
     "metadata": {},
     "output_type": "display_data"
    }
   ],
   "source": [
    "ma_sfcie_low = rentals['Superficie'] < 8\n",
    "ma_chm_1 = rentals['Chambres'] == 1\n",
    "rentals[ma_sfcie_low & ma_chm_1]['Loyer'].hist(bins=8)"
   ]
  },
  {
   "cell_type": "markdown",
   "metadata": {},
   "source": [
    "- Too complex to impute\n",
    "- Drop it!"
   ]
  },
  {
   "cell_type": "code",
   "execution_count": 50,
   "metadata": {},
   "outputs": [],
   "source": [
    "# Drop when Superficie < 8\n",
    "idx = rentals[ma_sfcie_low].index\n",
    "rentals.drop(idx, inplace=True)"
   ]
  },
  {
   "cell_type": "markdown",
   "metadata": {},
   "source": [
    "### High Superficie\n",
    "- Use med+3std as separator\n",
    "- Drop above"
   ]
  },
  {
   "cell_type": "markdown",
   "metadata": {},
   "source": [
    "#### Prices"
   ]
  },
  {
   "cell_type": "code",
   "execution_count": 51,
   "metadata": {},
   "outputs": [
    {
     "name": "stdout",
     "output_type": "stream",
     "text": [
      "3std val: 217.90037641776348\n",
      "N samples: 923\n"
     ]
    }
   ],
   "source": [
    "idx_out_sup, up_val, n_samples = get_high_outliers(prices, 'Superficie')\n",
    "print('3std val:', up_val)\n",
    "print('N samples:', n_samples)"
   ]
  },
  {
   "cell_type": "code",
   "execution_count": 52,
   "metadata": {},
   "outputs": [],
   "source": [
    "prices.drop(idx_out_sup, inplace=True)"
   ]
  },
  {
   "cell_type": "markdown",
   "metadata": {},
   "source": [
    "#### Rentals"
   ]
  },
  {
   "cell_type": "code",
   "execution_count": 53,
   "metadata": {},
   "outputs": [
    {
     "name": "stdout",
     "output_type": "stream",
     "text": [
      "3std val: 164.51661820953476\n",
      "N samples: 411\n"
     ]
    }
   ],
   "source": [
    "idx_out_sup, up_val, n_samples = get_high_outliers(rentals, 'Superficie')\n",
    "print('3std val:', up_val)\n",
    "print('N samples:', n_samples)"
   ]
  },
  {
   "cell_type": "code",
   "execution_count": 54,
   "metadata": {},
   "outputs": [],
   "source": [
    "rentals.drop(idx_out_sup, inplace=True)"
   ]
  },
  {
   "cell_type": "markdown",
   "metadata": {},
   "source": [
    "### Pièces\n",
    "- Use med+3std as separator\n",
    "- Drop above"
   ]
  },
  {
   "cell_type": "markdown",
   "metadata": {},
   "source": [
    "#### Prices"
   ]
  },
  {
   "cell_type": "code",
   "execution_count": 55,
   "metadata": {},
   "outputs": [
    {
     "name": "stdout",
     "output_type": "stream",
     "text": [
      "3std val: 7.405460946337437\n",
      "N samples: 76\n"
     ]
    }
   ],
   "source": [
    "idx_out_sup, up_val, n_samples = get_high_outliers(prices, 'Pièces')\n",
    "print('3std val:', up_val)\n",
    "print('N samples:', n_samples)"
   ]
  },
  {
   "cell_type": "code",
   "execution_count": 56,
   "metadata": {},
   "outputs": [],
   "source": [
    "prices.drop(idx_out_sup, inplace=True)"
   ]
  },
  {
   "cell_type": "markdown",
   "metadata": {},
   "source": [
    "#### Rentals"
   ]
  },
  {
   "cell_type": "code",
   "execution_count": 57,
   "metadata": {},
   "outputs": [
    {
     "name": "stdout",
     "output_type": "stream",
     "text": [
      "3std val: 5.367267193304574\n",
      "N samples: 107\n"
     ]
    }
   ],
   "source": [
    "idx_out_sup, up_val, n_samples = get_high_outliers(rentals, 'Pièces')\n",
    "print('3std val:', up_val)\n",
    "print('N samples:', n_samples)"
   ]
  },
  {
   "cell_type": "code",
   "execution_count": 58,
   "metadata": {},
   "outputs": [],
   "source": [
    "rentals.drop(idx_out_sup, inplace=True)"
   ]
  },
  {
   "cell_type": "markdown",
   "metadata": {},
   "source": [
    "### Chambres\n",
    "- Use med+3std as separator for Prices\n",
    "- Drop above for Prices\n",
    "- For Rentals: Use q99 instead to drop high ouliers, since highest drives the std too much to use 3std separator."
   ]
  },
  {
   "cell_type": "markdown",
   "metadata": {},
   "source": [
    "#### Prices"
   ]
  },
  {
   "cell_type": "code",
   "execution_count": 59,
   "metadata": {},
   "outputs": [
    {
     "name": "stdout",
     "output_type": "stream",
     "text": [
      "3std val: 5.542683545749061\n",
      "N samples: 26\n"
     ]
    }
   ],
   "source": [
    "idx_out_sup, up_val, n_samples = get_high_outliers(prices, 'Chambres')\n",
    "print('3std val:', up_val)\n",
    "print('N samples:', n_samples)"
   ]
  },
  {
   "cell_type": "code",
   "execution_count": 60,
   "metadata": {},
   "outputs": [],
   "source": [
    "prices.drop(idx_out_sup, inplace=True)"
   ]
  },
  {
   "cell_type": "markdown",
   "metadata": {},
   "source": [
    "#### Rentals"
   ]
  },
  {
   "cell_type": "code",
   "execution_count": 61,
   "metadata": {},
   "outputs": [
    {
     "name": "stdout",
     "output_type": "stream",
     "text": [
      "3std val: 807.4458572221045\n",
      "N samples: 1\n"
     ]
    }
   ],
   "source": [
    "idx_out_sup, up_val, n_samples = get_high_outliers(rentals, 'Chambres')\n",
    "print('3std val:', up_val)\n",
    "print('N samples:', n_samples)"
   ]
  },
  {
   "cell_type": "markdown",
   "metadata": {},
   "source": [
    "- Highest is so extreme it explodes the std\n",
    "- use quantile instead"
   ]
  },
  {
   "cell_type": "code",
   "execution_count": 62,
   "metadata": {},
   "outputs": [
    {
     "data": {
      "text/plain": "4.0"
     },
     "execution_count": 62,
     "metadata": {},
     "output_type": "execute_result"
    }
   ],
   "source": [
    "q99 = rentals['Chambres'].quantile(0.99)\n",
    "q99"
   ]
  },
  {
   "cell_type": "code",
   "execution_count": 63,
   "metadata": {},
   "outputs": [],
   "source": [
    "ma = rentals['Chambres'] > q99\n",
    "rentals[ma].shape\n",
    "idx_out_sup = rentals[ma].index"
   ]
  },
  {
   "cell_type": "code",
   "execution_count": 64,
   "metadata": {},
   "outputs": [],
   "source": [
    "rentals.drop(idx_out_sup, inplace=True)"
   ]
  },
  {
   "cell_type": "markdown",
   "metadata": {},
   "source": [
    "### Prix de vente\n",
    "- Use med+3std as separator\n",
    "- Drop above"
   ]
  },
  {
   "cell_type": "markdown",
   "metadata": {},
   "source": [
    "#### Prices"
   ]
  },
  {
   "cell_type": "code",
   "execution_count": 65,
   "metadata": {},
   "outputs": [
    {
     "data": {
      "text/plain": "count    3.960900e+04\nmean     6.895758e+05\nstd      6.516807e+05\nmin      1.100000e+01\n25%      2.990000e+05\n50%      4.750000e+05\n75%      8.200000e+05\nmax      1.050000e+07\nName: Prix_de_vente, dtype: float64"
     },
     "execution_count": 65,
     "metadata": {},
     "output_type": "execute_result"
    }
   ],
   "source": [
    "prices['Prix_de_vente'].describe()"
   ]
  },
  {
   "cell_type": "code",
   "execution_count": 66,
   "metadata": {},
   "outputs": [
    {
     "data": {
      "text/plain": "3200000.0"
     },
     "execution_count": 66,
     "metadata": {},
     "output_type": "execute_result"
    }
   ],
   "source": [
    "q99 = prices['Prix_de_vente'].quantile(.99)\n",
    "q99"
   ]
  },
  {
   "cell_type": "code",
   "execution_count": 67,
   "metadata": {},
   "outputs": [
    {
     "data": {
      "text/html": "<div>\n<style scoped>\n    .dataframe tbody tr th:only-of-type {\n        vertical-align: middle;\n    }\n\n    .dataframe tbody tr th {\n        vertical-align: top;\n    }\n\n    .dataframe thead th {\n        text-align: right;\n    }\n</style>\n<table border=\"1\" class=\"dataframe\">\n  <thead>\n    <tr style=\"text-align: right;\">\n      <th></th>\n      <th>Code_postal</th>\n      <th>Ville</th>\n      <th>Pièces</th>\n      <th>Chambres</th>\n      <th>Superficie</th>\n      <th>Prix_de_vente</th>\n    </tr>\n  </thead>\n  <tbody>\n    <tr>\n      <th>12</th>\n      <td>75001</td>\n      <td>PARIS</td>\n      <td>4</td>\n      <td>2</td>\n      <td>207.00</td>\n      <td>5200000.0</td>\n    </tr>\n    <tr>\n      <th>37</th>\n      <td>75001</td>\n      <td>PARIS</td>\n      <td>4</td>\n      <td>2</td>\n      <td>207.00</td>\n      <td>5200000.0</td>\n    </tr>\n    <tr>\n      <th>58</th>\n      <td>75001</td>\n      <td>PARIS</td>\n      <td>6</td>\n      <td>4</td>\n      <td>155.07</td>\n      <td>3225000.0</td>\n    </tr>\n    <tr>\n      <th>72</th>\n      <td>75001</td>\n      <td>PARIS</td>\n      <td>5</td>\n      <td>2</td>\n      <td>176.00</td>\n      <td>5500000.0</td>\n    </tr>\n    <tr>\n      <th>83</th>\n      <td>75001</td>\n      <td>PARIS</td>\n      <td>6</td>\n      <td>4</td>\n      <td>155.07</td>\n      <td>3225000.0</td>\n    </tr>\n    <tr>\n      <th>...</th>\n      <td>...</td>\n      <td>...</td>\n      <td>...</td>\n      <td>...</td>\n      <td>...</td>\n      <td>...</td>\n    </tr>\n    <tr>\n      <th>23896</th>\n      <td>92200</td>\n      <td>Neuilly-sur-Seine</td>\n      <td>6</td>\n      <td>4</td>\n      <td>216.00</td>\n      <td>3325000.0</td>\n    </tr>\n    <tr>\n      <th>23973</th>\n      <td>92200</td>\n      <td>Neuilly-sur-Seine</td>\n      <td>5</td>\n      <td>3</td>\n      <td>179.25</td>\n      <td>4635000.0</td>\n    </tr>\n    <tr>\n      <th>24037</th>\n      <td>92200</td>\n      <td>Neuilly-sur-Seine</td>\n      <td>6</td>\n      <td>4</td>\n      <td>216.00</td>\n      <td>3325000.0</td>\n    </tr>\n    <tr>\n      <th>24061</th>\n      <td>92200</td>\n      <td>Neuilly-sur-Seine</td>\n      <td>6</td>\n      <td>4</td>\n      <td>187.00</td>\n      <td>3400000.0</td>\n    </tr>\n    <tr>\n      <th>24072</th>\n      <td>92200</td>\n      <td>Neuilly-sur-Seine</td>\n      <td>4</td>\n      <td>3</td>\n      <td>200.00</td>\n      <td>3900000.0</td>\n    </tr>\n  </tbody>\n</table>\n<p>390 rows × 6 columns</p>\n</div>",
      "text/plain": "      Code_postal              Ville  Pièces  Chambres  Superficie  \\\n12          75001              PARIS       4         2      207.00   \n37          75001              PARIS       4         2      207.00   \n58          75001              PARIS       6         4      155.07   \n72          75001              PARIS       5         2      176.00   \n83          75001              PARIS       6         4      155.07   \n...           ...                ...     ...       ...         ...   \n23896       92200  Neuilly-sur-Seine       6         4      216.00   \n23973       92200  Neuilly-sur-Seine       5         3      179.25   \n24037       92200  Neuilly-sur-Seine       6         4      216.00   \n24061       92200  Neuilly-sur-Seine       6         4      187.00   \n24072       92200  Neuilly-sur-Seine       4         3      200.00   \n\n       Prix_de_vente  \n12         5200000.0  \n37         5200000.0  \n58         3225000.0  \n72         5500000.0  \n83         3225000.0  \n...              ...  \n23896      3325000.0  \n23973      4635000.0  \n24037      3325000.0  \n24061      3400000.0  \n24072      3900000.0  \n\n[390 rows x 6 columns]"
     },
     "execution_count": 67,
     "metadata": {},
     "output_type": "execute_result"
    }
   ],
   "source": [
    "ma = prices['Prix_de_vente'] > q99\n",
    "idx_out_sup = prices[ma].index\n",
    "prices[ma]"
   ]
  },
  {
   "cell_type": "code",
   "execution_count": 68,
   "metadata": {},
   "outputs": [],
   "source": [
    "prices.drop(idx_out_sup, inplace=True)"
   ]
  },
  {
   "cell_type": "markdown",
   "metadata": {},
   "source": [
    "#### Rentals"
   ]
  },
  {
   "cell_type": "code",
   "execution_count": 69,
   "metadata": {},
   "outputs": [
    {
     "data": {
      "text/plain": "count    15361.000000\nmean      1528.786017\nstd       1316.250298\nmin        300.000000\n25%        877.000000\n50%       1200.000000\n75%       1784.000000\nmax      99714.000000\nName: Loyer, dtype: float64"
     },
     "execution_count": 69,
     "metadata": {},
     "output_type": "execute_result"
    }
   ],
   "source": [
    "rentals['Loyer'].describe()"
   ]
  },
  {
   "cell_type": "code",
   "execution_count": 70,
   "metadata": {},
   "outputs": [
    {
     "name": "stdout",
     "output_type": "stream",
     "text": [
      "3std val: 3832.5005959972987\n",
      "N samples: 640\n"
     ]
    }
   ],
   "source": [
    "idx_out_sup, up_val, n_samples = get_high_outliers(rentals, 'Loyer', n_std=2)\n",
    "print('3std val:', up_val)\n",
    "print('N samples:', n_samples)"
   ]
  },
  {
   "cell_type": "code",
   "execution_count": 71,
   "metadata": {},
   "outputs": [],
   "source": [
    "rentals.drop(idx_out_sup, inplace=True)"
   ]
  },
  {
   "cell_type": "markdown",
   "metadata": {},
   "source": [
    "## Duplicates"
   ]
  },
  {
   "cell_type": "code",
   "execution_count": 72,
   "metadata": {},
   "outputs": [
    {
     "data": {
      "text/plain": "2     5822\n3     1352\n4      601\n5      196\n6      101\n7       49\n8       20\n9        9\n11       3\n10       3\n50       1\n58       1\n34       1\n20       1\n12       1\n23       1\n87       1\ndtype: int64"
     },
     "execution_count": 72,
     "metadata": {},
     "output_type": "execute_result"
    }
   ],
   "source": [
    "r = prices.groupby(['Superficie', 'Prix_de_vente']).size()\n",
    "r[r>1].value_counts()"
   ]
  },
  {
   "cell_type": "markdown",
   "metadata": {},
   "source": [
    "- Many duplicates, but could be real data, since a similar Superficie is logically sold at a similar price"
   ]
  },
  {
   "cell_type": "code",
   "execution_count": 73,
   "metadata": {},
   "outputs": [
    {
     "data": {
      "text/plain": "Superficie  Prix_de_vente\n29.48       183000.0         20\n30.00       450000.0         12\n45.00       334000.0         34\n46.00       540000.0         11\n56.02       728000.0         11\n64.00       210000.0         50\n83.53       308800.0         87\n96.00       425000.0         58\n98.24       420000.0         23\n100.00      1250000.0        11\ndtype: int64"
     },
     "execution_count": 73,
     "metadata": {},
     "output_type": "execute_result"
    }
   ],
   "source": [
    "# Inspect further by crossing with Code_postal TODO\n",
    "r[r>10]"
   ]
  },
  {
   "cell_type": "markdown",
   "metadata": {},
   "source": [
    "- Since no one could input twice a higly precise Superficie like 83.529999\n",
    "- From these strange Superficie, one entry must be kept only (e.g. 1 of the 87)"
   ]
  },
  {
   "cell_type": "markdown",
   "metadata": {},
   "source": [
    "# Further analysis"
   ]
  },
  {
   "cell_type": "code",
   "execution_count": 74,
   "metadata": {},
   "outputs": [],
   "source": [
    "# profile_prices = ProfileReport(prices, title=\"Prices report\")\n",
    "# profile_prices.to_notebook_iframe()"
   ]
  },
  {
   "cell_type": "markdown",
   "metadata": {},
   "source": [
    "Prices report analysis\n",
    "\n",
    "- Many duplicated rows 21.6%. These are transactions and should not be treated as duplicates. With these variables, it is probable enough to have similar houses sold at the same price\n",
    "- 'Chambres' is the only variable with missing values\n",
    "- 'Ville' represents IDF, with Paris at 41.5%. 122 different cities (paris included)\n",
    "- Code_postal 141 vs Ville 122. There exists multiple Code_postal in Paris (20)\n",
    "\n"
   ]
  },
  {
   "cell_type": "markdown",
   "metadata": {},
   "source": [
    "Rentals report analysis\n",
    "\n",
    "- 'Ville' also IDF, with 121 cities"
   ]
  },
  {
   "cell_type": "markdown",
   "metadata": {},
   "source": [
    "Prices vs Rentals\n",
    "- 1 ville / Code_postal de moins dans rentals (vs prices) (92230, Gennevilliers)"
   ]
  },
  {
   "cell_type": "markdown",
   "metadata": {},
   "source": [
    "### Build merged data"
   ]
  },
  {
   "cell_type": "code",
   "execution_count": 75,
   "metadata": {},
   "outputs": [],
   "source": [
    "data = pd.concat([prices, rentals])"
   ]
  },
  {
   "cell_type": "markdown",
   "metadata": {},
   "source": [
    "### General"
   ]
  },
  {
   "cell_type": "code",
   "execution_count": 76,
   "metadata": {},
   "outputs": [
    {
     "data": {
      "text/plain": "[92230]"
     },
     "execution_count": 76,
     "metadata": {},
     "output_type": "execute_result"
    }
   ],
   "source": [
    "code_px = prices['Code_postal'].unique()\n",
    "code_rent = rentals['Code_postal'].unique()\n",
    "[code for code in code_px if code not in code_rent]"
   ]
  },
  {
   "cell_type": "code",
   "execution_count": 77,
   "metadata": {},
   "outputs": [
    {
     "data": {
      "text/plain": "Text(0.5, 0.98, 'Relation entre variables et nombre de pièces')"
     },
     "execution_count": 77,
     "metadata": {},
     "output_type": "execute_result"
    },
    {
     "data": {
      "image/png": "[encoded data removed]",
      "text/plain": "<Figure size 576x576 with 4 Axes>"
     },
     "metadata": {},
     "output_type": "display_data"
    }
   ],
   "source": [
    "m = prices.groupby('Pièces').mean()\n",
    "c = m.columns.copy()\n",
    "\n",
    "fig, axs = plt.subplots(2, 2, sharex=True, figsize=(8,8))\n",
    "\n",
    "\n",
    "axs[0, 0].plot(m.index, m[c[0]])\n",
    "axs[0, 0].set_ylabel(c[0])\n",
    "\n",
    "axs[0, 1].plot(m.index, m[c[1]])\n",
    "axs[0, 1].set_ylabel(c[1])\n",
    "\n",
    "axs[1, 0].plot(m.index, m[c[2]])\n",
    "axs[1, 0].set_ylabel(c[2])\n",
    "\n",
    "plt.suptitle(\"Relation entre variables et nombre de pièces\")"
   ]
  },
  {
   "cell_type": "code",
   "execution_count": 78,
   "metadata": {},
   "outputs": [
    {
     "data": {
      "text/plain": "<AxesSubplot:>"
     },
     "execution_count": 78,
     "metadata": {},
     "output_type": "execute_result"
    },
    {
     "data": {
      "image/png": "[encoded data removed]",
      "text/plain": "<Figure size 504x504 with 2 Axes>"
     },
     "metadata": {},
     "output_type": "display_data"
    }
   ],
   "source": [
    "corr = prices.corr()\n",
    "mask = np.triu(np.ones_like(corr, dtype=bool))\n",
    "f, ax = plt.subplots(figsize=(7, 7))\n",
    "cmap = sns.diverging_palette(230, 20, as_cmap=True)\n",
    "sns.heatmap(corr, mask=mask, cmap=cmap, center=0.5,\n",
    "            square=True, linewidths=.5, cbar_kws={\"shrink\": .5})\n"
   ]
  },
  {
   "cell_type": "markdown",
   "metadata": {},
   "source": [
    "### Plot map Paris"
   ]
  },
  {
   "cell_type": "code",
   "execution_count": null,
   "metadata": {},
   "outputs": [],
   "source": []
  },
  {
   "cell_type": "markdown",
   "metadata": {},
   "source": [
    "## Rentability\n",
    "\n",
    "r = (Loyer * 12) / Prix_de_vente"
   ]
  },
  {
   "cell_type": "code",
   "execution_count": 79,
   "metadata": {},
   "outputs": [],
   "source": [
    "def compute_x_by_y(prices, rentals,\n",
    "                   x='Superficie', y='Code_postal',\n",
    "                   sup_min=8, sup_max=14):\n",
    "    \"\"\"\n",
    "    Compute rentability while filtering the Superficie\n",
    "    \n",
    "    The risk is not computed as the volatility of prices since it would make no sense.\n",
    "    The risk is thus approximated with the relative num of annoucements / num of sells\n",
    "    \"\"\"\n",
    "    # Weight the risk to adjust the return (train it?)\n",
    "    w = 1\n",
    "\n",
    "    # Create x filters (e.g. filter by Superficie < 14)\n",
    "    ma_min_px = prices[x] > sup_min\n",
    "    ma_max_px = prices[x] < sup_max\n",
    "    ma_min_rent = rentals[x] > sup_min\n",
    "    ma_max_rent = rentals[x] < sup_max\n",
    "    \n",
    "    # Group by y: agg with mean\n",
    "    mean_px = prices[ma_min_px & ma_max_px].groupby(y).mean()\n",
    "    mean_rent = rentals[ma_min_rent & ma_max_rent].groupby(y).mean()\n",
    "\n",
    "    # Group by y: agg with count\n",
    "    count_px = prices[ma_min_px & ma_max_px].groupby(y).count()\n",
    "    count_rent = rentals[ma_min_rent & ma_max_rent].groupby(y).count()\n",
    "\n",
    "    # Compute return and risk\n",
    "    r = (mean_rent['Loyer'] * 12) / mean_px['Prix_de_vente']\n",
    "    risk = count_rent['Loyer'] / count_px['Prix_de_vente']\n",
    "\n",
    "    # Compute ratio\n",
    "    ratio = r/(risk * w)\n",
    "\n",
    "    return r, risk, ratio, count_px, count_rent"
   ]
  },
  {
   "cell_type": "code",
   "execution_count": 80,
   "metadata": {},
   "outputs": [],
   "source": [
    "r, risk, ratio, count_px, count_rent = compute_x_by_y(prices, rentals, sup_max=14)"
   ]
  },
  {
   "cell_type": "code",
   "execution_count": 81,
   "metadata": {},
   "outputs": [
    {
     "data": {
      "text/plain": "Code_postal\n75006     7\n75007    19\n75008    21\n75009    12\n75010    17\n75011    14\n75012     7\n75014     6\n75015    11\n75016    61\n75017    38\n75018    15\n75019     8\n75020     7\n78000     8\n92100    13\n92200    23\n92300     6\n92600     6\n92700     7\n93100     6\nName: Loyer, dtype: int64"
     },
     "execution_count": 81,
     "metadata": {},
     "output_type": "execute_result"
    }
   ],
   "source": [
    "count_rent[count_rent['Loyer'] > 5]['Loyer']"
   ]
  },
  {
   "cell_type": "markdown",
   "metadata": {},
   "source": [
    "- 75016: 61, le plus élevé car plein de chambres de bonnes\n",
    "- manque depuis combien de temps l'annonce a été postée:\n",
    "    - car si vient d'être postée, cela signifie qu'il y a simplement du turnover (ou que les proprios se mettent à louer leur appart de chambre de bonne)\n",
    "    - si l'annonce est ancienne, ça indique qu'il y a une potentielle sur-offre"
   ]
  },
  {
   "cell_type": "code",
   "execution_count": 82,
   "metadata": {},
   "outputs": [
    {
     "data": {
      "text/plain": "((141,), (141,), (141,))"
     },
     "execution_count": 82,
     "metadata": {},
     "output_type": "execute_result"
    }
   ],
   "source": [
    "r.shape, risk.shape, ratio.shape"
   ]
  },
  {
   "cell_type": "code",
   "execution_count": 83,
   "metadata": {},
   "outputs": [],
   "source": [
    "ret = pd.concat([r, risk, ratio], axis=1)\n",
    "ret.columns = ['returns', 'risk', 'ratio']\n",
    "ret_clean = ret[~ret['returns'].isna()]"
   ]
  },
  {
   "cell_type": "code",
   "execution_count": 84,
   "metadata": {},
   "outputs": [
    {
     "data": {
      "text/html": "<div>\n<style scoped>\n    .dataframe tbody tr th:only-of-type {\n        vertical-align: middle;\n    }\n\n    .dataframe tbody tr th {\n        vertical-align: top;\n    }\n\n    .dataframe thead th {\n        text-align: right;\n    }\n</style>\n<table border=\"1\" class=\"dataframe\">\n  <thead>\n    <tr style=\"text-align: right;\">\n      <th></th>\n      <th>returns</th>\n      <th>risk</th>\n      <th>ratio</th>\n    </tr>\n    <tr>\n      <th>Code_postal</th>\n      <th></th>\n      <th></th>\n      <th></th>\n    </tr>\n  </thead>\n  <tbody>\n    <tr>\n      <th>75001</th>\n      <td>0.047351</td>\n      <td>0.600000</td>\n      <td>0.078918</td>\n    </tr>\n    <tr>\n      <th>75003</th>\n      <td>0.067473</td>\n      <td>0.357143</td>\n      <td>0.188923</td>\n    </tr>\n    <tr>\n      <th>75004</th>\n      <td>0.055044</td>\n      <td>0.571429</td>\n      <td>0.096328</td>\n    </tr>\n    <tr>\n      <th>75005</th>\n      <td>0.039144</td>\n      <td>0.625000</td>\n      <td>0.062631</td>\n    </tr>\n    <tr>\n      <th>75006</th>\n      <td>0.042365</td>\n      <td>0.583333</td>\n      <td>0.072626</td>\n    </tr>\n    <tr>\n      <th>75007</th>\n      <td>0.046534</td>\n      <td>0.760000</td>\n      <td>0.061230</td>\n    </tr>\n    <tr>\n      <th>75008</th>\n      <td>0.048260</td>\n      <td>1.400000</td>\n      <td>0.034471</td>\n    </tr>\n    <tr>\n      <th>75009</th>\n      <td>0.054690</td>\n      <td>0.631579</td>\n      <td>0.086592</td>\n    </tr>\n    <tr>\n      <th>75010</th>\n      <td>0.051546</td>\n      <td>0.435897</td>\n      <td>0.118253</td>\n    </tr>\n    <tr>\n      <th>75011</th>\n      <td>0.052349</td>\n      <td>0.583333</td>\n      <td>0.089742</td>\n    </tr>\n    <tr>\n      <th>75012</th>\n      <td>0.054947</td>\n      <td>1.166667</td>\n      <td>0.047097</td>\n    </tr>\n    <tr>\n      <th>75013</th>\n      <td>0.046311</td>\n      <td>0.125000</td>\n      <td>0.370487</td>\n    </tr>\n    <tr>\n      <th>75014</th>\n      <td>0.052767</td>\n      <td>0.428571</td>\n      <td>0.123124</td>\n    </tr>\n    <tr>\n      <th>75015</th>\n      <td>0.047476</td>\n      <td>0.647059</td>\n      <td>0.073372</td>\n    </tr>\n    <tr>\n      <th>75016</th>\n      <td>0.051149</td>\n      <td>0.938462</td>\n      <td>0.054503</td>\n    </tr>\n    <tr>\n      <th>75017</th>\n      <td>0.054550</td>\n      <td>0.612903</td>\n      <td>0.089002</td>\n    </tr>\n    <tr>\n      <th>75018</th>\n      <td>0.053238</td>\n      <td>0.405405</td>\n      <td>0.131321</td>\n    </tr>\n    <tr>\n      <th>75019</th>\n      <td>0.058166</td>\n      <td>1.333333</td>\n      <td>0.043625</td>\n    </tr>\n    <tr>\n      <th>75020</th>\n      <td>0.054339</td>\n      <td>0.700000</td>\n      <td>0.077627</td>\n    </tr>\n    <tr>\n      <th>78000</th>\n      <td>0.053257</td>\n      <td>8.000000</td>\n      <td>0.006657</td>\n    </tr>\n    <tr>\n      <th>92100</th>\n      <td>0.050787</td>\n      <td>4.333333</td>\n      <td>0.011720</td>\n    </tr>\n    <tr>\n      <th>92120</th>\n      <td>0.049971</td>\n      <td>1.000000</td>\n      <td>0.049971</td>\n    </tr>\n    <tr>\n      <th>92130</th>\n      <td>0.049498</td>\n      <td>1.500000</td>\n      <td>0.032998</td>\n    </tr>\n    <tr>\n      <th>92190</th>\n      <td>0.063645</td>\n      <td>4.000000</td>\n      <td>0.015911</td>\n    </tr>\n    <tr>\n      <th>92200</th>\n      <td>0.043654</td>\n      <td>2.090909</td>\n      <td>0.020878</td>\n    </tr>\n    <tr>\n      <th>92290</th>\n      <td>0.072800</td>\n      <td>1.000000</td>\n      <td>0.072800</td>\n    </tr>\n    <tr>\n      <th>92300</th>\n      <td>0.045650</td>\n      <td>3.000000</td>\n      <td>0.015217</td>\n    </tr>\n    <tr>\n      <th>92380</th>\n      <td>0.049302</td>\n      <td>2.000000</td>\n      <td>0.024651</td>\n    </tr>\n    <tr>\n      <th>92600</th>\n      <td>0.090260</td>\n      <td>1.200000</td>\n      <td>0.075217</td>\n    </tr>\n    <tr>\n      <th>92700</th>\n      <td>0.155619</td>\n      <td>7.000000</td>\n      <td>0.022231</td>\n    </tr>\n    <tr>\n      <th>93100</th>\n      <td>0.045123</td>\n      <td>6.000000</td>\n      <td>0.007521</td>\n    </tr>\n    <tr>\n      <th>93170</th>\n      <td>0.041740</td>\n      <td>1.000000</td>\n      <td>0.041740</td>\n    </tr>\n    <tr>\n      <th>93200</th>\n      <td>0.091040</td>\n      <td>5.000000</td>\n      <td>0.018208</td>\n    </tr>\n    <tr>\n      <th>93300</th>\n      <td>0.073975</td>\n      <td>2.000000</td>\n      <td>0.036987</td>\n    </tr>\n    <tr>\n      <th>93400</th>\n      <td>0.071560</td>\n      <td>1.000000</td>\n      <td>0.071560</td>\n    </tr>\n    <tr>\n      <th>94100</th>\n      <td>0.065347</td>\n      <td>4.000000</td>\n      <td>0.016337</td>\n    </tr>\n    <tr>\n      <th>94160</th>\n      <td>0.057100</td>\n      <td>2.000000</td>\n      <td>0.028550</td>\n    </tr>\n    <tr>\n      <th>94600</th>\n      <td>0.081429</td>\n      <td>2.000000</td>\n      <td>0.040714</td>\n    </tr>\n  </tbody>\n</table>\n</div>",
      "text/plain": "              returns      risk     ratio\nCode_postal                              \n75001        0.047351  0.600000  0.078918\n75003        0.067473  0.357143  0.188923\n75004        0.055044  0.571429  0.096328\n75005        0.039144  0.625000  0.062631\n75006        0.042365  0.583333  0.072626\n75007        0.046534  0.760000  0.061230\n75008        0.048260  1.400000  0.034471\n75009        0.054690  0.631579  0.086592\n75010        0.051546  0.435897  0.118253\n75011        0.052349  0.583333  0.089742\n75012        0.054947  1.166667  0.047097\n75013        0.046311  0.125000  0.370487\n75014        0.052767  0.428571  0.123124\n75015        0.047476  0.647059  0.073372\n75016        0.051149  0.938462  0.054503\n75017        0.054550  0.612903  0.089002\n75018        0.053238  0.405405  0.131321\n75019        0.058166  1.333333  0.043625\n75020        0.054339  0.700000  0.077627\n78000        0.053257  8.000000  0.006657\n92100        0.050787  4.333333  0.011720\n92120        0.049971  1.000000  0.049971\n92130        0.049498  1.500000  0.032998\n92190        0.063645  4.000000  0.015911\n92200        0.043654  2.090909  0.020878\n92290        0.072800  1.000000  0.072800\n92300        0.045650  3.000000  0.015217\n92380        0.049302  2.000000  0.024651\n92600        0.090260  1.200000  0.075217\n92700        0.155619  7.000000  0.022231\n93100        0.045123  6.000000  0.007521\n93170        0.041740  1.000000  0.041740\n93200        0.091040  5.000000  0.018208\n93300        0.073975  2.000000  0.036987\n93400        0.071560  1.000000  0.071560\n94100        0.065347  4.000000  0.016337\n94160        0.057100  2.000000  0.028550\n94600        0.081429  2.000000  0.040714"
     },
     "execution_count": 84,
     "metadata": {},
     "output_type": "execute_result"
    }
   ],
   "source": [
    "ret_clean"
   ]
  },
  {
   "cell_type": "code",
   "execution_count": 85,
   "metadata": {},
   "outputs": [
    {
     "name": "stderr",
     "output_type": "stream",
     "text": [
      "No handles with labels found to put in legend.\n"
     ]
    },
    {
     "data": {
      "text/plain": "<matplotlib.legend.Legend at 0x13c43d1c0>"
     },
     "execution_count": 85,
     "metadata": {},
     "output_type": "execute_result"
    },
    {
     "data": {
      "image/png": "[encoded data removed]",
      "text/plain": "<Figure size 576x720 with 1 Axes>"
     },
     "metadata": {},
     "output_type": "display_data"
    }
   ],
   "source": [
    "# Plot\n",
    "plt.figure(figsize=(8, 10))\n",
    "plt.scatter(ret_clean['returns'], ret_clean['ratio'])\n",
    "plt.xlabel('returns')\n",
    "plt.ylabel('ratio = returns / (n_locations / n_ventes)')\n",
    "plt.title('Returns compared to Ratio')\n",
    "\n",
    "# Annotate opportunities\n",
    "for idx, r, ratio in zip(ret_clean.index, ret_clean['returns'], ret_clean['ratio']):\n",
    "    # Great\n",
    "    if ratio > .1:\n",
    "        plt.annotate(idx, (r, ratio))\n",
    "        plt.plot(r, ratio, 'go')\n",
    "\n",
    "    # Bad opportunity\n",
    "    if ratio < .04:\n",
    "        plt.annotate(idx, (r, ratio))\n",
    "        plt.plot(r, ratio, 'ro')\n",
    "\n",
    "plt.legend()"
   ]
  },
  {
   "cell_type": "markdown",
   "metadata": {},
   "source": [
    "- Careful in the interpretation: an area with many sells will be considered a bad area"
   ]
  },
  {
   "cell_type": "markdown",
   "metadata": {},
   "source": [
    "## Add features"
   ]
  },
  {
   "cell_type": "code",
   "execution_count": 86,
   "metadata": {},
   "outputs": [
    {
     "data": {
      "text/html": "<div>\n<style scoped>\n    .dataframe tbody tr th:only-of-type {\n        vertical-align: middle;\n    }\n\n    .dataframe tbody tr th {\n        vertical-align: top;\n    }\n\n    .dataframe thead th {\n        text-align: right;\n    }\n</style>\n<table border=\"1\" class=\"dataframe\">\n  <thead>\n    <tr style=\"text-align: right;\">\n      <th></th>\n      <th>Code_postal</th>\n      <th>Ville</th>\n      <th>Pièces</th>\n      <th>Chambres</th>\n      <th>Superficie</th>\n      <th>Prix_de_vente</th>\n      <th>Loyer</th>\n    </tr>\n  </thead>\n  <tbody>\n    <tr>\n      <th>0</th>\n      <td>75001</td>\n      <td>PARIS</td>\n      <td>3</td>\n      <td>2</td>\n      <td>93.00</td>\n      <td>1680000.0</td>\n      <td>NaN</td>\n    </tr>\n    <tr>\n      <th>1</th>\n      <td>75001</td>\n      <td>PARIS</td>\n      <td>3</td>\n      <td>2</td>\n      <td>87.40</td>\n      <td>1295000.0</td>\n      <td>NaN</td>\n    </tr>\n    <tr>\n      <th>2</th>\n      <td>75001</td>\n      <td>PARIS</td>\n      <td>5</td>\n      <td>4</td>\n      <td>115.19</td>\n      <td>1905000.0</td>\n      <td>NaN</td>\n    </tr>\n    <tr>\n      <th>3</th>\n      <td>75001</td>\n      <td>PARIS</td>\n      <td>4</td>\n      <td>4</td>\n      <td>93.50</td>\n      <td>1177000.0</td>\n      <td>NaN</td>\n    </tr>\n    <tr>\n      <th>4</th>\n      <td>75001</td>\n      <td>PARIS</td>\n      <td>2</td>\n      <td>1</td>\n      <td>54.00</td>\n      <td>870000.0</td>\n      <td>NaN</td>\n    </tr>\n  </tbody>\n</table>\n</div>",
      "text/plain": "   Code_postal  Ville  Pièces  Chambres  Superficie  Prix_de_vente  Loyer\n0        75001  PARIS       3         2       93.00      1680000.0    NaN\n1        75001  PARIS       3         2       87.40      1295000.0    NaN\n2        75001  PARIS       5         4      115.19      1905000.0    NaN\n3        75001  PARIS       4         4       93.50      1177000.0    NaN\n4        75001  PARIS       2         1       54.00       870000.0    NaN"
     },
     "execution_count": 86,
     "metadata": {},
     "output_type": "execute_result"
    }
   ],
   "source": [
    "data.head()"
   ]
  },
  {
   "cell_type": "code",
   "execution_count": 87,
   "metadata": {},
   "outputs": [],
   "source": [
    "data_aug = pd.merge(data, ret_clean, how='left', on='Code_postal')"
   ]
  },
  {
   "cell_type": "markdown",
   "metadata": {},
   "source": [
    "# Export data"
   ]
  },
  {
   "cell_type": "code",
   "execution_count": 90,
   "metadata": {},
   "outputs": [],
   "source": [
    "data_aug.to_csv('data_preprocessed.csv')"
   ]
  },
  {
   "cell_type": "code",
   "execution_count": null,
   "metadata": {},
   "outputs": [],
   "source": []
  }
 ],
 "metadata": {
  "interpreter": {
   "hash": "143a8234bd608e0b612203721941a09deaaeca24e144d77d0b745dc3344134be"
  },
  "kernelspec": {
   "display_name": "Python 3.9.2 64-bit ('eda': conda)",
   "name": "python3"
  },
  "language_info": {
   "codemirror_mode": {
    "name": "ipython",
    "version": 3
   },
   "file_extension": ".py",
   "mimetype": "text/x-python",
   "name": "python",
   "nbconvert_exporter": "python",
   "pygments_lexer": "ipython3",
   "version": "3.9.2"
  },
  "orig_nbformat": 2
 },
 "nbformat": 4,
 "nbformat_minor": 2
}