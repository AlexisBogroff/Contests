{
 "cells": [
  {
   "cell_type": "markdown",
   "metadata": {},
   "source": [
    "# Recommendations"
   ]
  },
  {
   "cell_type": "code",
   "execution_count": 13,
   "metadata": {},
   "outputs": [],
   "source": [
    "import numpy as np\n",
    "import pandas as pd\n",
    "\n",
    "import matplotlib.pyplot as plt\n",
    "import seaborn as sns\n",
    "\n",
    "import pickle"
   ]
  },
  {
   "cell_type": "markdown",
   "metadata": {},
   "source": [
    "## Load data"
   ]
  },
  {
   "cell_type": "code",
   "execution_count": 6,
   "metadata": {},
   "outputs": [],
   "source": [
    "path_data = 'data/'\n",
    "rentals_train = pd.read_csv(path_data + 'rentals_train_aug.csv')\n",
    "rentals_test = pd.read_csv(path_data + 'rentals_test_aug.csv')\n",
    "prices_train = pd.read_csv(path_data + 'prices_train_aug.csv')\n",
    "prices_test = pd.read_csv(path_data + 'prices_test_aug.csv')"
   ]
  },
  {
   "cell_type": "markdown",
   "metadata": {},
   "source": [
    "## Load model"
   ]
  },
  {
   "cell_type": "code",
   "execution_count": 3,
   "metadata": {},
   "outputs": [],
   "source": [
    "model = pickle.load(open(path_data + 'rf_model_rent_85.sav', 'rb'))"
   ]
  },
  {
   "cell_type": "markdown",
   "metadata": {},
   "source": [
    "## Make predictions"
   ]
  },
  {
   "cell_type": "markdown",
   "metadata": {},
   "source": [
    "### Whole test"
   ]
  },
  {
   "cell_type": "code",
   "execution_count": 7,
   "metadata": {},
   "outputs": [],
   "source": [
    "# Drop na\n",
    "rentals_train_no_na = rentals_train[~rentals_train['returns'].isna()]\n",
    "rentals_test_no_na = rentals_test[~rentals_test['returns'].isna()]\n",
    "\n",
    "target = 'Loyer'\n",
    "features =  ['Superficie', 'Paris', 'returns']\n",
    "X_train = rentals_train_no_na[features]\n",
    "y_train = rentals_train_no_na[target]\n",
    "\n",
    "X_test = rentals_test_no_na[features]\n",
    "y_test = rentals_test_no_na[target]"
   ]
  },
  {
   "cell_type": "markdown",
   "metadata": {},
   "source": [
    "### Point prediction"
   ]
  },
  {
   "cell_type": "code",
   "execution_count": 10,
   "metadata": {},
   "outputs": [],
   "source": [
    "def get_area_metrics(postal_code, data_complete, metrics=['Paris', 'returns', 'risk', 'ratio']):\n",
    "    \"\"\" Get the returns for the given postal_code \"\"\"\n",
    "    r = data_complete[data_complete['Code_postal'] == postal_code][metrics].iloc[0]\n",
    "    return r"
   ]
  },
  {
   "cell_type": "code",
   "execution_count": 14,
   "metadata": {},
   "outputs": [
    {
     "data": {
      "text/plain": "array([630.60000928])"
     },
     "execution_count": 14,
     "metadata": {},
     "output_type": "execute_result"
    }
   ],
   "source": [
    "postal_code = 75008\n",
    "superficie = 11\n",
    "\n",
    "metrics = get_area_metrics(postal_code, rentals_train)\n",
    "new = np.array([superficie, metrics['Paris'], metrics['returns']])\n",
    "\n",
    "pred = model.predict([new])\n",
    "pred"
   ]
  },
  {
   "cell_type": "code",
   "execution_count": null,
   "metadata": {},
   "outputs": [],
   "source": []
  }
 ],
 "metadata": {
  "interpreter": {
   "hash": "143a8234bd608e0b612203721941a09deaaeca24e144d77d0b745dc3344134be"
  },
  "kernelspec": {
   "display_name": "Python 3.9.2 64-bit ('eda': conda)",
   "name": "python3"
  },
  "language_info": {
   "name": "python",
   "version": ""
  },
  "orig_nbformat": 2
 },
 "nbformat": 4,
 "nbformat_minor": 2
}