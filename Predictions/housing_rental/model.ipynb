{
 "cells": [
  {
   "cell_type": "markdown",
   "metadata": {},
   "source": [
    "# Prediction of Loyer"
   ]
  },
  {
   "cell_type": "code",
   "execution_count": 1,
   "metadata": {},
   "outputs": [],
   "source": [
    "import numpy as np\n",
    "import pandas as pd\n",
    "import matplotlib.pyplot as plt\n",
    "import seaborn as sns\n",
    "\n",
    "from sklearn.model_selection import train_test_split\n",
    "\n",
    "from sklearn.linear_model import LinearRegression\n",
    "\n",
    "from sklearn.tree import DecisionTreeRegressor\n",
    "from sklearn.model_selection import cross_val_score\n",
    "from sklearn.model_selection import cross_validate\n",
    "from sklearn.metrics import r2_score\n",
    "from sklearn.ensemble import RandomForestRegressor\n",
    "from sklearn.datasets import make_regression\n"
   ]
  },
  {
   "cell_type": "markdown",
   "metadata": {},
   "source": [
    "## Load data"
   ]
  },
  {
   "cell_type": "code",
   "execution_count": 2,
   "metadata": {},
   "outputs": [],
   "source": [
    "rentals_train = pd.read_csv('rentals_train_aug.csv')\n",
    "rentals_test = pd.read_csv('rentals_test_aug.csv')\n",
    "prices_train = pd.read_csv('prices_train_aug.csv')\n",
    "prices_test = pd.read_csv('prices_test_aug.csv')"
   ]
  },
  {
   "cell_type": "markdown",
   "metadata": {},
   "source": [
    "## Benchmark predict v0\n",
    "- 1 feat linear regressor\n",
    "- Feat: Superficie\n",
    "- R2 score: 58%"
   ]
  },
  {
   "cell_type": "markdown",
   "metadata": {},
   "source": [
    "### Split X and y"
   ]
  },
  {
   "cell_type": "code",
   "execution_count": 3,
   "metadata": {},
   "outputs": [],
   "source": [
    "target = 'Loyer'\n",
    "features =  ['Superficie']\n",
    "X_train = rentals_train[features]\n",
    "y_train = rentals_train[target]\n",
    "\n",
    "X_test = rentals_test[features]\n",
    "y_test = rentals_test[target]"
   ]
  },
  {
   "cell_type": "markdown",
   "metadata": {},
   "source": [
    "### Train and predict with linear regression"
   ]
  },
  {
   "cell_type": "code",
   "execution_count": 4,
   "metadata": {},
   "outputs": [],
   "source": [
    "reg = LinearRegression().fit(X_train, y_train)"
   ]
  },
  {
   "cell_type": "code",
   "execution_count": 5,
   "metadata": {},
   "outputs": [
    {
     "name": "stdout",
     "output_type": "stream",
     "text": [
      "train 0.5811819332356778\n",
      "test 0.584499048863377\n"
     ]
    }
   ],
   "source": [
    "print(\"train\", reg.score(X_train, y_train))\n",
    "print(\"test\", reg.score(X_test, y_test))"
   ]
  },
  {
   "cell_type": "code",
   "execution_count": 6,
   "metadata": {},
   "outputs": [
    {
     "name": "stdout",
     "output_type": "stream",
     "text": [
      "Coefs: [22.81]\n",
      "Intercept: 335.73\n"
     ]
    }
   ],
   "source": [
    "print(\"Coefs:\", reg.coef_.round(2))\n",
    "print(\"Intercept:\", round(reg.intercept_, 2))"
   ]
  },
  {
   "cell_type": "code",
   "execution_count": 7,
   "metadata": {},
   "outputs": [],
   "source": [
    "bins = np.arange(X_train['Superficie'].min(), X_train['Superficie'].max())\n",
    "proj = reg.intercept_ + reg.coef_[0] * bins"
   ]
  },
  {
   "cell_type": "code",
   "execution_count": 8,
   "metadata": {},
   "outputs": [
    {
     "data": {
      "text/plain": "Text(0, 0.5, 'Loyer')"
     },
     "execution_count": 8,
     "metadata": {},
     "output_type": "execute_result"
    },
    {
     "data": {
      "image/png": "[encoded data removed]",
      "text/plain": "<Figure size 432x288 with 1 Axes>"
     },
     "metadata": {
      "needs_background": "light"
     },
     "output_type": "display_data"
    }
   ],
   "source": [
    "plt.scatter(X_train['Superficie'], y_train)\n",
    "plt.plot(bins, proj, 'r-')\n",
    "\n",
    "plt.title('Loyer par Superficie')\n",
    "plt.xlabel('Superficie')\n",
    "plt.ylabel('Loyer')"
   ]
  },
  {
   "cell_type": "code",
   "execution_count": 9,
   "metadata": {},
   "outputs": [
    {
     "name": "stdout",
     "output_type": "stream",
     "text": [
      "pred: [2730.85424595]\n",
      "expected: 2730\n"
     ]
    }
   ],
   "source": [
    "# Try predict a new sample\n",
    "sup = 105\n",
    "x_new = np.array([[sup]])\n",
    "print('pred:', reg.predict(x_new))\n",
    "\n",
    "px_moy_m2_paris = 33\n",
    "px_moy_m2_idf = 26\n",
    "print('expected:', sup * px_moy_m2_idf)"
   ]
  },
  {
   "cell_type": "markdown",
   "metadata": {},
   "source": [
    "- Prix moyen (location) m2 Paris 33€ (SeLoger)\n",
    "- Prix moyen m2 IDF 26€\n",
    "- With a simple linear regression based on Superficie, the model correctly predicts the average price for 33m2 flats (for Paris m2 price) and 105m2 flats (for IDF m2 price)"
   ]
  },
  {
   "cell_type": "markdown",
   "metadata": {},
   "source": [
    "## Improve linear regressor v1\n",
    "- 2 feats linear regressor\n",
    "- Feats: Superficie, Paris (bool)\n",
    "- R2 score: 74%\n"
   ]
  },
  {
   "cell_type": "markdown",
   "metadata": {},
   "source": [
    "### Split X and y"
   ]
  },
  {
   "cell_type": "code",
   "execution_count": 10,
   "metadata": {},
   "outputs": [],
   "source": [
    "target = 'Loyer'\n",
    "features =  ['Superficie', 'Paris']\n",
    "X_train = rentals_train[features]\n",
    "y_train = rentals_train[target]\n",
    "\n",
    "X_test = rentals_test[features]\n",
    "y_test = rentals_test[target]"
   ]
  },
  {
   "cell_type": "markdown",
   "metadata": {},
   "source": [
    "### Train and predict with 2 variables linear regression"
   ]
  },
  {
   "cell_type": "code",
   "execution_count": 11,
   "metadata": {},
   "outputs": [],
   "source": [
    "reg = LinearRegression().fit(X_train, y_train)"
   ]
  },
  {
   "cell_type": "code",
   "execution_count": 12,
   "metadata": {},
   "outputs": [
    {
     "name": "stdout",
     "output_type": "stream",
     "text": [
      "train 0.7445044747367022\n",
      "test 0.7434984064010867\n"
     ]
    }
   ],
   "source": [
    "print(\"train\", reg.score(X_train, y_train))\n",
    "print(\"test\", reg.score(X_test, y_test))"
   ]
  },
  {
   "cell_type": "code",
   "execution_count": 13,
   "metadata": {},
   "outputs": [
    {
     "name": "stdout",
     "output_type": "stream",
     "text": [
      "Coefs: [ 23.33 571.52]\n",
      "Intercept: 14.44\n"
     ]
    }
   ],
   "source": [
    "print(\"Coefs:\", reg.coef_.round(2))\n",
    "print(\"Intercept:\", round(reg.intercept_, 2))"
   ]
  },
  {
   "cell_type": "code",
   "execution_count": 14,
   "metadata": {},
   "outputs": [
    {
     "data": {
      "text/plain": "array([[105]])"
     },
     "execution_count": 14,
     "metadata": {},
     "output_type": "execute_result"
    }
   ],
   "source": [
    "x_new"
   ]
  },
  {
   "cell_type": "code",
   "execution_count": 15,
   "metadata": {},
   "outputs": [
    {
     "name": "stdout",
     "output_type": "stream",
     "text": [
      "pred: [5717.99585068]\n",
      "expected: 7260\n",
      "expected: 5720\n"
     ]
    }
   ],
   "source": [
    "# Try predict a new sample\n",
    "sup = [220, 1]  # 1 for Paris, 0 otherwise\n",
    "x_new = np.array([sup])\n",
    "print('pred:', reg.predict(x_new))\n",
    "\n",
    "px_moy_m2_paris = 33\n",
    "px_moy_m2_idf = 26\n",
    "print('expected:', sup[0] * px_moy_m2_paris)\n",
    "print('expected:', sup[0] * px_moy_m2_idf)"
   ]
  },
  {
   "cell_type": "markdown",
   "metadata": {},
   "source": [
    "- Prix moyen (location) m2 Paris 33€ (SeLoger)\n",
    "- Prix moyen m2 IDF 26€\n",
    "\n",
    "- With a simple linear regression based on Superficie and whether the flat is in Paris or not, the model correctly predicts the average price for:\n",
    "    - 60m2 flats (for Paris m2 price)\n",
    "    - 220m2 flats (for IDF m2 price)\n",
    "\n",
    "- It has specialized in Paris prices"
   ]
  },
  {
   "cell_type": "markdown",
   "metadata": {},
   "source": [
    "## Improve linear regressor v2\n",
    "- 3 feats linear regressor\n",
    "- Feats: Superficie, Paris, returns (used as a proxy for Code_postal)\n",
    "- R2 score: 79%\n",
    "\n",
    "Trained and tested on areas with returns only (droped NAs)"
   ]
  },
  {
   "cell_type": "markdown",
   "metadata": {},
   "source": [
    "### Split X and y"
   ]
  },
  {
   "cell_type": "code",
   "execution_count": 16,
   "metadata": {},
   "outputs": [
    {
     "data": {
      "text/plain": "Index(['Code_postal', 'Pièces', 'Chambres', 'Superficie', 'Loyer', 'returns',\n       'risk', 'ratio', 'Paris'],\n      dtype='object')"
     },
     "execution_count": 16,
     "metadata": {},
     "output_type": "execute_result"
    }
   ],
   "source": [
    "rentals_train.columns"
   ]
  },
  {
   "cell_type": "code",
   "execution_count": 17,
   "metadata": {},
   "outputs": [],
   "source": [
    "# Drop na\n",
    "rentals_train_no_na = rentals_train[~rentals_train['returns'].isna()]\n",
    "rentals_test_no_na = rentals_test[~rentals_test['returns'].isna()]"
   ]
  },
  {
   "cell_type": "code",
   "execution_count": 18,
   "metadata": {},
   "outputs": [],
   "source": [
    "target = 'Loyer'\n",
    "features =  ['Superficie', 'Paris', 'returns']\n",
    "X_train = rentals_train_no_na[features]\n",
    "y_train = rentals_train_no_na[target]\n",
    "\n",
    "X_test = rentals_test_no_na[features]\n",
    "y_test = rentals_test_no_na[target]"
   ]
  },
  {
   "cell_type": "markdown",
   "metadata": {},
   "source": [
    "### Train and predict with 3 variables linear regression"
   ]
  },
  {
   "cell_type": "code",
   "execution_count": 19,
   "metadata": {},
   "outputs": [],
   "source": [
    "reg = LinearRegression().fit(X_train, y_train)"
   ]
  },
  {
   "cell_type": "code",
   "execution_count": 20,
   "metadata": {},
   "outputs": [
    {
     "name": "stdout",
     "output_type": "stream",
     "text": [
      "train 0.7883943475243845\n",
      "test 0.7977031609195676\n"
     ]
    }
   ],
   "source": [
    "print(\"train\", reg.score(X_train, y_train))\n",
    "print(\"test\", reg.score(X_test, y_test))"
   ]
  },
  {
   "cell_type": "code",
   "execution_count": 21,
   "metadata": {},
   "outputs": [
    {
     "name": "stdout",
     "output_type": "stream",
     "text": [
      "Coefs: [   26.5    366.66 -4939.76]\n",
      "Intercept: 323.62\n"
     ]
    }
   ],
   "source": [
    "print(\"Coefs:\", reg.coef_.round(2))\n",
    "print(\"Intercept:\", round(reg.intercept_, 2))"
   ]
  },
  {
   "cell_type": "markdown",
   "metadata": {},
   "source": [
    "## Tree regressor V0\n",
    "- 3 feats tree regressor\n",
    "- Feats: Superficie, Paris, returns (used as a proxy for Code_postal)\n",
    "- R2 score: 81%\n",
    "\n",
    "Trained and tested on areas with returns only (droped NAs)"
   ]
  },
  {
   "cell_type": "markdown",
   "metadata": {},
   "source": [
    "### Split X and y"
   ]
  },
  {
   "cell_type": "code",
   "execution_count": 22,
   "metadata": {},
   "outputs": [
    {
     "data": {
      "text/plain": "Index(['Code_postal', 'Pièces', 'Chambres', 'Superficie', 'Loyer', 'returns',\n       'risk', 'ratio', 'Paris'],\n      dtype='object')"
     },
     "execution_count": 22,
     "metadata": {},
     "output_type": "execute_result"
    }
   ],
   "source": [
    "rentals_train.columns"
   ]
  },
  {
   "cell_type": "code",
   "execution_count": 23,
   "metadata": {},
   "outputs": [],
   "source": [
    "# Drop na\n",
    "rentals_train_no_na = rentals_train[~rentals_train['returns'].isna()]\n",
    "rentals_test_no_na = rentals_test[~rentals_test['returns'].isna()]"
   ]
  },
  {
   "cell_type": "code",
   "execution_count": 24,
   "metadata": {},
   "outputs": [],
   "source": [
    "target = 'Loyer'\n",
    "features =  ['Superficie', 'Paris', 'returns']\n",
    "X_train = rentals_train_no_na[features]\n",
    "y_train = rentals_train_no_na[target]\n",
    "\n",
    "X_test = rentals_test_no_na[features]\n",
    "y_test = rentals_test_no_na[target]"
   ]
  },
  {
   "cell_type": "markdown",
   "metadata": {},
   "source": [
    "### Train and predict with 3 variables tree regression"
   ]
  },
  {
   "cell_type": "code",
   "execution_count": 25,
   "metadata": {},
   "outputs": [],
   "source": [
    "reg = DecisionTreeRegressor(random_state=0)"
   ]
  },
  {
   "cell_type": "code",
   "execution_count": 26,
   "metadata": {},
   "outputs": [
    {
     "data": {
      "text/plain": "array([0.83204939, 0.78410989, 0.83242064, 0.79387243, 0.82466807,\n       0.82013681, 0.80529011, 0.79245506, 0.82620423, 0.81444634])"
     },
     "execution_count": 26,
     "metadata": {},
     "output_type": "execute_result"
    }
   ],
   "source": [
    "cross_val_score(reg, X_train, y_train, cv=10)"
   ]
  },
  {
   "cell_type": "code",
   "execution_count": 27,
   "metadata": {},
   "outputs": [],
   "source": [
    "result = cross_validate(reg, X_train, y_train, cv=10, return_estimator=True)"
   ]
  },
  {
   "cell_type": "code",
   "execution_count": 28,
   "metadata": {},
   "outputs": [],
   "source": [
    "scores = []\n",
    "for estimator in result['estimator']:\n",
    "    pred = estimator.predict(X_test)\n",
    "    score = r2_score(y_test, pred)\n",
    "    scores.append(score)\n",
    "\n",
    "avg_score = np.array(scores).mean()"
   ]
  },
  {
   "cell_type": "code",
   "execution_count": 29,
   "metadata": {},
   "outputs": [
    {
     "data": {
      "text/plain": "0.81"
     },
     "execution_count": 29,
     "metadata": {},
     "output_type": "execute_result"
    }
   ],
   "source": [
    "round(avg_score, 2)"
   ]
  },
  {
   "cell_type": "code",
   "execution_count": 30,
   "metadata": {},
   "outputs": [],
   "source": [
    "def get_area_metrics(postal_code, data_complete, metrics=['Paris', 'returns', 'risk', 'ratio']):\n",
    "    \"\"\" Get the returns for the given postal_code \"\"\"\n",
    "    r = data_complete[data_complete['Code_postal'] == postal_code][metrics].iloc[0]\n",
    "    return r"
   ]
  },
  {
   "cell_type": "code",
   "execution_count": 31,
   "metadata": {},
   "outputs": [
    {
     "data": {
      "text/plain": "array([723.75])"
     },
     "execution_count": 31,
     "metadata": {},
     "output_type": "execute_result"
    }
   ],
   "source": [
    "postal_code = 75013\n",
    "superficie = 14\n",
    "\n",
    "metrics = get_area_metrics(postal_code, rentals_train)\n",
    "new = np.array([superficie, metrics['Paris'], metrics['returns']])\n",
    "\n",
    "pred = estimator.predict([new])\n",
    "pred"
   ]
  },
  {
   "cell_type": "markdown",
   "metadata": {},
   "source": [
    "- A 11m2 flat is more expensive in 75013 (670) than in 75016 (594)\n",
    "- A 14m2 flat is more expensive in 75016 (831) than in 75013 (723)\n",
    "\n",
    "- Which is not true, 75016 is (almost) systematically more expensive\n",
    "- Also, prices here are overvalued"
   ]
  },
  {
   "cell_type": "markdown",
   "metadata": {},
   "source": [
    "## Random Forest V0\n",
    "- 3 feats random forest regressor\n",
    "- Feats: Superficie, Paris, returns (used as a proxy for Code_postal)\n",
    "- R2 score: 85%\n",
    "\n",
    "Trained and tested on areas with returns only (droped NAs)"
   ]
  },
  {
   "cell_type": "markdown",
   "metadata": {},
   "source": [
    "### Split X and y"
   ]
  },
  {
   "cell_type": "code",
   "execution_count": 32,
   "metadata": {},
   "outputs": [],
   "source": [
    "# Drop na\n",
    "rentals_train_no_na = rentals_train[~rentals_train['returns'].isna()]\n",
    "rentals_test_no_na = rentals_test[~rentals_test['returns'].isna()]"
   ]
  },
  {
   "cell_type": "code",
   "execution_count": 33,
   "metadata": {},
   "outputs": [],
   "source": [
    "target = 'Loyer'\n",
    "features =  ['Superficie', 'Paris', 'returns']\n",
    "X_train = rentals_train_no_na[features]\n",
    "y_train = rentals_train_no_na[target]\n",
    "\n",
    "X_test = rentals_test_no_na[features]\n",
    "y_test = rentals_test_no_na[target]"
   ]
  },
  {
   "cell_type": "markdown",
   "metadata": {},
   "source": [
    "### Train and predict with 3 variables RF regression"
   ]
  },
  {
   "cell_type": "code",
   "execution_count": 34,
   "metadata": {},
   "outputs": [],
   "source": [
    "reg = RandomForestRegressor(max_depth=7, random_state=25)"
   ]
  },
  {
   "cell_type": "code",
   "execution_count": 35,
   "metadata": {},
   "outputs": [
    {
     "data": {
      "text/plain": "RandomForestRegressor(max_depth=7, random_state=25)"
     },
     "execution_count": 35,
     "metadata": {},
     "output_type": "execute_result"
    }
   ],
   "source": [
    "reg.fit(X_train, y_train)"
   ]
  },
  {
   "cell_type": "code",
   "execution_count": 36,
   "metadata": {},
   "outputs": [
    {
     "data": {
      "text/plain": "0.87"
     },
     "execution_count": 36,
     "metadata": {},
     "output_type": "execute_result"
    }
   ],
   "source": [
    "round(reg.score(X_train, y_train), 2)"
   ]
  },
  {
   "cell_type": "code",
   "execution_count": 37,
   "metadata": {},
   "outputs": [
    {
     "data": {
      "text/plain": "0.85"
     },
     "execution_count": 37,
     "metadata": {},
     "output_type": "execute_result"
    }
   ],
   "source": [
    "round(reg.score(X_test, y_test), 2)"
   ]
  },
  {
   "cell_type": "code",
   "execution_count": 38,
   "metadata": {},
   "outputs": [],
   "source": [
    "def get_area_metrics(postal_code, data_complete, metrics=['Paris', 'returns', 'risk', 'ratio']):\n",
    "    \"\"\" Get the returns for the given postal_code \"\"\"\n",
    "    r = data_complete[data_complete['Code_postal'] == postal_code][metrics].iloc[0]\n",
    "    return r"
   ]
  },
  {
   "cell_type": "code",
   "execution_count": 39,
   "metadata": {},
   "outputs": [
    {
     "data": {
      "text/plain": "array([744.99307208])"
     },
     "execution_count": 39,
     "metadata": {},
     "output_type": "execute_result"
    }
   ],
   "source": [
    "postal_code = 75013\n",
    "superficie = 14\n",
    "\n",
    "metrics = get_area_metrics(postal_code, rentals_train)\n",
    "new = np.array([superficie, metrics['Paris'], metrics['returns']])\n",
    "\n",
    "pred = reg.predict([new])\n",
    "pred"
   ]
  },
  {
   "cell_type": "markdown",
   "metadata": {},
   "source": [
    "## Random Forest V1\n",
    "- Large n_feats random forest regressor\n",
    "- Feats: Superficie, Paris, and Postal codes\n",
    "- R2 score: ?\n",
    "\n",
    "Trained and tested on areas with returns only (droped NAs)"
   ]
  },
  {
   "cell_type": "markdown",
   "metadata": {},
   "source": [
    "### One-hot encode Code_postal"
   ]
  },
  {
   "cell_type": "code",
   "execution_count": 40,
   "metadata": {},
   "outputs": [],
   "source": [
    "code_postal_dummies = pd.get_dummies(rentals_train['Code_postal'])"
   ]
  }
 ],
 "metadata": {
  "interpreter": {
   "hash": "143a8234bd608e0b612203721941a09deaaeca24e144d77d0b745dc3344134be"
  },
  "kernelspec": {
   "display_name": "Python 3.9.2 64-bit ('eda': conda)",
   "name": "python3"
  },
  "language_info": {
   "codemirror_mode": {
    "name": "ipython",
    "version": 3
   },
   "file_extension": ".py",
   "mimetype": "text/x-python",
   "name": "python",
   "nbconvert_exporter": "python",
   "pygments_lexer": "ipython3",
   "version": "3.9.2"
  },
  "orig_nbformat": 2
 },
 "nbformat": 4,
 "nbformat_minor": 2
}