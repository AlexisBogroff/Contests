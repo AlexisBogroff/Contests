{
 "cells": [
  {
   "cell_type": "code",
   "execution_count": null,
   "metadata": {},
   "outputs": [],
   "source": []
  }
 ],
 "metadata": {
  "interpreter": {
   "hash": "143a8234bd608e0b612203721941a09deaaeca24e144d77d0b745dc3344134be"
  },
  "kernelspec": {
   "display_name": "Python 3.9.2 64-bit ('eda': conda)",
   "name": "python3"
  },
  "language_info": {
   "name": "python",
   "version": ""
  },
  "orig_nbformat": 2
 },
 "nbformat": 4,
 "nbformat_minor": 2
}