{
 "cells": [
  {
   "cell_type": "markdown",
   "metadata": {},
   "source": [
    "# Presentation\n",
    "\n",
    "#### Goal: Predict the number of nights granted to a request (not to an individual)\n",
    "\n",
    "\n",
    "#### Caracteristics of the model:\n",
    "Accuracy:\n",
    "- if used as a clearing tool removing overburden upfront, and thus only to get rid of obvious cases, the accuracy of such a tool could be its most important caracteristic.\n",
    "\n",
    "Interpretability:\n",
    "- could help families understand the decision (although not as important as in diseases predictions).\n",
    "- can also highlight and thus control biases (racial, sex, age).\n",
    "- since the tool would probably be used in combination with human selection, it could help save time by highlighting the main factors for each decision\n",
    "\n",
    "#### Conclusion:\n",
    "- a model easily interpretable could be prefered (tree).\n",
    "- or a highly accurate model (less interpretable) could also be used upfront (NN).\n",
    "\n",
    "\n",
    "#### Future improvements\n",
    "\n",
    "Imputations:\n",
    "- Build more robust, generalisable imputations (eg. impute future test samples with missing gender based on all easily interpretable categories group_composition_label and group_composition_id)\n",
    "\n",
    "- Automate NaNs imputation for future test samples\n",
    "\n",
    "- Reconstruct some NaNs by training models to predict the feature\n",
    "\n",
    "\n",
    "Datasets handling\n",
    "- I made the choice to keep the train and test sets split. This is to prevent gaining insight from the test set while doing pre-processing, analysis and while training the model. To prevent duplicate code, I thus placed most of the inner workings in the class Analysis, which makes the reading less fluent. To improve, see how to better combine the visual aspect of Jupyter Notebooks, while maintaining code standards like DRY philosophy.\n",
    "\n",
    "\n",
    "Pre-processing\n",
    "- impact historical data with the known global crises (financial crisis, immigration waves)"
   ]
  },
  {
   "cell_type": "markdown",
   "metadata": {},
   "source": [
    "# Plan\n",
    "\n",
    "I. Initialization\n",
    "\n",
    "1. Import packages, classes, functions\n",
    "\n",
    "2. Load databases (no join)\n",
    "\n",
    "3. Instantiate object Analysis\n",
    "\n",
    "\n",
    "II. Analyze I\n",
    "\n",
    "1. Overview\n",
    "\n",
    "2. Features: corr, dist, impact\n",
    "\n",
    "\n",
    "III. Pre-process data\n",
    "\n",
    "1. Impute NaNs\n",
    "\n",
    "2. Impute never seen before test set NaNs\n",
    "\n",
    "3. Remove outliers\n",
    "\n",
    "4. Transform categorical features\n",
    "\n",
    "5. Feature engineer\n",
    "\n",
    "\n",
    "\n",
    "IV. Analyze II\n",
    "\n",
    "1. Impact engineered features\n",
    "\n",
    "\n",
    "V. Build Model\n",
    "\n",
    "1. Benchmakrs\n",
    "\n",
    "2. Rush pytorch NN\n",
    "\n",
    "3. Simple model using principal components\n",
    "\n",
    "4. Ensemble\n",
    "\n",
    "\n",
    "VI. Predictions\n",
    "\n",
    "1. Train and Predict\n",
    "\n",
    "2. Hyperparameter tunning (split train set)\n",
    "\n",
    "\n",
    "VII. Evaluate methods\n"
   ]
  },
  {
   "cell_type": "markdown",
   "metadata": {},
   "source": [
    "# Initialization"
   ]
  },
  {
   "cell_type": "markdown",
   "metadata": {},
   "source": [
    "## Import and settings"
   ]
  },
  {
   "cell_type": "code",
   "execution_count": 1,
   "metadata": {},
   "outputs": [],
   "source": [
    "import os\n",
    "import numpy as np\n",
    "import pandas as pd\n",
    "import matplotlib.pyplot as plt\n",
    "\n",
    "# ML\n",
    "from sklearn.metrics import log_loss\n",
    "from sklearn import tree\n",
    "\n",
    "# DL\n",
    "import torch\n",
    "from torch.utils.data import Dataset, DataLoader\n",
    "from torch.nn import Linear\n",
    "from torch import nn, optim\n",
    "\n",
    "# Utils\n",
    "import cobratools as cobra"
   ]
  },
  {
   "cell_type": "code",
   "execution_count": 3,
   "metadata": {},
   "outputs": [],
   "source": [
    "# set to False to only apply data transformations\n",
    "# (rather than derive the whole analysis)\n",
    "ANALYZE_ON = True\n",
    "\n",
    "# False for the competition, True if predicting > year 2019 requests\n",
    "FUTURE_PRED = False\n",
    "\n",
    "# Takes ±4min\n",
    "IMPUTE_NANS = True\n",
    "EXPORT_DATA = False\n",
    "\n",
    "# Set to True to visualize\n",
    "PRINT_ON = True  # verbose\n",
    "PLOT_ON = True"
   ]
  },
  {
   "cell_type": "markdown",
   "metadata": {},
   "source": [
    "## Load data"
   ]
  },
  {
   "cell_type": "code",
   "execution_count": 4,
   "metadata": {},
   "outputs": [],
   "source": [
    "requests_train = pd.read_csv(filepath_or_buffer='data/requests_train.csv',\n",
    "                            sep=',',\n",
    "                            low_memory=False,\n",
    "                            error_bad_lines=False)\n",
    "\n",
    "requests_test = pd.read_csv(filepath_or_buffer='data/requests_test.csv',\n",
    "                            sep=',',\n",
    "                            low_memory=False,\n",
    "                            error_bad_lines=False)\n",
    "\n",
    "individuals_train = pd.read_csv(filepath_or_buffer='data/individuals_train.csv',\n",
    "                                sep=',',\n",
    "                                low_memory=False,\n",
    "                                error_bad_lines=False)\n",
    "\n",
    "individuals_test = pd.read_csv(filepath_or_buffer='data/individuals_test.csv',\n",
    "                            sep=',',\n",
    "                            low_memory=False,\n",
    "                            error_bad_lines=False)"
   ]
  },
  {
   "cell_type": "markdown",
   "metadata": {},
   "source": [
    "## Join datasets\n",
    "\n",
    "Since there are multiple requests by individuals and multiple individuals by request, the straightfoward approach would be to create columns for each individual' informations. This way, no information would be lost, but the curse of dimensionality is very near and the number of samples might be too low to extract useful information.\n",
    "\n",
    "The chosen approach is rather to only keep the request dataset' columns, and feature engineer additional columns based on the individuals data, eg.:\n",
    "- nb of past requests made by the same individual\n",
    "- nb nights granted in past requests of the same individual(s)/group\n",
    "- gender diversity of the group\n",
    "- etc.\n",
    "\n",
    "However, for analytics purpose, a dataframe with all the data is also created."
   ]
  },
  {
   "cell_type": "code",
   "execution_count": 5,
   "metadata": {},
   "outputs": [],
   "source": [
    "if ANALYZE_ON:\n",
    "    # Merge request and individuals datasets, for analytics purpose only\n",
    "    df_full_train = pd.merge(requests_train, individuals_train, on='request_id')"
   ]
  },
  {
   "cell_type": "code",
   "execution_count": 6,
   "metadata": {},
   "outputs": [],
   "source": [
    "# Set index col as request id\n",
    "# (not for individuals data set, since there is no pkey currently)\n",
    "# (hence not for obj_full_train either)\n",
    "requests_train.set_index('request_id', inplace=True)\n",
    "requests_test.set_index('request_id', inplace=True)"
   ]
  },
  {
   "cell_type": "markdown",
   "metadata": {},
   "source": [
    "## Instantiate object analysis\n",
    "\n",
    "obj_train and obj_test will be the main dataframes, used for training and testing the model\n",
    "\n",
    "They are primilary built with the request data sets, then features engineered from individuals' data sets are added"
   ]
  },
  {
   "cell_type": "code",
   "execution_count": 8,
   "metadata": {},
   "outputs": [],
   "source": [
    "# Instantiate analysis object with request data\n",
    "obj_train = cobra.Analysis(requests_train)\n",
    "obj_test = cobra.Analysis(requests_test)\n",
    "obj_full_train = cobra.Analysis(df_full_train)\n",
    "\n",
    "# Define properties\n",
    "\n",
    "# - target\n",
    "target = 'granted_number_of_nights' \n",
    "obj_train.target = target\n",
    "obj_full_train.target = target\n",
    "\n",
    "# - shape\n",
    "obj_train.m = obj_train.df.shape[0]\n",
    "obj_test.m = obj_test.df.shape[0]\n",
    "obj_train.n = obj_train.df.shape[1]\n",
    "obj_test.n = obj_test.df.shape[1]\n",
    "obj_full_train.m = obj_full_train.df.shape[0]\n",
    "obj_full_train.n = obj_full_train.df.shape[1]"
   ]
  },
  {
   "cell_type": "markdown",
   "metadata": {},
   "source": [
    "# Analysis I"
   ]
  },
  {
   "cell_type": "markdown",
   "metadata": {},
   "source": [
    "Overview\n",
    "\n",
    "- Number of requests: 238191\n",
    "\n",
    "- Number of individuals: 384133\n",
    "\n",
    "- Number of features: 39\n",
    "\n",
    "- Requests are made for 1.6 pers on average.\n",
    "\n",
    "\n",
    "Principal components\n",
    "- housing_situation_label: with value \"emergency accomodation\". High probability to get 1 or two nights. Logical since the service treats emergency housing\n",
    "- housing_situation_2_label: with value \"emergency accomodation\". High probability to get 1 or two nights.\n",
    "\n",
    "--------------------\n",
    "\n",
    "\n",
    "Analysis by features\n",
    "\n",
    "\n",
    "A. housing_situation_id\n",
    "- correlation target-housing_situation_id: -0.458581. Strong negative impact. Although the linear numerical relation of the housing_situation_id categories is in my opinion flawed, the strong correlation is explainable as the category with the smallest value \"emergency accomodation\" might be correlated with higher granted_number_of_nights than the rest of the categories, which happen to have higher housing_situation_id values.\n",
    "\n",
    "- housing_situation_2_id: 0.283840. Strong positive impact. Same explanation as housing_situation_id.\n",
    "\n",
    "B. pregnancy\n",
    "- Pregnancy seems not to have a significant direct correlation with target"
   ]
  },
  {
   "cell_type": "markdown",
   "metadata": {},
   "source": [
    "## Overview"
   ]
  },
  {
   "cell_type": "code",
   "execution_count": 697,
   "metadata": {
    "tags": [
     "outputPrepend",
     "outputPrepend",
     "outputPrepend",
     "outputPrepend"
    ]
   },
   "outputs": [],
   "source": [
    "if ANALYZE_ON:\n",
    "    obj_train.describe(investigation_level=3)"
   ]
  },
  {
   "cell_type": "code",
   "execution_count": null,
   "metadata": {},
   "outputs": [],
   "source": [
    "if ANALYZE_ON:\n",
    "    obj_train.visualize()"
   ]
  },
  {
   "cell_type": "markdown",
   "metadata": {},
   "source": [
    "## Analysis by features"
   ]
  },
  {
   "cell_type": "markdown",
   "metadata": {},
   "source": [
    "### housing_situation_2_label\n",
    "\n",
    "- ±42% (160,061) indiv with 'housing_situation_label' == 'street'\n",
    "\n",
    "- ±41% (156,496) indiv with 'housing_situation_label' == 'street' and 'housing_situation_2_label' == 'on the street'\n",
    "\n",
    "- ±75% (289,870) individuals are \"on the street\"\n",
    "\n",
    "- A majority of requests with the label \"emergency accomodation\" obtains 1 or 2 nights."
   ]
  },
  {
   "cell_type": "markdown",
   "metadata": {},
   "source": [
    "#### Distribution"
   ]
  },
  {
   "cell_type": "code",
   "execution_count": 9,
   "metadata": {},
   "outputs": [
    {
     "output_type": "stream",
     "name": "stdout",
     "text": "on the street                                      289870\nhotel paid by the emergency structure               39716\nemergency accomodation                              14872\nday center, social services, associations           14479\naccomodated by friends or other                      6694\nother                                                6449\nreception center for asylum seeker                   2599\npublic instition (hospital, retirement home)         2413\naccomodated by family                                1602\nhotel not paid by an emergency structure             1332\nwinter plan center                                    953\nprivate housing rental                                494\nemergency accomodation centre for asylum seeker       437\npublic housing rental                                 365\nresidential roaming                                   280\nchild care                                            271\nmedical centre                                        243\nemergency centre for asylum seeker                    236\ninclusion accomodation                                223\nevicted from public housing rental                    173\nevicted from private housing rental                   146\nhostel                                                 89\nstabilisation accomodation                             81\ndetention                                              46\nsocial housing                                         32\nsupported housing                                      21\nhouse share                                            15\nrelay house                                             2\nName: housing_situation_2_label, dtype: int64\n"
    }
   ],
   "source": [
    "if ANALYZE_ON:\n",
    "    # ±42% (160,061) indiv with 'housing_situation_label' == 'street'\n",
    "    obj_full_train.df[obj_full_train.df['housing_situation_label'] == 'street']\n",
    "\n",
    "    # ±41% (156,496) indiv with 'housing_situation_label' == 'street' and 'housing_situation_2_label' == 'on the street'\n",
    "    obj_full_train.df.query(\"housing_situation_label == 'street' and housing_situation_2_label == 'on the street'\")\n",
    "\n",
    "    # ±75% (289,870) individuals are \"on the street\"\n",
    "    print(obj_full_train.df['housing_situation_2_label'].value_counts())"
   ]
  },
  {
   "cell_type": "code",
   "execution_count": 10,
   "metadata": {},
   "outputs": [
    {
     "output_type": "display_data",
     "data": {
      "text/plain": "<Figure size 432x288 with 1 Axes>",
      "image/svg+xml": "<?xml version=\"1.0\" encoding=\"utf-8\" standalone=\"no\"?>\n<!DOCTYPE svg PUBLIC \"-//W3C//DTD SVG 1.1//EN\"\n  \"http://www.w3.org/Graphics/SVG/1.1/DTD/svg11.dtd\">\n<!-- Created with matplotlib (https://matplotlib.org/) -->\n<svg height=\"263.63625pt\" version=\"1.1\" viewBox=\"0 0 381.65 263.63625\" width=\"381.65pt\" xmlns=\"http://www.w3.org/2000/svg\" xmlns:xlink=\"http://www.w3.org/1999/xlink\">\n <defs>\n  <style type=\"text/css\">\n*{stroke-linecap:butt;stroke-linejoin:round;}\n  </style>\n </defs>\n <g id=\"figure_1\">\n  <g id=\"patch_1\">\n   <path d=\"M -0 263.63625 \nL 381.65 263.63625 \nL 381.65 0 \nL -0 0 \nz\n\" style=\"fill:none;\"/>\n  </g>\n  <g id=\"axes_1\">\n   <g id=\"patch_2\">\n    <path d=\"M 39.65 239.758125 \nL 374.45 239.758125 \nL 374.45 22.318125 \nL 39.65 22.318125 \nz\n\" style=\"fill:#ffffff;\"/>\n   </g>\n   <g id=\"patch_3\">\n    <path clip-path=\"url(#p2f7c786cbe)\" d=\"M 54.868182 239.758125 \nL 85.304545 239.758125 \nL 85.304545 158.644323 \nL 54.868182 158.644323 \nz\n\" style=\"fill:#1f77b4;\"/>\n   </g>\n   <g id=\"patch_4\">\n    <path clip-path=\"url(#p2f7c786cbe)\" d=\"M 85.304545 239.758125 \nL 115.740909 239.758125 \nL 115.740909 239.758125 \nL 85.304545 239.758125 \nz\n\" style=\"fill:#1f77b4;\"/>\n   </g>\n   <g id=\"patch_5\">\n    <path clip-path=\"url(#p2f7c786cbe)\" d=\"M 115.740909 239.758125 \nL 146.177273 239.758125 \nL 146.177273 239.758125 \nL 115.740909 239.758125 \nz\n\" style=\"fill:#1f77b4;\"/>\n   </g>\n   <g id=\"patch_6\">\n    <path clip-path=\"url(#p2f7c786cbe)\" d=\"M 146.177273 239.758125 \nL 176.613636 239.758125 \nL 176.613636 32.672411 \nL 146.177273 32.672411 \nz\n\" style=\"fill:#1f77b4;\"/>\n   </g>\n   <g id=\"patch_7\">\n    <path clip-path=\"url(#p2f7c786cbe)\" d=\"M 176.613636 239.758125 \nL 207.05 239.758125 \nL 207.05 239.758125 \nL 176.613636 239.758125 \nz\n\" style=\"fill:#1f77b4;\"/>\n   </g>\n   <g id=\"patch_8\">\n    <path clip-path=\"url(#p2f7c786cbe)\" d=\"M 207.05 239.758125 \nL 237.486364 239.758125 \nL 237.486364 239.758125 \nL 207.05 239.758125 \nz\n\" style=\"fill:#1f77b4;\"/>\n   </g>\n   <g id=\"patch_9\">\n    <path clip-path=\"url(#p2f7c786cbe)\" d=\"M 237.486364 239.758125 \nL 267.922727 239.758125 \nL 267.922727 112.863206 \nL 237.486364 112.863206 \nz\n\" style=\"fill:#1f77b4;\"/>\n   </g>\n   <g id=\"patch_10\">\n    <path clip-path=\"url(#p2f7c786cbe)\" d=\"M 267.922727 239.758125 \nL 298.359091 239.758125 \nL 298.359091 239.758125 \nL 267.922727 239.758125 \nz\n\" style=\"fill:#1f77b4;\"/>\n   </g>\n   <g id=\"patch_11\">\n    <path clip-path=\"url(#p2f7c786cbe)\" d=\"M 298.359091 239.758125 \nL 328.795455 239.758125 \nL 328.795455 239.758125 \nL 298.359091 239.758125 \nz\n\" style=\"fill:#1f77b4;\"/>\n   </g>\n   <g id=\"patch_12\">\n    <path clip-path=\"url(#p2f7c786cbe)\" d=\"M 328.795455 239.758125 \nL 359.231818 239.758125 \nL 359.231818 228.497447 \nL 328.795455 228.497447 \nz\n\" style=\"fill:#1f77b4;\"/>\n   </g>\n   <g id=\"matplotlib.axis_1\">\n    <g id=\"xtick_1\">\n     <g id=\"line2d_1\">\n      <path clip-path=\"url(#p2f7c786cbe)\" d=\"M 54.868182 239.758125 \nL 54.868182 22.318125 \n\" style=\"fill:none;stroke:#b0b0b0;stroke-linecap:square;stroke-width:0.8;\"/>\n     </g>\n     <g id=\"line2d_2\">\n      <defs>\n       <path d=\"M 0 0 \nL 0 3.5 \n\" id=\"m3f3d95a133\" style=\"stroke:#000000;stroke-width:0.8;\"/>\n      </defs>\n      <g>\n       <use style=\"stroke:#000000;stroke-width:0.8;\" x=\"54.868182\" xlink:href=\"#m3f3d95a133\" y=\"239.758125\"/>\n      </g>\n     </g>\n     <g id=\"text_1\">\n      <!-- 0.0 -->\n      <defs>\n       <path d=\"M 31.78125 66.40625 \nQ 24.171875 66.40625 20.328125 58.90625 \nQ 16.5 51.421875 16.5 36.375 \nQ 16.5 21.390625 20.328125 13.890625 \nQ 24.171875 6.390625 31.78125 6.390625 \nQ 39.453125 6.390625 43.28125 13.890625 \nQ 47.125 21.390625 47.125 36.375 \nQ 47.125 51.421875 43.28125 58.90625 \nQ 39.453125 66.40625 31.78125 66.40625 \nz\nM 31.78125 74.21875 \nQ 44.046875 74.21875 50.515625 64.515625 \nQ 56.984375 54.828125 56.984375 36.375 \nQ 56.984375 17.96875 50.515625 8.265625 \nQ 44.046875 -1.421875 31.78125 -1.421875 \nQ 19.53125 -1.421875 13.0625 8.265625 \nQ 6.59375 17.96875 6.59375 36.375 \nQ 6.59375 54.828125 13.0625 64.515625 \nQ 19.53125 74.21875 31.78125 74.21875 \nz\n\" id=\"DejaVuSans-48\"/>\n       <path d=\"M 10.6875 12.40625 \nL 21 12.40625 \nL 21 0 \nL 10.6875 0 \nz\n\" id=\"DejaVuSans-46\"/>\n      </defs>\n      <g transform=\"translate(46.916619 254.356563)scale(0.1 -0.1)\">\n       <use xlink:href=\"#DejaVuSans-48\"/>\n       <use x=\"63.623047\" xlink:href=\"#DejaVuSans-46\"/>\n       <use x=\"95.410156\" xlink:href=\"#DejaVuSans-48\"/>\n      </g>\n     </g>\n    </g>\n    <g id=\"xtick_2\">\n     <g id=\"line2d_3\">\n      <path clip-path=\"url(#p2f7c786cbe)\" d=\"M 105.595455 239.758125 \nL 105.595455 22.318125 \n\" style=\"fill:none;stroke:#b0b0b0;stroke-linecap:square;stroke-width:0.8;\"/>\n     </g>\n     <g id=\"line2d_4\">\n      <g>\n       <use style=\"stroke:#000000;stroke-width:0.8;\" x=\"105.595455\" xlink:href=\"#m3f3d95a133\" y=\"239.758125\"/>\n      </g>\n     </g>\n     <g id=\"text_2\">\n      <!-- 0.5 -->\n      <defs>\n       <path d=\"M 10.796875 72.90625 \nL 49.515625 72.90625 \nL 49.515625 64.59375 \nL 19.828125 64.59375 \nL 19.828125 46.734375 \nQ 21.96875 47.46875 24.109375 47.828125 \nQ 26.265625 48.1875 28.421875 48.1875 \nQ 40.625 48.1875 47.75 41.5 \nQ 54.890625 34.8125 54.890625 23.390625 \nQ 54.890625 11.625 47.5625 5.09375 \nQ 40.234375 -1.421875 26.90625 -1.421875 \nQ 22.3125 -1.421875 17.546875 -0.640625 \nQ 12.796875 0.140625 7.71875 1.703125 \nL 7.71875 11.625 \nQ 12.109375 9.234375 16.796875 8.0625 \nQ 21.484375 6.890625 26.703125 6.890625 \nQ 35.15625 6.890625 40.078125 11.328125 \nQ 45.015625 15.765625 45.015625 23.390625 \nQ 45.015625 31 40.078125 35.4375 \nQ 35.15625 39.890625 26.703125 39.890625 \nQ 22.75 39.890625 18.8125 39.015625 \nQ 14.890625 38.140625 10.796875 36.28125 \nz\n\" id=\"DejaVuSans-53\"/>\n      </defs>\n      <g transform=\"translate(97.643892 254.356563)scale(0.1 -0.1)\">\n       <use xlink:href=\"#DejaVuSans-48\"/>\n       <use x=\"63.623047\" xlink:href=\"#DejaVuSans-46\"/>\n       <use x=\"95.410156\" xlink:href=\"#DejaVuSans-53\"/>\n      </g>\n     </g>\n    </g>\n    <g id=\"xtick_3\">\n     <g id=\"line2d_5\">\n      <path clip-path=\"url(#p2f7c786cbe)\" d=\"M 156.322727 239.758125 \nL 156.322727 22.318125 \n\" style=\"fill:none;stroke:#b0b0b0;stroke-linecap:square;stroke-width:0.8;\"/>\n     </g>\n     <g id=\"line2d_6\">\n      <g>\n       <use style=\"stroke:#000000;stroke-width:0.8;\" x=\"156.322727\" xlink:href=\"#m3f3d95a133\" y=\"239.758125\"/>\n      </g>\n     </g>\n     <g id=\"text_3\">\n      <!-- 1.0 -->\n      <defs>\n       <path d=\"M 12.40625 8.296875 \nL 28.515625 8.296875 \nL 28.515625 63.921875 \nL 10.984375 60.40625 \nL 10.984375 69.390625 \nL 28.421875 72.90625 \nL 38.28125 72.90625 \nL 38.28125 8.296875 \nL 54.390625 8.296875 \nL 54.390625 0 \nL 12.40625 0 \nz\n\" id=\"DejaVuSans-49\"/>\n      </defs>\n      <g transform=\"translate(148.371165 254.356563)scale(0.1 -0.1)\">\n       <use xlink:href=\"#DejaVuSans-49\"/>\n       <use x=\"63.623047\" xlink:href=\"#DejaVuSans-46\"/>\n       <use x=\"95.410156\" xlink:href=\"#DejaVuSans-48\"/>\n      </g>\n     </g>\n    </g>\n    <g id=\"xtick_4\">\n     <g id=\"line2d_7\">\n      <path clip-path=\"url(#p2f7c786cbe)\" d=\"M 207.05 239.758125 \nL 207.05 22.318125 \n\" style=\"fill:none;stroke:#b0b0b0;stroke-linecap:square;stroke-width:0.8;\"/>\n     </g>\n     <g id=\"line2d_8\">\n      <g>\n       <use style=\"stroke:#000000;stroke-width:0.8;\" x=\"207.05\" xlink:href=\"#m3f3d95a133\" y=\"239.758125\"/>\n      </g>\n     </g>\n     <g id=\"text_4\">\n      <!-- 1.5 -->\n      <g transform=\"translate(199.098438 254.356563)scale(0.1 -0.1)\">\n       <use xlink:href=\"#DejaVuSans-49\"/>\n       <use x=\"63.623047\" xlink:href=\"#DejaVuSans-46\"/>\n       <use x=\"95.410156\" xlink:href=\"#DejaVuSans-53\"/>\n      </g>\n     </g>\n    </g>\n    <g id=\"xtick_5\">\n     <g id=\"line2d_9\">\n      <path clip-path=\"url(#p2f7c786cbe)\" d=\"M 257.777273 239.758125 \nL 257.777273 22.318125 \n\" style=\"fill:none;stroke:#b0b0b0;stroke-linecap:square;stroke-width:0.8;\"/>\n     </g>\n     <g id=\"line2d_10\">\n      <g>\n       <use style=\"stroke:#000000;stroke-width:0.8;\" x=\"257.777273\" xlink:href=\"#m3f3d95a133\" y=\"239.758125\"/>\n      </g>\n     </g>\n     <g id=\"text_5\">\n      <!-- 2.0 -->\n      <defs>\n       <path d=\"M 19.1875 8.296875 \nL 53.609375 8.296875 \nL 53.609375 0 \nL 7.328125 0 \nL 7.328125 8.296875 \nQ 12.9375 14.109375 22.625 23.890625 \nQ 32.328125 33.6875 34.8125 36.53125 \nQ 39.546875 41.84375 41.421875 45.53125 \nQ 43.3125 49.21875 43.3125 52.78125 \nQ 43.3125 58.59375 39.234375 62.25 \nQ 35.15625 65.921875 28.609375 65.921875 \nQ 23.96875 65.921875 18.8125 64.3125 \nQ 13.671875 62.703125 7.8125 59.421875 \nL 7.8125 69.390625 \nQ 13.765625 71.78125 18.9375 73 \nQ 24.125 74.21875 28.421875 74.21875 \nQ 39.75 74.21875 46.484375 68.546875 \nQ 53.21875 62.890625 53.21875 53.421875 \nQ 53.21875 48.921875 51.53125 44.890625 \nQ 49.859375 40.875 45.40625 35.40625 \nQ 44.1875 33.984375 37.640625 27.21875 \nQ 31.109375 20.453125 19.1875 8.296875 \nz\n\" id=\"DejaVuSans-50\"/>\n      </defs>\n      <g transform=\"translate(249.82571 254.356563)scale(0.1 -0.1)\">\n       <use xlink:href=\"#DejaVuSans-50\"/>\n       <use x=\"63.623047\" xlink:href=\"#DejaVuSans-46\"/>\n       <use x=\"95.410156\" xlink:href=\"#DejaVuSans-48\"/>\n      </g>\n     </g>\n    </g>\n    <g id=\"xtick_6\">\n     <g id=\"line2d_11\">\n      <path clip-path=\"url(#p2f7c786cbe)\" d=\"M 308.504545 239.758125 \nL 308.504545 22.318125 \n\" style=\"fill:none;stroke:#b0b0b0;stroke-linecap:square;stroke-width:0.8;\"/>\n     </g>\n     <g id=\"line2d_12\">\n      <g>\n       <use style=\"stroke:#000000;stroke-width:0.8;\" x=\"308.504545\" xlink:href=\"#m3f3d95a133\" y=\"239.758125\"/>\n      </g>\n     </g>\n     <g id=\"text_6\">\n      <!-- 2.5 -->\n      <g transform=\"translate(300.552983 254.356563)scale(0.1 -0.1)\">\n       <use xlink:href=\"#DejaVuSans-50\"/>\n       <use x=\"63.623047\" xlink:href=\"#DejaVuSans-46\"/>\n       <use x=\"95.410156\" xlink:href=\"#DejaVuSans-53\"/>\n      </g>\n     </g>\n    </g>\n    <g id=\"xtick_7\">\n     <g id=\"line2d_13\">\n      <path clip-path=\"url(#p2f7c786cbe)\" d=\"M 359.231818 239.758125 \nL 359.231818 22.318125 \n\" style=\"fill:none;stroke:#b0b0b0;stroke-linecap:square;stroke-width:0.8;\"/>\n     </g>\n     <g id=\"line2d_14\">\n      <g>\n       <use style=\"stroke:#000000;stroke-width:0.8;\" x=\"359.231818\" xlink:href=\"#m3f3d95a133\" y=\"239.758125\"/>\n      </g>\n     </g>\n     <g id=\"text_7\">\n      <!-- 3.0 -->\n      <defs>\n       <path d=\"M 40.578125 39.3125 \nQ 47.65625 37.796875 51.625 33 \nQ 55.609375 28.21875 55.609375 21.1875 \nQ 55.609375 10.40625 48.1875 4.484375 \nQ 40.765625 -1.421875 27.09375 -1.421875 \nQ 22.515625 -1.421875 17.65625 -0.515625 \nQ 12.796875 0.390625 7.625 2.203125 \nL 7.625 11.71875 \nQ 11.71875 9.328125 16.59375 8.109375 \nQ 21.484375 6.890625 26.8125 6.890625 \nQ 36.078125 6.890625 40.9375 10.546875 \nQ 45.796875 14.203125 45.796875 21.1875 \nQ 45.796875 27.640625 41.28125 31.265625 \nQ 36.765625 34.90625 28.71875 34.90625 \nL 20.21875 34.90625 \nL 20.21875 43.015625 \nL 29.109375 43.015625 \nQ 36.375 43.015625 40.234375 45.921875 \nQ 44.09375 48.828125 44.09375 54.296875 \nQ 44.09375 59.90625 40.109375 62.90625 \nQ 36.140625 65.921875 28.71875 65.921875 \nQ 24.65625 65.921875 20.015625 65.03125 \nQ 15.375 64.15625 9.8125 62.3125 \nL 9.8125 71.09375 \nQ 15.4375 72.65625 20.34375 73.4375 \nQ 25.25 74.21875 29.59375 74.21875 \nQ 40.828125 74.21875 47.359375 69.109375 \nQ 53.90625 64.015625 53.90625 55.328125 \nQ 53.90625 49.265625 50.4375 45.09375 \nQ 46.96875 40.921875 40.578125 39.3125 \nz\n\" id=\"DejaVuSans-51\"/>\n      </defs>\n      <g transform=\"translate(351.280256 254.356563)scale(0.1 -0.1)\">\n       <use xlink:href=\"#DejaVuSans-51\"/>\n       <use x=\"63.623047\" xlink:href=\"#DejaVuSans-46\"/>\n       <use x=\"95.410156\" xlink:href=\"#DejaVuSans-48\"/>\n      </g>\n     </g>\n    </g>\n   </g>\n   <g id=\"matplotlib.axis_2\">\n    <g id=\"ytick_1\">\n     <g id=\"line2d_15\">\n      <path clip-path=\"url(#p2f7c786cbe)\" d=\"M 39.65 239.758125 \nL 374.45 239.758125 \n\" style=\"fill:none;stroke:#b0b0b0;stroke-linecap:square;stroke-width:0.8;\"/>\n     </g>\n     <g id=\"line2d_16\">\n      <defs>\n       <path d=\"M 0 0 \nL -3.5 0 \n\" id=\"m51d1ce3d9a\" style=\"stroke:#000000;stroke-width:0.8;\"/>\n      </defs>\n      <g>\n       <use style=\"stroke:#000000;stroke-width:0.8;\" x=\"39.65\" xlink:href=\"#m51d1ce3d9a\" y=\"239.758125\"/>\n      </g>\n     </g>\n     <g id=\"text_8\">\n      <!-- 0 -->\n      <g transform=\"translate(26.2875 243.557344)scale(0.1 -0.1)\">\n       <use xlink:href=\"#DejaVuSans-48\"/>\n      </g>\n     </g>\n    </g>\n    <g id=\"ytick_2\">\n     <g id=\"line2d_17\">\n      <path clip-path=\"url(#p2f7c786cbe)\" d=\"M 39.65 202.837869 \nL 374.45 202.837869 \n\" style=\"fill:none;stroke:#b0b0b0;stroke-linecap:square;stroke-width:0.8;\"/>\n     </g>\n     <g id=\"line2d_18\">\n      <g>\n       <use style=\"stroke:#000000;stroke-width:0.8;\" x=\"39.65\" xlink:href=\"#m51d1ce3d9a\" y=\"202.837869\"/>\n      </g>\n     </g>\n     <g id=\"text_9\">\n      <!-- 1000 -->\n      <g transform=\"translate(7.2 206.637088)scale(0.1 -0.1)\">\n       <use xlink:href=\"#DejaVuSans-49\"/>\n       <use x=\"63.623047\" xlink:href=\"#DejaVuSans-48\"/>\n       <use x=\"127.246094\" xlink:href=\"#DejaVuSans-48\"/>\n       <use x=\"190.869141\" xlink:href=\"#DejaVuSans-48\"/>\n      </g>\n     </g>\n    </g>\n    <g id=\"ytick_3\">\n     <g id=\"line2d_19\">\n      <path clip-path=\"url(#p2f7c786cbe)\" d=\"M 39.65 165.917614 \nL 374.45 165.917614 \n\" style=\"fill:none;stroke:#b0b0b0;stroke-linecap:square;stroke-width:0.8;\"/>\n     </g>\n     <g id=\"line2d_20\">\n      <g>\n       <use style=\"stroke:#000000;stroke-width:0.8;\" x=\"39.65\" xlink:href=\"#m51d1ce3d9a\" y=\"165.917614\"/>\n      </g>\n     </g>\n     <g id=\"text_10\">\n      <!-- 2000 -->\n      <g transform=\"translate(7.2 169.716832)scale(0.1 -0.1)\">\n       <use xlink:href=\"#DejaVuSans-50\"/>\n       <use x=\"63.623047\" xlink:href=\"#DejaVuSans-48\"/>\n       <use x=\"127.246094\" xlink:href=\"#DejaVuSans-48\"/>\n       <use x=\"190.869141\" xlink:href=\"#DejaVuSans-48\"/>\n      </g>\n     </g>\n    </g>\n    <g id=\"ytick_4\">\n     <g id=\"line2d_21\">\n      <path clip-path=\"url(#p2f7c786cbe)\" d=\"M 39.65 128.997358 \nL 374.45 128.997358 \n\" style=\"fill:none;stroke:#b0b0b0;stroke-linecap:square;stroke-width:0.8;\"/>\n     </g>\n     <g id=\"line2d_22\">\n      <g>\n       <use style=\"stroke:#000000;stroke-width:0.8;\" x=\"39.65\" xlink:href=\"#m51d1ce3d9a\" y=\"128.997358\"/>\n      </g>\n     </g>\n     <g id=\"text_11\">\n      <!-- 3000 -->\n      <g transform=\"translate(7.2 132.796577)scale(0.1 -0.1)\">\n       <use xlink:href=\"#DejaVuSans-51\"/>\n       <use x=\"63.623047\" xlink:href=\"#DejaVuSans-48\"/>\n       <use x=\"127.246094\" xlink:href=\"#DejaVuSans-48\"/>\n       <use x=\"190.869141\" xlink:href=\"#DejaVuSans-48\"/>\n      </g>\n     </g>\n    </g>\n    <g id=\"ytick_5\">\n     <g id=\"line2d_23\">\n      <path clip-path=\"url(#p2f7c786cbe)\" d=\"M 39.65 92.077102 \nL 374.45 92.077102 \n\" style=\"fill:none;stroke:#b0b0b0;stroke-linecap:square;stroke-width:0.8;\"/>\n     </g>\n     <g id=\"line2d_24\">\n      <g>\n       <use style=\"stroke:#000000;stroke-width:0.8;\" x=\"39.65\" xlink:href=\"#m51d1ce3d9a\" y=\"92.077102\"/>\n      </g>\n     </g>\n     <g id=\"text_12\">\n      <!-- 4000 -->\n      <defs>\n       <path d=\"M 37.796875 64.3125 \nL 12.890625 25.390625 \nL 37.796875 25.390625 \nz\nM 35.203125 72.90625 \nL 47.609375 72.90625 \nL 47.609375 25.390625 \nL 58.015625 25.390625 \nL 58.015625 17.1875 \nL 47.609375 17.1875 \nL 47.609375 0 \nL 37.796875 0 \nL 37.796875 17.1875 \nL 4.890625 17.1875 \nL 4.890625 26.703125 \nz\n\" id=\"DejaVuSans-52\"/>\n      </defs>\n      <g transform=\"translate(7.2 95.876321)scale(0.1 -0.1)\">\n       <use xlink:href=\"#DejaVuSans-52\"/>\n       <use x=\"63.623047\" xlink:href=\"#DejaVuSans-48\"/>\n       <use x=\"127.246094\" xlink:href=\"#DejaVuSans-48\"/>\n       <use x=\"190.869141\" xlink:href=\"#DejaVuSans-48\"/>\n      </g>\n     </g>\n    </g>\n    <g id=\"ytick_6\">\n     <g id=\"line2d_25\">\n      <path clip-path=\"url(#p2f7c786cbe)\" d=\"M 39.65 55.156846 \nL 374.45 55.156846 \n\" style=\"fill:none;stroke:#b0b0b0;stroke-linecap:square;stroke-width:0.8;\"/>\n     </g>\n     <g id=\"line2d_26\">\n      <g>\n       <use style=\"stroke:#000000;stroke-width:0.8;\" x=\"39.65\" xlink:href=\"#m51d1ce3d9a\" y=\"55.156846\"/>\n      </g>\n     </g>\n     <g id=\"text_13\">\n      <!-- 5000 -->\n      <g transform=\"translate(7.2 58.956065)scale(0.1 -0.1)\">\n       <use xlink:href=\"#DejaVuSans-53\"/>\n       <use x=\"63.623047\" xlink:href=\"#DejaVuSans-48\"/>\n       <use x=\"127.246094\" xlink:href=\"#DejaVuSans-48\"/>\n       <use x=\"190.869141\" xlink:href=\"#DejaVuSans-48\"/>\n      </g>\n     </g>\n    </g>\n   </g>\n   <g id=\"patch_13\">\n    <path d=\"M 39.65 239.758125 \nL 39.65 22.318125 \n\" style=\"fill:none;stroke:#000000;stroke-linecap:square;stroke-linejoin:miter;stroke-width:0.8;\"/>\n   </g>\n   <g id=\"patch_14\">\n    <path d=\"M 374.45 239.758125 \nL 374.45 22.318125 \n\" style=\"fill:none;stroke:#000000;stroke-linecap:square;stroke-linejoin:miter;stroke-width:0.8;\"/>\n   </g>\n   <g id=\"patch_15\">\n    <path d=\"M 39.65 239.758125 \nL 374.45 239.758125 \n\" style=\"fill:none;stroke:#000000;stroke-linecap:square;stroke-linejoin:miter;stroke-width:0.8;\"/>\n   </g>\n   <g id=\"patch_16\">\n    <path d=\"M 39.65 22.318125 \nL 374.45 22.318125 \n\" style=\"fill:none;stroke:#000000;stroke-linecap:square;stroke-linejoin:miter;stroke-width:0.8;\"/>\n   </g>\n   <g id=\"text_14\">\n    <!-- granted_number_of_nights -->\n    <defs>\n     <path d=\"M 45.40625 27.984375 \nQ 45.40625 37.75 41.375 43.109375 \nQ 37.359375 48.484375 30.078125 48.484375 \nQ 22.859375 48.484375 18.828125 43.109375 \nQ 14.796875 37.75 14.796875 27.984375 \nQ 14.796875 18.265625 18.828125 12.890625 \nQ 22.859375 7.515625 30.078125 7.515625 \nQ 37.359375 7.515625 41.375 12.890625 \nQ 45.40625 18.265625 45.40625 27.984375 \nz\nM 54.390625 6.78125 \nQ 54.390625 -7.171875 48.1875 -13.984375 \nQ 42 -20.796875 29.203125 -20.796875 \nQ 24.46875 -20.796875 20.265625 -20.09375 \nQ 16.0625 -19.390625 12.109375 -17.921875 \nL 12.109375 -9.1875 \nQ 16.0625 -11.328125 19.921875 -12.34375 \nQ 23.78125 -13.375 27.78125 -13.375 \nQ 36.625 -13.375 41.015625 -8.765625 \nQ 45.40625 -4.15625 45.40625 5.171875 \nL 45.40625 9.625 \nQ 42.625 4.78125 38.28125 2.390625 \nQ 33.9375 0 27.875 0 \nQ 17.828125 0 11.671875 7.65625 \nQ 5.515625 15.328125 5.515625 27.984375 \nQ 5.515625 40.671875 11.671875 48.328125 \nQ 17.828125 56 27.875 56 \nQ 33.9375 56 38.28125 53.609375 \nQ 42.625 51.21875 45.40625 46.390625 \nL 45.40625 54.6875 \nL 54.390625 54.6875 \nz\n\" id=\"DejaVuSans-103\"/>\n     <path d=\"M 41.109375 46.296875 \nQ 39.59375 47.171875 37.8125 47.578125 \nQ 36.03125 48 33.890625 48 \nQ 26.265625 48 22.1875 43.046875 \nQ 18.109375 38.09375 18.109375 28.8125 \nL 18.109375 0 \nL 9.078125 0 \nL 9.078125 54.6875 \nL 18.109375 54.6875 \nL 18.109375 46.1875 \nQ 20.953125 51.171875 25.484375 53.578125 \nQ 30.03125 56 36.53125 56 \nQ 37.453125 56 38.578125 55.875 \nQ 39.703125 55.765625 41.0625 55.515625 \nz\n\" id=\"DejaVuSans-114\"/>\n     <path d=\"M 34.28125 27.484375 \nQ 23.390625 27.484375 19.1875 25 \nQ 14.984375 22.515625 14.984375 16.5 \nQ 14.984375 11.71875 18.140625 8.90625 \nQ 21.296875 6.109375 26.703125 6.109375 \nQ 34.1875 6.109375 38.703125 11.40625 \nQ 43.21875 16.703125 43.21875 25.484375 \nL 43.21875 27.484375 \nz\nM 52.203125 31.203125 \nL 52.203125 0 \nL 43.21875 0 \nL 43.21875 8.296875 \nQ 40.140625 3.328125 35.546875 0.953125 \nQ 30.953125 -1.421875 24.3125 -1.421875 \nQ 15.921875 -1.421875 10.953125 3.296875 \nQ 6 8.015625 6 15.921875 \nQ 6 25.140625 12.171875 29.828125 \nQ 18.359375 34.515625 30.609375 34.515625 \nL 43.21875 34.515625 \nL 43.21875 35.40625 \nQ 43.21875 41.609375 39.140625 45 \nQ 35.0625 48.390625 27.6875 48.390625 \nQ 23 48.390625 18.546875 47.265625 \nQ 14.109375 46.140625 10.015625 43.890625 \nL 10.015625 52.203125 \nQ 14.9375 54.109375 19.578125 55.046875 \nQ 24.21875 56 28.609375 56 \nQ 40.484375 56 46.34375 49.84375 \nQ 52.203125 43.703125 52.203125 31.203125 \nz\n\" id=\"DejaVuSans-97\"/>\n     <path d=\"M 54.890625 33.015625 \nL 54.890625 0 \nL 45.90625 0 \nL 45.90625 32.71875 \nQ 45.90625 40.484375 42.875 44.328125 \nQ 39.84375 48.1875 33.796875 48.1875 \nQ 26.515625 48.1875 22.3125 43.546875 \nQ 18.109375 38.921875 18.109375 30.90625 \nL 18.109375 0 \nL 9.078125 0 \nL 9.078125 54.6875 \nL 18.109375 54.6875 \nL 18.109375 46.1875 \nQ 21.34375 51.125 25.703125 53.5625 \nQ 30.078125 56 35.796875 56 \nQ 45.21875 56 50.046875 50.171875 \nQ 54.890625 44.34375 54.890625 33.015625 \nz\n\" id=\"DejaVuSans-110\"/>\n     <path d=\"M 18.3125 70.21875 \nL 18.3125 54.6875 \nL 36.8125 54.6875 \nL 36.8125 47.703125 \nL 18.3125 47.703125 \nL 18.3125 18.015625 \nQ 18.3125 11.328125 20.140625 9.421875 \nQ 21.96875 7.515625 27.59375 7.515625 \nL 36.8125 7.515625 \nL 36.8125 0 \nL 27.59375 0 \nQ 17.1875 0 13.234375 3.875 \nQ 9.28125 7.765625 9.28125 18.015625 \nL 9.28125 47.703125 \nL 2.6875 47.703125 \nL 2.6875 54.6875 \nL 9.28125 54.6875 \nL 9.28125 70.21875 \nz\n\" id=\"DejaVuSans-116\"/>\n     <path d=\"M 56.203125 29.59375 \nL 56.203125 25.203125 \nL 14.890625 25.203125 \nQ 15.484375 15.921875 20.484375 11.0625 \nQ 25.484375 6.203125 34.421875 6.203125 \nQ 39.59375 6.203125 44.453125 7.46875 \nQ 49.3125 8.734375 54.109375 11.28125 \nL 54.109375 2.78125 \nQ 49.265625 0.734375 44.1875 -0.34375 \nQ 39.109375 -1.421875 33.890625 -1.421875 \nQ 20.796875 -1.421875 13.15625 6.1875 \nQ 5.515625 13.8125 5.515625 26.8125 \nQ 5.515625 40.234375 12.765625 48.109375 \nQ 20.015625 56 32.328125 56 \nQ 43.359375 56 49.78125 48.890625 \nQ 56.203125 41.796875 56.203125 29.59375 \nz\nM 47.21875 32.234375 \nQ 47.125 39.59375 43.09375 43.984375 \nQ 39.0625 48.390625 32.421875 48.390625 \nQ 24.90625 48.390625 20.390625 44.140625 \nQ 15.875 39.890625 15.1875 32.171875 \nz\n\" id=\"DejaVuSans-101\"/>\n     <path d=\"M 45.40625 46.390625 \nL 45.40625 75.984375 \nL 54.390625 75.984375 \nL 54.390625 0 \nL 45.40625 0 \nL 45.40625 8.203125 \nQ 42.578125 3.328125 38.25 0.953125 \nQ 33.9375 -1.421875 27.875 -1.421875 \nQ 17.96875 -1.421875 11.734375 6.484375 \nQ 5.515625 14.40625 5.515625 27.296875 \nQ 5.515625 40.1875 11.734375 48.09375 \nQ 17.96875 56 27.875 56 \nQ 33.9375 56 38.25 53.625 \nQ 42.578125 51.265625 45.40625 46.390625 \nz\nM 14.796875 27.296875 \nQ 14.796875 17.390625 18.875 11.75 \nQ 22.953125 6.109375 30.078125 6.109375 \nQ 37.203125 6.109375 41.296875 11.75 \nQ 45.40625 17.390625 45.40625 27.296875 \nQ 45.40625 37.203125 41.296875 42.84375 \nQ 37.203125 48.484375 30.078125 48.484375 \nQ 22.953125 48.484375 18.875 42.84375 \nQ 14.796875 37.203125 14.796875 27.296875 \nz\n\" id=\"DejaVuSans-100\"/>\n     <path d=\"M 50.984375 -16.609375 \nL 50.984375 -23.578125 \nL -0.984375 -23.578125 \nL -0.984375 -16.609375 \nz\n\" id=\"DejaVuSans-95\"/>\n     <path d=\"M 8.5 21.578125 \nL 8.5 54.6875 \nL 17.484375 54.6875 \nL 17.484375 21.921875 \nQ 17.484375 14.15625 20.5 10.265625 \nQ 23.53125 6.390625 29.59375 6.390625 \nQ 36.859375 6.390625 41.078125 11.03125 \nQ 45.3125 15.671875 45.3125 23.6875 \nL 45.3125 54.6875 \nL 54.296875 54.6875 \nL 54.296875 0 \nL 45.3125 0 \nL 45.3125 8.40625 \nQ 42.046875 3.421875 37.71875 1 \nQ 33.40625 -1.421875 27.6875 -1.421875 \nQ 18.265625 -1.421875 13.375 4.4375 \nQ 8.5 10.296875 8.5 21.578125 \nz\nM 31.109375 56 \nz\n\" id=\"DejaVuSans-117\"/>\n     <path d=\"M 52 44.1875 \nQ 55.375 50.25 60.0625 53.125 \nQ 64.75 56 71.09375 56 \nQ 79.640625 56 84.28125 50.015625 \nQ 88.921875 44.046875 88.921875 33.015625 \nL 88.921875 0 \nL 79.890625 0 \nL 79.890625 32.71875 \nQ 79.890625 40.578125 77.09375 44.375 \nQ 74.3125 48.1875 68.609375 48.1875 \nQ 61.625 48.1875 57.5625 43.546875 \nQ 53.515625 38.921875 53.515625 30.90625 \nL 53.515625 0 \nL 44.484375 0 \nL 44.484375 32.71875 \nQ 44.484375 40.625 41.703125 44.40625 \nQ 38.921875 48.1875 33.109375 48.1875 \nQ 26.21875 48.1875 22.15625 43.53125 \nQ 18.109375 38.875 18.109375 30.90625 \nL 18.109375 0 \nL 9.078125 0 \nL 9.078125 54.6875 \nL 18.109375 54.6875 \nL 18.109375 46.1875 \nQ 21.1875 51.21875 25.484375 53.609375 \nQ 29.78125 56 35.6875 56 \nQ 41.65625 56 45.828125 52.96875 \nQ 50 49.953125 52 44.1875 \nz\n\" id=\"DejaVuSans-109\"/>\n     <path d=\"M 48.6875 27.296875 \nQ 48.6875 37.203125 44.609375 42.84375 \nQ 40.53125 48.484375 33.40625 48.484375 \nQ 26.265625 48.484375 22.1875 42.84375 \nQ 18.109375 37.203125 18.109375 27.296875 \nQ 18.109375 17.390625 22.1875 11.75 \nQ 26.265625 6.109375 33.40625 6.109375 \nQ 40.53125 6.109375 44.609375 11.75 \nQ 48.6875 17.390625 48.6875 27.296875 \nz\nM 18.109375 46.390625 \nQ 20.953125 51.265625 25.265625 53.625 \nQ 29.59375 56 35.59375 56 \nQ 45.5625 56 51.78125 48.09375 \nQ 58.015625 40.1875 58.015625 27.296875 \nQ 58.015625 14.40625 51.78125 6.484375 \nQ 45.5625 -1.421875 35.59375 -1.421875 \nQ 29.59375 -1.421875 25.265625 0.953125 \nQ 20.953125 3.328125 18.109375 8.203125 \nL 18.109375 0 \nL 9.078125 0 \nL 9.078125 75.984375 \nL 18.109375 75.984375 \nz\n\" id=\"DejaVuSans-98\"/>\n     <path d=\"M 30.609375 48.390625 \nQ 23.390625 48.390625 19.1875 42.75 \nQ 14.984375 37.109375 14.984375 27.296875 \nQ 14.984375 17.484375 19.15625 11.84375 \nQ 23.34375 6.203125 30.609375 6.203125 \nQ 37.796875 6.203125 41.984375 11.859375 \nQ 46.1875 17.53125 46.1875 27.296875 \nQ 46.1875 37.015625 41.984375 42.703125 \nQ 37.796875 48.390625 30.609375 48.390625 \nz\nM 30.609375 56 \nQ 42.328125 56 49.015625 48.375 \nQ 55.71875 40.765625 55.71875 27.296875 \nQ 55.71875 13.875 49.015625 6.21875 \nQ 42.328125 -1.421875 30.609375 -1.421875 \nQ 18.84375 -1.421875 12.171875 6.21875 \nQ 5.515625 13.875 5.515625 27.296875 \nQ 5.515625 40.765625 12.171875 48.375 \nQ 18.84375 56 30.609375 56 \nz\n\" id=\"DejaVuSans-111\"/>\n     <path d=\"M 37.109375 75.984375 \nL 37.109375 68.5 \nL 28.515625 68.5 \nQ 23.6875 68.5 21.796875 66.546875 \nQ 19.921875 64.59375 19.921875 59.515625 \nL 19.921875 54.6875 \nL 34.71875 54.6875 \nL 34.71875 47.703125 \nL 19.921875 47.703125 \nL 19.921875 0 \nL 10.890625 0 \nL 10.890625 47.703125 \nL 2.296875 47.703125 \nL 2.296875 54.6875 \nL 10.890625 54.6875 \nL 10.890625 58.5 \nQ 10.890625 67.625 15.140625 71.796875 \nQ 19.390625 75.984375 28.609375 75.984375 \nz\n\" id=\"DejaVuSans-102\"/>\n     <path d=\"M 9.421875 54.6875 \nL 18.40625 54.6875 \nL 18.40625 0 \nL 9.421875 0 \nz\nM 9.421875 75.984375 \nL 18.40625 75.984375 \nL 18.40625 64.59375 \nL 9.421875 64.59375 \nz\n\" id=\"DejaVuSans-105\"/>\n     <path d=\"M 54.890625 33.015625 \nL 54.890625 0 \nL 45.90625 0 \nL 45.90625 32.71875 \nQ 45.90625 40.484375 42.875 44.328125 \nQ 39.84375 48.1875 33.796875 48.1875 \nQ 26.515625 48.1875 22.3125 43.546875 \nQ 18.109375 38.921875 18.109375 30.90625 \nL 18.109375 0 \nL 9.078125 0 \nL 9.078125 75.984375 \nL 18.109375 75.984375 \nL 18.109375 46.1875 \nQ 21.34375 51.125 25.703125 53.5625 \nQ 30.078125 56 35.796875 56 \nQ 45.21875 56 50.046875 50.171875 \nQ 54.890625 44.34375 54.890625 33.015625 \nz\n\" id=\"DejaVuSans-104\"/>\n     <path d=\"M 44.28125 53.078125 \nL 44.28125 44.578125 \nQ 40.484375 46.53125 36.375 47.5 \nQ 32.28125 48.484375 27.875 48.484375 \nQ 21.1875 48.484375 17.84375 46.4375 \nQ 14.5 44.390625 14.5 40.28125 \nQ 14.5 37.15625 16.890625 35.375 \nQ 19.28125 33.59375 26.515625 31.984375 \nL 29.59375 31.296875 \nQ 39.15625 29.25 43.1875 25.515625 \nQ 47.21875 21.78125 47.21875 15.09375 \nQ 47.21875 7.46875 41.1875 3.015625 \nQ 35.15625 -1.421875 24.609375 -1.421875 \nQ 20.21875 -1.421875 15.453125 -0.5625 \nQ 10.6875 0.296875 5.421875 2 \nL 5.421875 11.28125 \nQ 10.40625 8.6875 15.234375 7.390625 \nQ 20.0625 6.109375 24.8125 6.109375 \nQ 31.15625 6.109375 34.5625 8.28125 \nQ 37.984375 10.453125 37.984375 14.40625 \nQ 37.984375 18.0625 35.515625 20.015625 \nQ 33.0625 21.96875 24.703125 23.78125 \nL 21.578125 24.515625 \nQ 13.234375 26.265625 9.515625 29.90625 \nQ 5.8125 33.546875 5.8125 39.890625 \nQ 5.8125 47.609375 11.28125 51.796875 \nQ 16.75 56 26.8125 56 \nQ 31.78125 56 36.171875 55.265625 \nQ 40.578125 54.546875 44.28125 53.078125 \nz\n\" id=\"DejaVuSans-115\"/>\n    </defs>\n    <g transform=\"translate(126.682813 16.318125)scale(0.12 -0.12)\">\n     <use xlink:href=\"#DejaVuSans-103\"/>\n     <use x=\"63.476562\" xlink:href=\"#DejaVuSans-114\"/>\n     <use x=\"104.589844\" xlink:href=\"#DejaVuSans-97\"/>\n     <use x=\"165.869141\" xlink:href=\"#DejaVuSans-110\"/>\n     <use x=\"229.248047\" xlink:href=\"#DejaVuSans-116\"/>\n     <use x=\"268.457031\" xlink:href=\"#DejaVuSans-101\"/>\n     <use x=\"329.980469\" xlink:href=\"#DejaVuSans-100\"/>\n     <use x=\"393.457031\" xlink:href=\"#DejaVuSans-95\"/>\n     <use x=\"443.457031\" xlink:href=\"#DejaVuSans-110\"/>\n     <use x=\"506.835938\" xlink:href=\"#DejaVuSans-117\"/>\n     <use x=\"570.214844\" xlink:href=\"#DejaVuSans-109\"/>\n     <use x=\"667.626953\" xlink:href=\"#DejaVuSans-98\"/>\n     <use x=\"731.103516\" xlink:href=\"#DejaVuSans-101\"/>\n     <use x=\"792.626953\" xlink:href=\"#DejaVuSans-114\"/>\n     <use x=\"833.740234\" xlink:href=\"#DejaVuSans-95\"/>\n     <use x=\"883.740234\" xlink:href=\"#DejaVuSans-111\"/>\n     <use x=\"944.921875\" xlink:href=\"#DejaVuSans-102\"/>\n     <use x=\"980.126953\" xlink:href=\"#DejaVuSans-95\"/>\n     <use x=\"1030.126953\" xlink:href=\"#DejaVuSans-110\"/>\n     <use x=\"1093.505859\" xlink:href=\"#DejaVuSans-105\"/>\n     <use x=\"1121.289062\" xlink:href=\"#DejaVuSans-103\"/>\n     <use x=\"1184.765625\" xlink:href=\"#DejaVuSans-104\"/>\n     <use x=\"1248.144531\" xlink:href=\"#DejaVuSans-116\"/>\n     <use x=\"1287.353516\" xlink:href=\"#DejaVuSans-115\"/>\n    </g>\n   </g>\n  </g>\n </g>\n <defs>\n  <clipPath id=\"p2f7c786cbe\">\n   <rect height=\"217.44\" width=\"334.8\" x=\"39.65\" y=\"22.318125\"/>\n  </clipPath>\n </defs>\n</svg>\n",
      "image/png": "[encoded data removed]"
     },
     "metadata": {
      "needs_background": "light"
     }
    }
   ],
   "source": [
    "if ANALYZE_ON:\n",
    "    # Obs: A majority of requests with the label \"emergency accomodation\" obtains 1 or 2 nights.\n",
    "\n",
    "    # Impact of feature on target\n",
    "    feature = 'housing_situation_2_label'\n",
    "    mask = obj_full_train.df[feature] == 'emergency accomodation'\n",
    "\n",
    "    # Hist: drop duplicate requests (due to multiple indivs by request)\n",
    "    obj_full_train.df[mask][['request_id', target]].drop_duplicates().hist()\n",
    "    plt.show()"
   ]
  },
  {
   "cell_type": "markdown",
   "metadata": {},
   "source": [
    "### child_situation"
   ]
  },
  {
   "cell_type": "code",
   "execution_count": 12,
   "metadata": {},
   "outputs": [],
   "source": [
    "# debug\n"
   ]
  },
  {
   "cell_type": "code",
   "execution_count": 694,
   "metadata": {},
   "outputs": [
    {
     "output_type": "stream",
     "name": "stdout",
     "text": "child_situation possible values: -1 10 20 30 40 50 60 70\n\nDistribution\n -1     227927\n 10      8262\n 30       835\n 20       542\n 70       241\n 40       230\n 50        99\n 60        55\nName: child_situation, dtype: int64\n\n\nChild_situation non NaN ratio: 4.31%\n\n\n"
    },
    {
     "output_type": "display_data",
     "data": {
      "text/plain": "<Figure size 432x288 with 1 Axes>",
      "image/svg+xml": "<?xml version=\"1.0\" encoding=\"utf-8\" standalone=\"no\"?>\n<!DOCTYPE svg PUBLIC \"-//W3C//DTD SVG 1.1//EN\"\n  \"http://www.w3.org/Graphics/SVG/1.1/DTD/svg11.dtd\">\n<!-- Created with matplotlib (https://matplotlib.org/) -->\n<svg height=\"248.518125pt\" version=\"1.1\" viewBox=\"0 0 394.375 248.518125\" width=\"394.375pt\" xmlns=\"http://www.w3.org/2000/svg\" xmlns:xlink=\"http://www.w3.org/1999/xlink\">\n <defs>\n  <style type=\"text/css\">\n*{stroke-linecap:butt;stroke-linejoin:round;}\n  </style>\n </defs>\n <g id=\"figure_1\">\n  <g id=\"patch_1\">\n   <path d=\"M 0 248.518125 \nL 394.375 248.518125 \nL 394.375 0 \nL 0 0 \nz\n\" style=\"fill:none;\"/>\n  </g>\n  <g id=\"axes_1\">\n   <g id=\"patch_2\">\n    <path d=\"M 52.375 224.64 \nL 387.175 224.64 \nL 387.175 7.2 \nL 52.375 7.2 \nz\n\" style=\"fill:#ffffff;\"/>\n   </g>\n   <g id=\"patch_3\">\n    <path clip-path=\"url(#p5b18d66323)\" d=\"M 67.593182 224.64 \nL 98.029545 224.64 \nL 98.029545 17.554286 \nL 67.593182 17.554286 \nz\n\" style=\"fill:#1f77b4;\"/>\n   </g>\n   <g id=\"patch_4\">\n    <path clip-path=\"url(#p5b18d66323)\" d=\"M 98.029545 224.64 \nL 128.465909 224.64 \nL 128.465909 224.64 \nL 98.029545 224.64 \nz\n\" style=\"fill:#1f77b4;\"/>\n   </g>\n   <g id=\"patch_5\">\n    <path clip-path=\"url(#p5b18d66323)\" d=\"M 128.465909 224.64 \nL 158.902273 224.64 \nL 158.902273 224.64 \nL 128.465909 224.64 \nz\n\" style=\"fill:#1f77b4;\"/>\n   </g>\n   <g id=\"patch_6\">\n    <path clip-path=\"url(#p5b18d66323)\" d=\"M 158.902273 224.64 \nL 189.338636 224.64 \nL 189.338636 75.301764 \nL 158.902273 75.301764 \nz\n\" style=\"fill:#1f77b4;\"/>\n   </g>\n   <g id=\"patch_7\">\n    <path clip-path=\"url(#p5b18d66323)\" d=\"M 189.338636 224.64 \nL 219.775 224.64 \nL 219.775 224.64 \nL 189.338636 224.64 \nz\n\" style=\"fill:#1f77b4;\"/>\n   </g>\n   <g id=\"patch_8\">\n    <path clip-path=\"url(#p5b18d66323)\" d=\"M 219.775 224.64 \nL 250.211364 224.64 \nL 250.211364 224.64 \nL 219.775 224.64 \nz\n\" style=\"fill:#1f77b4;\"/>\n   </g>\n   <g id=\"patch_9\">\n    <path clip-path=\"url(#p5b18d66323)\" d=\"M 250.211364 224.64 \nL 280.647727 224.64 \nL 280.647727 159.629992 \nL 250.211364 159.629992 \nz\n\" style=\"fill:#1f77b4;\"/>\n   </g>\n   <g id=\"patch_10\">\n    <path clip-path=\"url(#p5b18d66323)\" d=\"M 280.647727 224.64 \nL 311.084091 224.64 \nL 311.084091 224.64 \nL 280.647727 224.64 \nz\n\" style=\"fill:#1f77b4;\"/>\n   </g>\n   <g id=\"patch_11\">\n    <path clip-path=\"url(#p5b18d66323)\" d=\"M 311.084091 224.64 \nL 341.520455 224.64 \nL 341.520455 224.64 \nL 311.084091 224.64 \nz\n\" style=\"fill:#1f77b4;\"/>\n   </g>\n   <g id=\"patch_12\">\n    <path clip-path=\"url(#p5b18d66323)\" d=\"M 341.520455 224.64 \nL 371.956818 224.64 \nL 371.956818 220.649434 \nL 341.520455 220.649434 \nz\n\" style=\"fill:#1f77b4;\"/>\n   </g>\n   <g id=\"patch_13\">\n    <path clip-path=\"url(#p5b18d66323)\" d=\"M 67.593182 224.64 \nL 98.029545 224.64 \nL 98.029545 216.233308 \nL 67.593182 216.233308 \nz\n\" style=\"fill:#ff7f0e;\"/>\n   </g>\n   <g id=\"patch_14\">\n    <path clip-path=\"url(#p5b18d66323)\" d=\"M 98.029545 224.64 \nL 128.465909 224.64 \nL 128.465909 224.64 \nL 98.029545 224.64 \nz\n\" style=\"fill:#ff7f0e;\"/>\n   </g>\n   <g id=\"patch_15\">\n    <path clip-path=\"url(#p5b18d66323)\" d=\"M 128.465909 224.64 \nL 158.902273 224.64 \nL 158.902273 224.64 \nL 128.465909 224.64 \nz\n\" style=\"fill:#ff7f0e;\"/>\n   </g>\n   <g id=\"patch_16\">\n    <path clip-path=\"url(#p5b18d66323)\" d=\"M 158.902273 224.64 \nL 189.338636 224.64 \nL 189.338636 222.473 \nL 158.902273 222.473 \nz\n\" style=\"fill:#ff7f0e;\"/>\n   </g>\n   <g id=\"patch_17\">\n    <path clip-path=\"url(#p5b18d66323)\" d=\"M 189.338636 224.64 \nL 219.775 224.64 \nL 219.775 224.64 \nL 189.338636 224.64 \nz\n\" style=\"fill:#ff7f0e;\"/>\n   </g>\n   <g id=\"patch_18\">\n    <path clip-path=\"url(#p5b18d66323)\" d=\"M 219.775 224.64 \nL 250.211364 224.64 \nL 250.211364 224.64 \nL 219.775 224.64 \nz\n\" style=\"fill:#ff7f0e;\"/>\n   </g>\n   <g id=\"patch_19\">\n    <path clip-path=\"url(#p5b18d66323)\" d=\"M 250.211364 224.64 \nL 280.647727 224.64 \nL 280.647727 220.522513 \nL 250.211364 220.522513 \nz\n\" style=\"fill:#ff7f0e;\"/>\n   </g>\n   <g id=\"patch_20\">\n    <path clip-path=\"url(#p5b18d66323)\" d=\"M 280.647727 224.64 \nL 311.084091 224.64 \nL 311.084091 224.64 \nL 280.647727 224.64 \nz\n\" style=\"fill:#ff7f0e;\"/>\n   </g>\n   <g id=\"patch_21\">\n    <path clip-path=\"url(#p5b18d66323)\" d=\"M 311.084091 224.64 \nL 341.520455 224.64 \nL 341.520455 224.64 \nL 311.084091 224.64 \nz\n\" style=\"fill:#ff7f0e;\"/>\n   </g>\n   <g id=\"patch_22\">\n    <path clip-path=\"url(#p5b18d66323)\" d=\"M 341.520455 224.64 \nL 371.956818 224.64 \nL 371.956818 223.910201 \nL 341.520455 223.910201 \nz\n\" style=\"fill:#ff7f0e;\"/>\n   </g>\n   <g id=\"patch_23\">\n    <path clip-path=\"url(#p5b18d66323)\" d=\"M 67.593182 224.64 \nL 98.029545 224.64 \nL 98.029545 224.055787 \nL 67.593182 224.055787 \nz\n\" style=\"fill:#2ca02c;\"/>\n   </g>\n   <g id=\"patch_24\">\n    <path clip-path=\"url(#p5b18d66323)\" d=\"M 98.029545 224.64 \nL 128.465909 224.64 \nL 128.465909 224.64 \nL 98.029545 224.64 \nz\n\" style=\"fill:#2ca02c;\"/>\n   </g>\n   <g id=\"patch_25\">\n    <path clip-path=\"url(#p5b18d66323)\" d=\"M 128.465909 224.64 \nL 158.902273 224.64 \nL 158.902273 224.64 \nL 128.465909 224.64 \nz\n\" style=\"fill:#2ca02c;\"/>\n   </g>\n   <g id=\"patch_26\">\n    <path clip-path=\"url(#p5b18d66323)\" d=\"M 158.902273 224.64 \nL 189.338636 224.64 \nL 189.338636 224.475748 \nL 158.902273 224.475748 \nz\n\" style=\"fill:#2ca02c;\"/>\n   </g>\n   <g id=\"patch_27\">\n    <path clip-path=\"url(#p5b18d66323)\" d=\"M 189.338636 224.64 \nL 219.775 224.64 \nL 219.775 224.64 \nL 189.338636 224.64 \nz\n\" style=\"fill:#2ca02c;\"/>\n   </g>\n   <g id=\"patch_28\">\n    <path clip-path=\"url(#p5b18d66323)\" d=\"M 219.775 224.64 \nL 250.211364 224.64 \nL 250.211364 224.64 \nL 219.775 224.64 \nz\n\" style=\"fill:#2ca02c;\"/>\n   </g>\n   <g id=\"patch_29\">\n    <path clip-path=\"url(#p5b18d66323)\" d=\"M 250.211364 224.64 \nL 280.647727 224.64 \nL 280.647727 224.438419 \nL 250.211364 224.438419 \nz\n\" style=\"fill:#2ca02c;\"/>\n   </g>\n   <g id=\"patch_30\">\n    <path clip-path=\"url(#p5b18d66323)\" d=\"M 280.647727 224.64 \nL 311.084091 224.64 \nL 311.084091 224.64 \nL 280.647727 224.64 \nz\n\" style=\"fill:#2ca02c;\"/>\n   </g>\n   <g id=\"patch_31\">\n    <path clip-path=\"url(#p5b18d66323)\" d=\"M 311.084091 224.64 \nL 341.520455 224.64 \nL 341.520455 224.64 \nL 311.084091 224.64 \nz\n\" style=\"fill:#2ca02c;\"/>\n   </g>\n   <g id=\"patch_32\">\n    <path clip-path=\"url(#p5b18d66323)\" d=\"M 341.520455 224.64 \nL 371.956818 224.64 \nL 371.956818 224.578406 \nL 341.520455 224.578406 \nz\n\" style=\"fill:#2ca02c;\"/>\n   </g>\n   <g id=\"patch_33\">\n    <path clip-path=\"url(#p5b18d66323)\" d=\"M 67.593182 224.64 \nL 98.029545 224.64 \nL 98.029545 223.887803 \nL 67.593182 223.887803 \nz\n\" style=\"fill:#d62728;\"/>\n   </g>\n   <g id=\"patch_34\">\n    <path clip-path=\"url(#p5b18d66323)\" d=\"M 98.029545 224.64 \nL 128.465909 224.64 \nL 128.465909 224.64 \nL 98.029545 224.64 \nz\n\" style=\"fill:#d62728;\"/>\n   </g>\n   <g id=\"patch_35\">\n    <path clip-path=\"url(#p5b18d66323)\" d=\"M 128.465909 224.64 \nL 158.902273 224.64 \nL 158.902273 224.64 \nL 128.465909 224.64 \nz\n\" style=\"fill:#d62728;\"/>\n   </g>\n   <g id=\"patch_36\">\n    <path clip-path=\"url(#p5b18d66323)\" d=\"M 158.902273 224.64 \nL 189.338636 224.64 \nL 189.338636 224.066986 \nL 158.902273 224.066986 \nz\n\" style=\"fill:#d62728;\"/>\n   </g>\n   <g id=\"patch_37\">\n    <path clip-path=\"url(#p5b18d66323)\" d=\"M 189.338636 224.64 \nL 219.775 224.64 \nL 219.775 224.64 \nL 189.338636 224.64 \nz\n\" style=\"fill:#d62728;\"/>\n   </g>\n   <g id=\"patch_38\">\n    <path clip-path=\"url(#p5b18d66323)\" d=\"M 219.775 224.64 \nL 250.211364 224.64 \nL 250.211364 224.64 \nL 219.775 224.64 \nz\n\" style=\"fill:#d62728;\"/>\n   </g>\n   <g id=\"patch_39\">\n    <path clip-path=\"url(#p5b18d66323)\" d=\"M 250.211364 224.64 \nL 280.647727 224.64 \nL 280.647727 224.432819 \nL 250.211364 224.432819 \nz\n\" style=\"fill:#d62728;\"/>\n   </g>\n   <g id=\"patch_40\">\n    <path clip-path=\"url(#p5b18d66323)\" d=\"M 280.647727 224.64 \nL 311.084091 224.64 \nL 311.084091 224.64 \nL 280.647727 224.64 \nz\n\" style=\"fill:#d62728;\"/>\n   </g>\n   <g id=\"patch_41\">\n    <path clip-path=\"url(#p5b18d66323)\" d=\"M 311.084091 224.64 \nL 341.520455 224.64 \nL 341.520455 224.64 \nL 311.084091 224.64 \nz\n\" style=\"fill:#d62728;\"/>\n   </g>\n   <g id=\"patch_42\">\n    <path clip-path=\"url(#p5b18d66323)\" d=\"M 341.520455 224.64 \nL 371.956818 224.64 \nL 371.956818 224.613869 \nL 341.520455 224.613869 \nz\n\" style=\"fill:#d62728;\"/>\n   </g>\n   <g id=\"patch_43\">\n    <path clip-path=\"url(#p5b18d66323)\" d=\"M 67.593182 224.64 \nL 98.029545 224.64 \nL 98.029545 224.373091 \nL 67.593182 224.373091 \nz\n\" style=\"fill:#9467bd;\"/>\n   </g>\n   <g id=\"patch_44\">\n    <path clip-path=\"url(#p5b18d66323)\" d=\"M 98.029545 224.64 \nL 128.465909 224.64 \nL 128.465909 224.64 \nL 98.029545 224.64 \nz\n\" style=\"fill:#9467bd;\"/>\n   </g>\n   <g id=\"patch_45\">\n    <path clip-path=\"url(#p5b18d66323)\" d=\"M 128.465909 224.64 \nL 158.902273 224.64 \nL 158.902273 224.64 \nL 128.465909 224.64 \nz\n\" style=\"fill:#9467bd;\"/>\n   </g>\n   <g id=\"patch_46\">\n    <path clip-path=\"url(#p5b18d66323)\" d=\"M 158.902273 224.64 \nL 189.338636 224.64 \nL 189.338636 224.552275 \nL 158.902273 224.552275 \nz\n\" style=\"fill:#9467bd;\"/>\n   </g>\n   <g id=\"patch_47\">\n    <path clip-path=\"url(#p5b18d66323)\" d=\"M 189.338636 224.64 \nL 219.775 224.64 \nL 219.775 224.64 \nL 189.338636 224.64 \nz\n\" style=\"fill:#9467bd;\"/>\n   </g>\n   <g id=\"patch_48\">\n    <path clip-path=\"url(#p5b18d66323)\" d=\"M 219.775 224.64 \nL 250.211364 224.64 \nL 250.211364 224.64 \nL 219.775 224.64 \nz\n\" style=\"fill:#9467bd;\"/>\n   </g>\n   <g id=\"patch_49\">\n    <path clip-path=\"url(#p5b18d66323)\" d=\"M 250.211364 224.64 \nL 280.647727 224.64 \nL 280.647727 224.57094 \nL 250.211364 224.57094 \nz\n\" style=\"fill:#9467bd;\"/>\n   </g>\n   <g id=\"patch_50\">\n    <path clip-path=\"url(#p5b18d66323)\" d=\"M 280.647727 224.64 \nL 311.084091 224.64 \nL 311.084091 224.64 \nL 280.647727 224.64 \nz\n\" style=\"fill:#9467bd;\"/>\n   </g>\n   <g id=\"patch_51\">\n    <path clip-path=\"url(#p5b18d66323)\" d=\"M 311.084091 224.64 \nL 341.520455 224.64 \nL 341.520455 224.64 \nL 311.084091 224.64 \nz\n\" style=\"fill:#9467bd;\"/>\n   </g>\n   <g id=\"patch_52\">\n    <path clip-path=\"url(#p5b18d66323)\" d=\"M 341.520455 224.64 \nL 371.956818 224.64 \nL 371.956818 224.634401 \nL 341.520455 224.634401 \nz\n\" style=\"fill:#9467bd;\"/>\n   </g>\n   <g id=\"patch_53\">\n    <path clip-path=\"url(#p5b18d66323)\" d=\"M 67.593182 224.64 \nL 98.029545 224.64 \nL 98.029545 224.505612 \nL 67.593182 224.505612 \nz\n\" style=\"fill:#8c564b;\"/>\n   </g>\n   <g id=\"patch_54\">\n    <path clip-path=\"url(#p5b18d66323)\" d=\"M 98.029545 224.64 \nL 128.465909 224.64 \nL 128.465909 224.64 \nL 98.029545 224.64 \nz\n\" style=\"fill:#8c564b;\"/>\n   </g>\n   <g id=\"patch_55\">\n    <path clip-path=\"url(#p5b18d66323)\" d=\"M 128.465909 224.64 \nL 158.902273 224.64 \nL 158.902273 224.64 \nL 128.465909 224.64 \nz\n\" style=\"fill:#8c564b;\"/>\n   </g>\n   <g id=\"patch_56\">\n    <path clip-path=\"url(#p5b18d66323)\" d=\"M 158.902273 224.64 \nL 189.338636 224.64 \nL 189.338636 224.615736 \nL 158.902273 224.615736 \nz\n\" style=\"fill:#8c564b;\"/>\n   </g>\n   <g id=\"patch_57\">\n    <path clip-path=\"url(#p5b18d66323)\" d=\"M 189.338636 224.64 \nL 219.775 224.64 \nL 219.775 224.64 \nL 189.338636 224.64 \nz\n\" style=\"fill:#8c564b;\"/>\n   </g>\n   <g id=\"patch_58\">\n    <path clip-path=\"url(#p5b18d66323)\" d=\"M 219.775 224.64 \nL 250.211364 224.64 \nL 250.211364 224.64 \nL 219.775 224.64 \nz\n\" style=\"fill:#8c564b;\"/>\n   </g>\n   <g id=\"patch_59\">\n    <path clip-path=\"url(#p5b18d66323)\" d=\"M 250.211364 224.64 \nL 280.647727 224.64 \nL 280.647727 224.617602 \nL 250.211364 224.617602 \nz\n\" style=\"fill:#8c564b;\"/>\n   </g>\n   <g id=\"patch_60\">\n    <path clip-path=\"url(#p5b18d66323)\" d=\"M 280.647727 224.64 \nL 311.084091 224.64 \nL 311.084091 224.64 \nL 280.647727 224.64 \nz\n\" style=\"fill:#8c564b;\"/>\n   </g>\n   <g id=\"patch_61\">\n    <path clip-path=\"url(#p5b18d66323)\" d=\"M 311.084091 224.64 \nL 341.520455 224.64 \nL 341.520455 224.64 \nL 311.084091 224.64 \nz\n\" style=\"fill:#8c564b;\"/>\n   </g>\n   <g id=\"patch_62\">\n    <path clip-path=\"url(#p5b18d66323)\" d=\"M 341.520455 224.64 \nL 371.956818 224.64 \nL 371.956818 224.636267 \nL 341.520455 224.636267 \nz\n\" style=\"fill:#8c564b;\"/>\n   </g>\n   <g id=\"patch_63\">\n    <path clip-path=\"url(#p5b18d66323)\" d=\"M 67.593182 224.64 \nL 98.029545 224.64 \nL 98.029545 224.593338 \nL 67.593182 224.593338 \nz\n\" style=\"fill:#e377c2;\"/>\n   </g>\n   <g id=\"patch_64\">\n    <path clip-path=\"url(#p5b18d66323)\" d=\"M 98.029545 224.64 \nL 128.465909 224.64 \nL 128.465909 224.64 \nL 98.029545 224.64 \nz\n\" style=\"fill:#e377c2;\"/>\n   </g>\n   <g id=\"patch_65\">\n    <path clip-path=\"url(#p5b18d66323)\" d=\"M 128.465909 224.64 \nL 158.902273 224.64 \nL 158.902273 224.64 \nL 128.465909 224.64 \nz\n\" style=\"fill:#e377c2;\"/>\n   </g>\n   <g id=\"patch_66\">\n    <path clip-path=\"url(#p5b18d66323)\" d=\"M 158.902273 224.64 \nL 189.338636 224.64 \nL 189.338636 224.613869 \nL 158.902273 224.613869 \nz\n\" style=\"fill:#e377c2;\"/>\n   </g>\n   <g id=\"patch_67\">\n    <path clip-path=\"url(#p5b18d66323)\" d=\"M 189.338636 224.64 \nL 219.775 224.64 \nL 219.775 224.64 \nL 189.338636 224.64 \nz\n\" style=\"fill:#e377c2;\"/>\n   </g>\n   <g id=\"patch_68\">\n    <path clip-path=\"url(#p5b18d66323)\" d=\"M 219.775 224.64 \nL 250.211364 224.64 \nL 250.211364 224.64 \nL 219.775 224.64 \nz\n\" style=\"fill:#e377c2;\"/>\n   </g>\n   <g id=\"patch_69\">\n    <path clip-path=\"url(#p5b18d66323)\" d=\"M 250.211364 224.64 \nL 280.647727 224.64 \nL 280.647727 224.612003 \nL 250.211364 224.612003 \nz\n\" style=\"fill:#e377c2;\"/>\n   </g>\n   <g id=\"patch_70\">\n    <path clip-path=\"url(#p5b18d66323)\" d=\"M 280.647727 224.64 \nL 311.084091 224.64 \nL 311.084091 224.64 \nL 280.647727 224.64 \nz\n\" style=\"fill:#e377c2;\"/>\n   </g>\n   <g id=\"patch_71\">\n    <path clip-path=\"url(#p5b18d66323)\" d=\"M 311.084091 224.64 \nL 341.520455 224.64 \nL 341.520455 224.64 \nL 311.084091 224.64 \nz\n\" style=\"fill:#e377c2;\"/>\n   </g>\n   <g id=\"patch_72\">\n    <path clip-path=\"url(#p5b18d66323)\" d=\"M 341.520455 224.64 \nL 371.956818 224.64 \nL 371.956818 224.638134 \nL 341.520455 224.638134 \nz\n\" style=\"fill:#e377c2;\"/>\n   </g>\n   <g id=\"patch_73\">\n    <path clip-path=\"url(#p5b18d66323)\" d=\"M 67.593182 224.64 \nL 98.029545 224.64 \nL 98.029545 224.391756 \nL 67.593182 224.391756 \nz\n\" style=\"fill:#7f7f7f;\"/>\n   </g>\n   <g id=\"patch_74\">\n    <path clip-path=\"url(#p5b18d66323)\" d=\"M 98.029545 224.64 \nL 128.465909 224.64 \nL 128.465909 224.64 \nL 98.029545 224.64 \nz\n\" style=\"fill:#7f7f7f;\"/>\n   </g>\n   <g id=\"patch_75\">\n    <path clip-path=\"url(#p5b18d66323)\" d=\"M 128.465909 224.64 \nL 158.902273 224.64 \nL 158.902273 224.64 \nL 128.465909 224.64 \nz\n\" style=\"fill:#7f7f7f;\"/>\n   </g>\n   <g id=\"patch_76\">\n    <path clip-path=\"url(#p5b18d66323)\" d=\"M 158.902273 224.64 \nL 189.338636 224.64 \nL 189.338636 224.485081 \nL 158.902273 224.485081 \nz\n\" style=\"fill:#7f7f7f;\"/>\n   </g>\n   <g id=\"patch_77\">\n    <path clip-path=\"url(#p5b18d66323)\" d=\"M 189.338636 224.64 \nL 219.775 224.64 \nL 219.775 224.64 \nL 189.338636 224.64 \nz\n\" style=\"fill:#7f7f7f;\"/>\n   </g>\n   <g id=\"patch_78\">\n    <path clip-path=\"url(#p5b18d66323)\" d=\"M 219.775 224.64 \nL 250.211364 224.64 \nL 250.211364 224.64 \nL 219.775 224.64 \nz\n\" style=\"fill:#7f7f7f;\"/>\n   </g>\n   <g id=\"patch_79\">\n    <path clip-path=\"url(#p5b18d66323)\" d=\"M 250.211364 224.64 \nL 280.647727 224.64 \nL 280.647727 224.600804 \nL 250.211364 224.600804 \nz\n\" style=\"fill:#7f7f7f;\"/>\n   </g>\n   <g id=\"patch_80\">\n    <path clip-path=\"url(#p5b18d66323)\" d=\"M 280.647727 224.64 \nL 311.084091 224.64 \nL 311.084091 224.64 \nL 280.647727 224.64 \nz\n\" style=\"fill:#7f7f7f;\"/>\n   </g>\n   <g id=\"patch_81\">\n    <path clip-path=\"url(#p5b18d66323)\" d=\"M 311.084091 224.64 \nL 341.520455 224.64 \nL 341.520455 224.64 \nL 311.084091 224.64 \nz\n\" style=\"fill:#7f7f7f;\"/>\n   </g>\n   <g id=\"patch_82\">\n    <path clip-path=\"url(#p5b18d66323)\" d=\"M 341.520455 224.64 \nL 371.956818 224.64 \nL 371.956818 224.632534 \nL 341.520455 224.632534 \nz\n\" style=\"fill:#7f7f7f;\"/>\n   </g>\n   <g id=\"matplotlib.axis_1\">\n    <g id=\"xtick_1\">\n     <g id=\"line2d_1\">\n      <path clip-path=\"url(#p5b18d66323)\" d=\"M 67.593182 224.64 \nL 67.593182 7.2 \n\" style=\"fill:none;stroke:#b0b0b0;stroke-linecap:square;stroke-width:0.8;\"/>\n     </g>\n     <g id=\"line2d_2\">\n      <defs>\n       <path d=\"M 0 0 \nL 0 3.5 \n\" id=\"me364e3096b\" style=\"stroke:#000000;stroke-width:0.8;\"/>\n      </defs>\n      <g>\n       <use style=\"stroke:#000000;stroke-width:0.8;\" x=\"67.593182\" xlink:href=\"#me364e3096b\" y=\"224.64\"/>\n      </g>\n     </g>\n     <g id=\"text_1\">\n      <!-- 0.0 -->\n      <defs>\n       <path d=\"M 31.78125 66.40625 \nQ 24.171875 66.40625 20.328125 58.90625 \nQ 16.5 51.421875 16.5 36.375 \nQ 16.5 21.390625 20.328125 13.890625 \nQ 24.171875 6.390625 31.78125 6.390625 \nQ 39.453125 6.390625 43.28125 13.890625 \nQ 47.125 21.390625 47.125 36.375 \nQ 47.125 51.421875 43.28125 58.90625 \nQ 39.453125 66.40625 31.78125 66.40625 \nz\nM 31.78125 74.21875 \nQ 44.046875 74.21875 50.515625 64.515625 \nQ 56.984375 54.828125 56.984375 36.375 \nQ 56.984375 17.96875 50.515625 8.265625 \nQ 44.046875 -1.421875 31.78125 -1.421875 \nQ 19.53125 -1.421875 13.0625 8.265625 \nQ 6.59375 17.96875 6.59375 36.375 \nQ 6.59375 54.828125 13.0625 64.515625 \nQ 19.53125 74.21875 31.78125 74.21875 \nz\n\" id=\"DejaVuSans-48\"/>\n       <path d=\"M 10.6875 12.40625 \nL 21 12.40625 \nL 21 0 \nL 10.6875 0 \nz\n\" id=\"DejaVuSans-46\"/>\n      </defs>\n      <g transform=\"translate(59.641619 239.238437)scale(0.1 -0.1)\">\n       <use xlink:href=\"#DejaVuSans-48\"/>\n       <use x=\"63.623047\" xlink:href=\"#DejaVuSans-46\"/>\n       <use x=\"95.410156\" xlink:href=\"#DejaVuSans-48\"/>\n      </g>\n     </g>\n    </g>\n    <g id=\"xtick_2\">\n     <g id=\"line2d_3\">\n      <path clip-path=\"url(#p5b18d66323)\" d=\"M 118.320455 224.64 \nL 118.320455 7.2 \n\" style=\"fill:none;stroke:#b0b0b0;stroke-linecap:square;stroke-width:0.8;\"/>\n     </g>\n     <g id=\"line2d_4\">\n      <g>\n       <use style=\"stroke:#000000;stroke-width:0.8;\" x=\"118.320455\" xlink:href=\"#me364e3096b\" y=\"224.64\"/>\n      </g>\n     </g>\n     <g id=\"text_2\">\n      <!-- 0.5 -->\n      <defs>\n       <path d=\"M 10.796875 72.90625 \nL 49.515625 72.90625 \nL 49.515625 64.59375 \nL 19.828125 64.59375 \nL 19.828125 46.734375 \nQ 21.96875 47.46875 24.109375 47.828125 \nQ 26.265625 48.1875 28.421875 48.1875 \nQ 40.625 48.1875 47.75 41.5 \nQ 54.890625 34.8125 54.890625 23.390625 \nQ 54.890625 11.625 47.5625 5.09375 \nQ 40.234375 -1.421875 26.90625 -1.421875 \nQ 22.3125 -1.421875 17.546875 -0.640625 \nQ 12.796875 0.140625 7.71875 1.703125 \nL 7.71875 11.625 \nQ 12.109375 9.234375 16.796875 8.0625 \nQ 21.484375 6.890625 26.703125 6.890625 \nQ 35.15625 6.890625 40.078125 11.328125 \nQ 45.015625 15.765625 45.015625 23.390625 \nQ 45.015625 31 40.078125 35.4375 \nQ 35.15625 39.890625 26.703125 39.890625 \nQ 22.75 39.890625 18.8125 39.015625 \nQ 14.890625 38.140625 10.796875 36.28125 \nz\n\" id=\"DejaVuSans-53\"/>\n      </defs>\n      <g transform=\"translate(110.368892 239.238437)scale(0.1 -0.1)\">\n       <use xlink:href=\"#DejaVuSans-48\"/>\n       <use x=\"63.623047\" xlink:href=\"#DejaVuSans-46\"/>\n       <use x=\"95.410156\" xlink:href=\"#DejaVuSans-53\"/>\n      </g>\n     </g>\n    </g>\n    <g id=\"xtick_3\">\n     <g id=\"line2d_5\">\n      <path clip-path=\"url(#p5b18d66323)\" d=\"M 169.047727 224.64 \nL 169.047727 7.2 \n\" style=\"fill:none;stroke:#b0b0b0;stroke-linecap:square;stroke-width:0.8;\"/>\n     </g>\n     <g id=\"line2d_6\">\n      <g>\n       <use style=\"stroke:#000000;stroke-width:0.8;\" x=\"169.047727\" xlink:href=\"#me364e3096b\" y=\"224.64\"/>\n      </g>\n     </g>\n     <g id=\"text_3\">\n      <!-- 1.0 -->\n      <defs>\n       <path d=\"M 12.40625 8.296875 \nL 28.515625 8.296875 \nL 28.515625 63.921875 \nL 10.984375 60.40625 \nL 10.984375 69.390625 \nL 28.421875 72.90625 \nL 38.28125 72.90625 \nL 38.28125 8.296875 \nL 54.390625 8.296875 \nL 54.390625 0 \nL 12.40625 0 \nz\n\" id=\"DejaVuSans-49\"/>\n      </defs>\n      <g transform=\"translate(161.096165 239.238437)scale(0.1 -0.1)\">\n       <use xlink:href=\"#DejaVuSans-49\"/>\n       <use x=\"63.623047\" xlink:href=\"#DejaVuSans-46\"/>\n       <use x=\"95.410156\" xlink:href=\"#DejaVuSans-48\"/>\n      </g>\n     </g>\n    </g>\n    <g id=\"xtick_4\">\n     <g id=\"line2d_7\">\n      <path clip-path=\"url(#p5b18d66323)\" d=\"M 219.775 224.64 \nL 219.775 7.2 \n\" style=\"fill:none;stroke:#b0b0b0;stroke-linecap:square;stroke-width:0.8;\"/>\n     </g>\n     <g id=\"line2d_8\">\n      <g>\n       <use style=\"stroke:#000000;stroke-width:0.8;\" x=\"219.775\" xlink:href=\"#me364e3096b\" y=\"224.64\"/>\n      </g>\n     </g>\n     <g id=\"text_4\">\n      <!-- 1.5 -->\n      <g transform=\"translate(211.823438 239.238437)scale(0.1 -0.1)\">\n       <use xlink:href=\"#DejaVuSans-49\"/>\n       <use x=\"63.623047\" xlink:href=\"#DejaVuSans-46\"/>\n       <use x=\"95.410156\" xlink:href=\"#DejaVuSans-53\"/>\n      </g>\n     </g>\n    </g>\n    <g id=\"xtick_5\">\n     <g id=\"line2d_9\">\n      <path clip-path=\"url(#p5b18d66323)\" d=\"M 270.502273 224.64 \nL 270.502273 7.2 \n\" style=\"fill:none;stroke:#b0b0b0;stroke-linecap:square;stroke-width:0.8;\"/>\n     </g>\n     <g id=\"line2d_10\">\n      <g>\n       <use style=\"stroke:#000000;stroke-width:0.8;\" x=\"270.502273\" xlink:href=\"#me364e3096b\" y=\"224.64\"/>\n      </g>\n     </g>\n     <g id=\"text_5\">\n      <!-- 2.0 -->\n      <defs>\n       <path d=\"M 19.1875 8.296875 \nL 53.609375 8.296875 \nL 53.609375 0 \nL 7.328125 0 \nL 7.328125 8.296875 \nQ 12.9375 14.109375 22.625 23.890625 \nQ 32.328125 33.6875 34.8125 36.53125 \nQ 39.546875 41.84375 41.421875 45.53125 \nQ 43.3125 49.21875 43.3125 52.78125 \nQ 43.3125 58.59375 39.234375 62.25 \nQ 35.15625 65.921875 28.609375 65.921875 \nQ 23.96875 65.921875 18.8125 64.3125 \nQ 13.671875 62.703125 7.8125 59.421875 \nL 7.8125 69.390625 \nQ 13.765625 71.78125 18.9375 73 \nQ 24.125 74.21875 28.421875 74.21875 \nQ 39.75 74.21875 46.484375 68.546875 \nQ 53.21875 62.890625 53.21875 53.421875 \nQ 53.21875 48.921875 51.53125 44.890625 \nQ 49.859375 40.875 45.40625 35.40625 \nQ 44.1875 33.984375 37.640625 27.21875 \nQ 31.109375 20.453125 19.1875 8.296875 \nz\n\" id=\"DejaVuSans-50\"/>\n      </defs>\n      <g transform=\"translate(262.55071 239.238437)scale(0.1 -0.1)\">\n       <use xlink:href=\"#DejaVuSans-50\"/>\n       <use x=\"63.623047\" xlink:href=\"#DejaVuSans-46\"/>\n       <use x=\"95.410156\" xlink:href=\"#DejaVuSans-48\"/>\n      </g>\n     </g>\n    </g>\n    <g id=\"xtick_6\">\n     <g id=\"line2d_11\">\n      <path clip-path=\"url(#p5b18d66323)\" d=\"M 321.229545 224.64 \nL 321.229545 7.2 \n\" style=\"fill:none;stroke:#b0b0b0;stroke-linecap:square;stroke-width:0.8;\"/>\n     </g>\n     <g id=\"line2d_12\">\n      <g>\n       <use style=\"stroke:#000000;stroke-width:0.8;\" x=\"321.229545\" xlink:href=\"#me364e3096b\" y=\"224.64\"/>\n      </g>\n     </g>\n     <g id=\"text_6\">\n      <!-- 2.5 -->\n      <g transform=\"translate(313.277983 239.238437)scale(0.1 -0.1)\">\n       <use xlink:href=\"#DejaVuSans-50\"/>\n       <use x=\"63.623047\" xlink:href=\"#DejaVuSans-46\"/>\n       <use x=\"95.410156\" xlink:href=\"#DejaVuSans-53\"/>\n      </g>\n     </g>\n    </g>\n    <g id=\"xtick_7\">\n     <g id=\"line2d_13\">\n      <path clip-path=\"url(#p5b18d66323)\" d=\"M 371.956818 224.64 \nL 371.956818 7.2 \n\" style=\"fill:none;stroke:#b0b0b0;stroke-linecap:square;stroke-width:0.8;\"/>\n     </g>\n     <g id=\"line2d_14\">\n      <g>\n       <use style=\"stroke:#000000;stroke-width:0.8;\" x=\"371.956818\" xlink:href=\"#me364e3096b\" y=\"224.64\"/>\n      </g>\n     </g>\n     <g id=\"text_7\">\n      <!-- 3.0 -->\n      <defs>\n       <path d=\"M 40.578125 39.3125 \nQ 47.65625 37.796875 51.625 33 \nQ 55.609375 28.21875 55.609375 21.1875 \nQ 55.609375 10.40625 48.1875 4.484375 \nQ 40.765625 -1.421875 27.09375 -1.421875 \nQ 22.515625 -1.421875 17.65625 -0.515625 \nQ 12.796875 0.390625 7.625 2.203125 \nL 7.625 11.71875 \nQ 11.71875 9.328125 16.59375 8.109375 \nQ 21.484375 6.890625 26.8125 6.890625 \nQ 36.078125 6.890625 40.9375 10.546875 \nQ 45.796875 14.203125 45.796875 21.1875 \nQ 45.796875 27.640625 41.28125 31.265625 \nQ 36.765625 34.90625 28.71875 34.90625 \nL 20.21875 34.90625 \nL 20.21875 43.015625 \nL 29.109375 43.015625 \nQ 36.375 43.015625 40.234375 45.921875 \nQ 44.09375 48.828125 44.09375 54.296875 \nQ 44.09375 59.90625 40.109375 62.90625 \nQ 36.140625 65.921875 28.71875 65.921875 \nQ 24.65625 65.921875 20.015625 65.03125 \nQ 15.375 64.15625 9.8125 62.3125 \nL 9.8125 71.09375 \nQ 15.4375 72.65625 20.34375 73.4375 \nQ 25.25 74.21875 29.59375 74.21875 \nQ 40.828125 74.21875 47.359375 69.109375 \nQ 53.90625 64.015625 53.90625 55.328125 \nQ 53.90625 49.265625 50.4375 45.09375 \nQ 46.96875 40.921875 40.578125 39.3125 \nz\n\" id=\"DejaVuSans-51\"/>\n      </defs>\n      <g transform=\"translate(364.005256 239.238437)scale(0.1 -0.1)\">\n       <use xlink:href=\"#DejaVuSans-51\"/>\n       <use x=\"63.623047\" xlink:href=\"#DejaVuSans-46\"/>\n       <use x=\"95.410156\" xlink:href=\"#DejaVuSans-48\"/>\n      </g>\n     </g>\n    </g>\n   </g>\n   <g id=\"matplotlib.axis_2\">\n    <g id=\"ytick_1\">\n     <g id=\"line2d_15\">\n      <path clip-path=\"url(#p5b18d66323)\" d=\"M 52.375 224.64 \nL 387.175 224.64 \n\" style=\"fill:none;stroke:#b0b0b0;stroke-linecap:square;stroke-width:0.8;\"/>\n     </g>\n     <g id=\"line2d_16\">\n      <defs>\n       <path d=\"M 0 0 \nL -3.5 0 \n\" id=\"mab393012f7\" style=\"stroke:#000000;stroke-width:0.8;\"/>\n      </defs>\n      <g>\n       <use style=\"stroke:#000000;stroke-width:0.8;\" x=\"52.375\" xlink:href=\"#mab393012f7\" y=\"224.64\"/>\n      </g>\n     </g>\n     <g id=\"text_8\">\n      <!-- 0 -->\n      <g transform=\"translate(39.0125 228.439219)scale(0.1 -0.1)\">\n       <use xlink:href=\"#DejaVuSans-48\"/>\n      </g>\n     </g>\n    </g>\n    <g id=\"ytick_2\">\n     <g id=\"line2d_17\">\n      <path clip-path=\"url(#p5b18d66323)\" d=\"M 52.375 187.310107 \nL 387.175 187.310107 \n\" style=\"fill:none;stroke:#b0b0b0;stroke-linecap:square;stroke-width:0.8;\"/>\n     </g>\n     <g id=\"line2d_18\">\n      <g>\n       <use style=\"stroke:#000000;stroke-width:0.8;\" x=\"52.375\" xlink:href=\"#mab393012f7\" y=\"187.310107\"/>\n      </g>\n     </g>\n     <g id=\"text_9\">\n      <!-- 20000 -->\n      <g transform=\"translate(13.5625 191.109326)scale(0.1 -0.1)\">\n       <use xlink:href=\"#DejaVuSans-50\"/>\n       <use x=\"63.623047\" xlink:href=\"#DejaVuSans-48\"/>\n       <use x=\"127.246094\" xlink:href=\"#DejaVuSans-48\"/>\n       <use x=\"190.869141\" xlink:href=\"#DejaVuSans-48\"/>\n       <use x=\"254.492188\" xlink:href=\"#DejaVuSans-48\"/>\n      </g>\n     </g>\n    </g>\n    <g id=\"ytick_3\">\n     <g id=\"line2d_19\">\n      <path clip-path=\"url(#p5b18d66323)\" d=\"M 52.375 149.980214 \nL 387.175 149.980214 \n\" style=\"fill:none;stroke:#b0b0b0;stroke-linecap:square;stroke-width:0.8;\"/>\n     </g>\n     <g id=\"line2d_20\">\n      <g>\n       <use style=\"stroke:#000000;stroke-width:0.8;\" x=\"52.375\" xlink:href=\"#mab393012f7\" y=\"149.980214\"/>\n      </g>\n     </g>\n     <g id=\"text_10\">\n      <!-- 40000 -->\n      <defs>\n       <path d=\"M 37.796875 64.3125 \nL 12.890625 25.390625 \nL 37.796875 25.390625 \nz\nM 35.203125 72.90625 \nL 47.609375 72.90625 \nL 47.609375 25.390625 \nL 58.015625 25.390625 \nL 58.015625 17.1875 \nL 47.609375 17.1875 \nL 47.609375 0 \nL 37.796875 0 \nL 37.796875 17.1875 \nL 4.890625 17.1875 \nL 4.890625 26.703125 \nz\n\" id=\"DejaVuSans-52\"/>\n      </defs>\n      <g transform=\"translate(13.5625 153.779433)scale(0.1 -0.1)\">\n       <use xlink:href=\"#DejaVuSans-52\"/>\n       <use x=\"63.623047\" xlink:href=\"#DejaVuSans-48\"/>\n       <use x=\"127.246094\" xlink:href=\"#DejaVuSans-48\"/>\n       <use x=\"190.869141\" xlink:href=\"#DejaVuSans-48\"/>\n       <use x=\"254.492188\" xlink:href=\"#DejaVuSans-48\"/>\n      </g>\n     </g>\n    </g>\n    <g id=\"ytick_4\">\n     <g id=\"line2d_21\">\n      <path clip-path=\"url(#p5b18d66323)\" d=\"M 52.375 112.650321 \nL 387.175 112.650321 \n\" style=\"fill:none;stroke:#b0b0b0;stroke-linecap:square;stroke-width:0.8;\"/>\n     </g>\n     <g id=\"line2d_22\">\n      <g>\n       <use style=\"stroke:#000000;stroke-width:0.8;\" x=\"52.375\" xlink:href=\"#mab393012f7\" y=\"112.650321\"/>\n      </g>\n     </g>\n     <g id=\"text_11\">\n      <!-- 60000 -->\n      <defs>\n       <path d=\"M 33.015625 40.375 \nQ 26.375 40.375 22.484375 35.828125 \nQ 18.609375 31.296875 18.609375 23.390625 \nQ 18.609375 15.53125 22.484375 10.953125 \nQ 26.375 6.390625 33.015625 6.390625 \nQ 39.65625 6.390625 43.53125 10.953125 \nQ 47.40625 15.53125 47.40625 23.390625 \nQ 47.40625 31.296875 43.53125 35.828125 \nQ 39.65625 40.375 33.015625 40.375 \nz\nM 52.59375 71.296875 \nL 52.59375 62.3125 \nQ 48.875 64.0625 45.09375 64.984375 \nQ 41.3125 65.921875 37.59375 65.921875 \nQ 27.828125 65.921875 22.671875 59.328125 \nQ 17.53125 52.734375 16.796875 39.40625 \nQ 19.671875 43.65625 24.015625 45.921875 \nQ 28.375 48.1875 33.59375 48.1875 \nQ 44.578125 48.1875 50.953125 41.515625 \nQ 57.328125 34.859375 57.328125 23.390625 \nQ 57.328125 12.15625 50.6875 5.359375 \nQ 44.046875 -1.421875 33.015625 -1.421875 \nQ 20.359375 -1.421875 13.671875 8.265625 \nQ 6.984375 17.96875 6.984375 36.375 \nQ 6.984375 53.65625 15.1875 63.9375 \nQ 23.390625 74.21875 37.203125 74.21875 \nQ 40.921875 74.21875 44.703125 73.484375 \nQ 48.484375 72.75 52.59375 71.296875 \nz\n\" id=\"DejaVuSans-54\"/>\n      </defs>\n      <g transform=\"translate(13.5625 116.44954)scale(0.1 -0.1)\">\n       <use xlink:href=\"#DejaVuSans-54\"/>\n       <use x=\"63.623047\" xlink:href=\"#DejaVuSans-48\"/>\n       <use x=\"127.246094\" xlink:href=\"#DejaVuSans-48\"/>\n       <use x=\"190.869141\" xlink:href=\"#DejaVuSans-48\"/>\n       <use x=\"254.492188\" xlink:href=\"#DejaVuSans-48\"/>\n      </g>\n     </g>\n    </g>\n    <g id=\"ytick_5\">\n     <g id=\"line2d_23\">\n      <path clip-path=\"url(#p5b18d66323)\" d=\"M 52.375 75.320428 \nL 387.175 75.320428 \n\" style=\"fill:none;stroke:#b0b0b0;stroke-linecap:square;stroke-width:0.8;\"/>\n     </g>\n     <g id=\"line2d_24\">\n      <g>\n       <use style=\"stroke:#000000;stroke-width:0.8;\" x=\"52.375\" xlink:href=\"#mab393012f7\" y=\"75.320428\"/>\n      </g>\n     </g>\n     <g id=\"text_12\">\n      <!-- 80000 -->\n      <defs>\n       <path d=\"M 31.78125 34.625 \nQ 24.75 34.625 20.71875 30.859375 \nQ 16.703125 27.09375 16.703125 20.515625 \nQ 16.703125 13.921875 20.71875 10.15625 \nQ 24.75 6.390625 31.78125 6.390625 \nQ 38.8125 6.390625 42.859375 10.171875 \nQ 46.921875 13.96875 46.921875 20.515625 \nQ 46.921875 27.09375 42.890625 30.859375 \nQ 38.875 34.625 31.78125 34.625 \nz\nM 21.921875 38.8125 \nQ 15.578125 40.375 12.03125 44.71875 \nQ 8.5 49.078125 8.5 55.328125 \nQ 8.5 64.0625 14.71875 69.140625 \nQ 20.953125 74.21875 31.78125 74.21875 \nQ 42.671875 74.21875 48.875 69.140625 \nQ 55.078125 64.0625 55.078125 55.328125 \nQ 55.078125 49.078125 51.53125 44.71875 \nQ 48 40.375 41.703125 38.8125 \nQ 48.828125 37.15625 52.796875 32.3125 \nQ 56.78125 27.484375 56.78125 20.515625 \nQ 56.78125 9.90625 50.3125 4.234375 \nQ 43.84375 -1.421875 31.78125 -1.421875 \nQ 19.734375 -1.421875 13.25 4.234375 \nQ 6.78125 9.90625 6.78125 20.515625 \nQ 6.78125 27.484375 10.78125 32.3125 \nQ 14.796875 37.15625 21.921875 38.8125 \nz\nM 18.3125 54.390625 \nQ 18.3125 48.734375 21.84375 45.5625 \nQ 25.390625 42.390625 31.78125 42.390625 \nQ 38.140625 42.390625 41.71875 45.5625 \nQ 45.3125 48.734375 45.3125 54.390625 \nQ 45.3125 60.0625 41.71875 63.234375 \nQ 38.140625 66.40625 31.78125 66.40625 \nQ 25.390625 66.40625 21.84375 63.234375 \nQ 18.3125 60.0625 18.3125 54.390625 \nz\n\" id=\"DejaVuSans-56\"/>\n      </defs>\n      <g transform=\"translate(13.5625 79.119647)scale(0.1 -0.1)\">\n       <use xlink:href=\"#DejaVuSans-56\"/>\n       <use x=\"63.623047\" xlink:href=\"#DejaVuSans-48\"/>\n       <use x=\"127.246094\" xlink:href=\"#DejaVuSans-48\"/>\n       <use x=\"190.869141\" xlink:href=\"#DejaVuSans-48\"/>\n       <use x=\"254.492188\" xlink:href=\"#DejaVuSans-48\"/>\n      </g>\n     </g>\n    </g>\n    <g id=\"ytick_6\">\n     <g id=\"line2d_25\">\n      <path clip-path=\"url(#p5b18d66323)\" d=\"M 52.375 37.990536 \nL 387.175 37.990536 \n\" style=\"fill:none;stroke:#b0b0b0;stroke-linecap:square;stroke-width:0.8;\"/>\n     </g>\n     <g id=\"line2d_26\">\n      <g>\n       <use style=\"stroke:#000000;stroke-width:0.8;\" x=\"52.375\" xlink:href=\"#mab393012f7\" y=\"37.990536\"/>\n      </g>\n     </g>\n     <g id=\"text_13\">\n      <!-- 100000 -->\n      <g transform=\"translate(7.2 41.789754)scale(0.1 -0.1)\">\n       <use xlink:href=\"#DejaVuSans-49\"/>\n       <use x=\"63.623047\" xlink:href=\"#DejaVuSans-48\"/>\n       <use x=\"127.246094\" xlink:href=\"#DejaVuSans-48\"/>\n       <use x=\"190.869141\" xlink:href=\"#DejaVuSans-48\"/>\n       <use x=\"254.492188\" xlink:href=\"#DejaVuSans-48\"/>\n       <use x=\"318.115234\" xlink:href=\"#DejaVuSans-48\"/>\n      </g>\n     </g>\n    </g>\n   </g>\n   <g id=\"patch_83\">\n    <path d=\"M 52.375 224.64 \nL 52.375 7.2 \n\" style=\"fill:none;stroke:#000000;stroke-linecap:square;stroke-linejoin:miter;stroke-width:0.8;\"/>\n   </g>\n   <g id=\"patch_84\">\n    <path d=\"M 387.175 224.64 \nL 387.175 7.2 \n\" style=\"fill:none;stroke:#000000;stroke-linecap:square;stroke-linejoin:miter;stroke-width:0.8;\"/>\n   </g>\n   <g id=\"patch_85\">\n    <path d=\"M 52.375 224.64 \nL 387.175 224.64 \n\" style=\"fill:none;stroke:#000000;stroke-linecap:square;stroke-linejoin:miter;stroke-width:0.8;\"/>\n   </g>\n   <g id=\"patch_86\">\n    <path d=\"M 52.375 7.2 \nL 387.175 7.2 \n\" style=\"fill:none;stroke:#000000;stroke-linecap:square;stroke-linejoin:miter;stroke-width:0.8;\"/>\n   </g>\n  </g>\n </g>\n <defs>\n  <clipPath id=\"p5b18d66323\">\n   <rect height=\"217.44\" width=\"334.8\" x=\"52.375\" y=\"7.2\"/>\n  </clipPath>\n </defs>\n</svg>\n",
      "image/png": "[encoded data removed]"
     },
     "metadata": {
      "needs_background": "light"
     }
    },
    {
     "output_type": "display_data",
     "data": {
      "text/plain": "<Figure size 432x288 with 1 Axes>",
      "image/svg+xml": "<?xml version=\"1.0\" encoding=\"utf-8\" standalone=\"no\"?>\n<!DOCTYPE svg PUBLIC \"-//W3C//DTD SVG 1.1//EN\"\n  \"http://www.w3.org/Graphics/SVG/1.1/DTD/svg11.dtd\">\n<!-- Created with matplotlib (https://matplotlib.org/) -->\n<svg height=\"248.518125pt\" version=\"1.1\" viewBox=\"0 0 381.65 248.518125\" width=\"381.65pt\" xmlns=\"http://www.w3.org/2000/svg\" xmlns:xlink=\"http://www.w3.org/1999/xlink\">\n <defs>\n  <style type=\"text/css\">\n*{stroke-linecap:butt;stroke-linejoin:round;}\n  </style>\n </defs>\n <g id=\"figure_1\">\n  <g id=\"patch_1\">\n   <path d=\"M -0 248.518125 \nL 381.65 248.518125 \nL 381.65 0 \nL -0 0 \nz\n\" style=\"fill:none;\"/>\n  </g>\n  <g id=\"axes_1\">\n   <g id=\"patch_2\">\n    <path d=\"M 39.65 224.64 \nL 374.45 224.64 \nL 374.45 7.2 \nL 39.65 7.2 \nz\n\" style=\"fill:#ffffff;\"/>\n   </g>\n   <g id=\"patch_3\">\n    <path clip-path=\"url(#p06be08b08b)\" d=\"M 54.868182 224.64 \nL 85.304545 224.64 \nL 85.304545 17.554286 \nL 54.868182 17.554286 \nz\n\" style=\"fill:#1f77b4;\"/>\n   </g>\n   <g id=\"patch_4\">\n    <path clip-path=\"url(#p06be08b08b)\" d=\"M 85.304545 224.64 \nL 115.740909 224.64 \nL 115.740909 224.64 \nL 85.304545 224.64 \nz\n\" style=\"fill:#1f77b4;\"/>\n   </g>\n   <g id=\"patch_5\">\n    <path clip-path=\"url(#p06be08b08b)\" d=\"M 115.740909 224.64 \nL 146.177273 224.64 \nL 146.177273 224.64 \nL 115.740909 224.64 \nz\n\" style=\"fill:#1f77b4;\"/>\n   </g>\n   <g id=\"patch_6\">\n    <path clip-path=\"url(#p06be08b08b)\" d=\"M 146.177273 224.64 \nL 176.613636 224.64 \nL 176.613636 171.259335 \nL 146.177273 171.259335 \nz\n\" style=\"fill:#1f77b4;\"/>\n   </g>\n   <g id=\"patch_7\">\n    <path clip-path=\"url(#p06be08b08b)\" d=\"M 176.613636 224.64 \nL 207.05 224.64 \nL 207.05 224.64 \nL 176.613636 224.64 \nz\n\" style=\"fill:#1f77b4;\"/>\n   </g>\n   <g id=\"patch_8\">\n    <path clip-path=\"url(#p06be08b08b)\" d=\"M 207.05 224.64 \nL 237.486364 224.64 \nL 237.486364 224.64 \nL 207.05 224.64 \nz\n\" style=\"fill:#1f77b4;\"/>\n   </g>\n   <g id=\"patch_9\">\n    <path clip-path=\"url(#p06be08b08b)\" d=\"M 237.486364 224.64 \nL 267.922727 224.64 \nL 267.922727 123.212139 \nL 237.486364 123.212139 \nz\n\" style=\"fill:#1f77b4;\"/>\n   </g>\n   <g id=\"patch_10\">\n    <path clip-path=\"url(#p06be08b08b)\" d=\"M 267.922727 224.64 \nL 298.359091 224.64 \nL 298.359091 224.64 \nL 267.922727 224.64 \nz\n\" style=\"fill:#1f77b4;\"/>\n   </g>\n   <g id=\"patch_11\">\n    <path clip-path=\"url(#p06be08b08b)\" d=\"M 298.359091 224.64 \nL 328.795455 224.64 \nL 328.795455 224.64 \nL 298.359091 224.64 \nz\n\" style=\"fill:#1f77b4;\"/>\n   </g>\n   <g id=\"patch_12\">\n    <path clip-path=\"url(#p06be08b08b)\" d=\"M 328.795455 224.64 \nL 359.231818 224.64 \nL 359.231818 206.662532 \nL 328.795455 206.662532 \nz\n\" style=\"fill:#1f77b4;\"/>\n   </g>\n   <g id=\"patch_13\">\n    <path clip-path=\"url(#p06be08b08b)\" d=\"M 54.868182 224.64 \nL 85.304545 224.64 \nL 85.304545 210.24883 \nL 54.868182 210.24883 \nz\n\" style=\"fill:#ff7f0e;\"/>\n   </g>\n   <g id=\"patch_14\">\n    <path clip-path=\"url(#p06be08b08b)\" d=\"M 85.304545 224.64 \nL 115.740909 224.64 \nL 115.740909 224.64 \nL 85.304545 224.64 \nz\n\" style=\"fill:#ff7f0e;\"/>\n   </g>\n   <g id=\"patch_15\">\n    <path clip-path=\"url(#p06be08b08b)\" d=\"M 115.740909 224.64 \nL 146.177273 224.64 \nL 146.177273 224.64 \nL 115.740909 224.64 \nz\n\" style=\"fill:#ff7f0e;\"/>\n   </g>\n   <g id=\"patch_16\">\n    <path clip-path=\"url(#p06be08b08b)\" d=\"M 146.177273 224.64 \nL 176.613636 224.64 \nL 176.613636 220.59392 \nL 146.177273 220.59392 \nz\n\" style=\"fill:#ff7f0e;\"/>\n   </g>\n   <g id=\"patch_17\">\n    <path clip-path=\"url(#p06be08b08b)\" d=\"M 176.613636 224.64 \nL 207.05 224.64 \nL 207.05 224.64 \nL 176.613636 224.64 \nz\n\" style=\"fill:#ff7f0e;\"/>\n   </g>\n   <g id=\"patch_18\">\n    <path clip-path=\"url(#p06be08b08b)\" d=\"M 207.05 224.64 \nL 237.486364 224.64 \nL 237.486364 224.64 \nL 207.05 224.64 \nz\n\" style=\"fill:#ff7f0e;\"/>\n   </g>\n   <g id=\"patch_19\">\n    <path clip-path=\"url(#p06be08b08b)\" d=\"M 237.486364 224.64 \nL 267.922727 224.64 \nL 267.922727 219.674357 \nL 237.486364 219.674357 \nz\n\" style=\"fill:#ff7f0e;\"/>\n   </g>\n   <g id=\"patch_20\">\n    <path clip-path=\"url(#p06be08b08b)\" d=\"M 267.922727 224.64 \nL 298.359091 224.64 \nL 298.359091 224.64 \nL 267.922727 224.64 \nz\n\" style=\"fill:#ff7f0e;\"/>\n   </g>\n   <g id=\"patch_21\">\n    <path clip-path=\"url(#p06be08b08b)\" d=\"M 298.359091 224.64 \nL 328.795455 224.64 \nL 328.795455 224.64 \nL 298.359091 224.64 \nz\n\" style=\"fill:#ff7f0e;\"/>\n   </g>\n   <g id=\"patch_22\">\n    <path clip-path=\"url(#p06be08b08b)\" d=\"M 328.795455 224.64 \nL 359.231818 224.64 \nL 359.231818 223.12272 \nL 328.795455 223.12272 \nz\n\" style=\"fill:#ff7f0e;\"/>\n   </g>\n   <g id=\"patch_23\">\n    <path clip-path=\"url(#p06be08b08b)\" d=\"M 54.868182 224.64 \nL 85.304545 224.64 \nL 85.304545 206.110794 \nL 54.868182 206.110794 \nz\n\" style=\"fill:#2ca02c;\"/>\n   </g>\n   <g id=\"patch_24\">\n    <path clip-path=\"url(#p06be08b08b)\" d=\"M 85.304545 224.64 \nL 115.740909 224.64 \nL 115.740909 224.64 \nL 85.304545 224.64 \nz\n\" style=\"fill:#2ca02c;\"/>\n   </g>\n   <g id=\"patch_25\">\n    <path clip-path=\"url(#p06be08b08b)\" d=\"M 115.740909 224.64 \nL 146.177273 224.64 \nL 146.177273 224.64 \nL 115.740909 224.64 \nz\n\" style=\"fill:#2ca02c;\"/>\n   </g>\n   <g id=\"patch_26\">\n    <path clip-path=\"url(#p06be08b08b)\" d=\"M 146.177273 224.64 \nL 176.613636 224.64 \nL 176.613636 210.524699 \nL 146.177273 210.524699 \nz\n\" style=\"fill:#2ca02c;\"/>\n   </g>\n   <g id=\"patch_27\">\n    <path clip-path=\"url(#p06be08b08b)\" d=\"M 176.613636 224.64 \nL 207.05 224.64 \nL 207.05 224.64 \nL 176.613636 224.64 \nz\n\" style=\"fill:#2ca02c;\"/>\n   </g>\n   <g id=\"patch_28\">\n    <path clip-path=\"url(#p06be08b08b)\" d=\"M 207.05 224.64 \nL 237.486364 224.64 \nL 237.486364 224.64 \nL 207.05 224.64 \nz\n\" style=\"fill:#2ca02c;\"/>\n   </g>\n   <g id=\"patch_29\">\n    <path clip-path=\"url(#p06be08b08b)\" d=\"M 237.486364 224.64 \nL 267.922727 224.64 \nL 267.922727 219.536422 \nL 237.486364 219.536422 \nz\n\" style=\"fill:#2ca02c;\"/>\n   </g>\n   <g id=\"patch_30\">\n    <path clip-path=\"url(#p06be08b08b)\" d=\"M 267.922727 224.64 \nL 298.359091 224.64 \nL 298.359091 224.64 \nL 267.922727 224.64 \nz\n\" style=\"fill:#2ca02c;\"/>\n   </g>\n   <g id=\"patch_31\">\n    <path clip-path=\"url(#p06be08b08b)\" d=\"M 298.359091 224.64 \nL 328.795455 224.64 \nL 328.795455 224.64 \nL 298.359091 224.64 \nz\n\" style=\"fill:#2ca02c;\"/>\n   </g>\n   <g id=\"patch_32\">\n    <path clip-path=\"url(#p06be08b08b)\" d=\"M 328.795455 224.64 \nL 359.231818 224.64 \nL 359.231818 223.996306 \nL 328.795455 223.996306 \nz\n\" style=\"fill:#2ca02c;\"/>\n   </g>\n   <g id=\"patch_33\">\n    <path clip-path=\"url(#p06be08b08b)\" d=\"M 54.868182 224.64 \nL 85.304545 224.64 \nL 85.304545 218.065121 \nL 54.868182 218.065121 \nz\n\" style=\"fill:#d62728;\"/>\n   </g>\n   <g id=\"patch_34\">\n    <path clip-path=\"url(#p06be08b08b)\" d=\"M 85.304545 224.64 \nL 115.740909 224.64 \nL 115.740909 224.64 \nL 85.304545 224.64 \nz\n\" style=\"fill:#d62728;\"/>\n   </g>\n   <g id=\"patch_35\">\n    <path clip-path=\"url(#p06be08b08b)\" d=\"M 115.740909 224.64 \nL 146.177273 224.64 \nL 146.177273 224.64 \nL 115.740909 224.64 \nz\n\" style=\"fill:#d62728;\"/>\n   </g>\n   <g id=\"patch_36\">\n    <path clip-path=\"url(#p06be08b08b)\" d=\"M 146.177273 224.64 \nL 176.613636 224.64 \nL 176.613636 222.479026 \nL 146.177273 222.479026 \nz\n\" style=\"fill:#d62728;\"/>\n   </g>\n   <g id=\"patch_37\">\n    <path clip-path=\"url(#p06be08b08b)\" d=\"M 176.613636 224.64 \nL 207.05 224.64 \nL 207.05 224.64 \nL 176.613636 224.64 \nz\n\" style=\"fill:#d62728;\"/>\n   </g>\n   <g id=\"patch_38\">\n    <path clip-path=\"url(#p06be08b08b)\" d=\"M 207.05 224.64 \nL 237.486364 224.64 \nL 237.486364 224.64 \nL 207.05 224.64 \nz\n\" style=\"fill:#d62728;\"/>\n   </g>\n   <g id=\"patch_39\">\n    <path clip-path=\"url(#p06be08b08b)\" d=\"M 237.486364 224.64 \nL 267.922727 224.64 \nL 267.922727 222.938807 \nL 237.486364 222.938807 \nz\n\" style=\"fill:#d62728;\"/>\n   </g>\n   <g id=\"patch_40\">\n    <path clip-path=\"url(#p06be08b08b)\" d=\"M 267.922727 224.64 \nL 298.359091 224.64 \nL 298.359091 224.64 \nL 267.922727 224.64 \nz\n\" style=\"fill:#d62728;\"/>\n   </g>\n   <g id=\"patch_41\">\n    <path clip-path=\"url(#p06be08b08b)\" d=\"M 298.359091 224.64 \nL 328.795455 224.64 \nL 328.795455 224.64 \nL 298.359091 224.64 \nz\n\" style=\"fill:#d62728;\"/>\n   </g>\n   <g id=\"patch_42\">\n    <path clip-path=\"url(#p06be08b08b)\" d=\"M 328.795455 224.64 \nL 359.231818 224.64 \nL 359.231818 224.502065 \nL 328.795455 224.502065 \nz\n\" style=\"fill:#d62728;\"/>\n   </g>\n   <g id=\"patch_43\">\n    <path clip-path=\"url(#p06be08b08b)\" d=\"M 54.868182 224.64 \nL 85.304545 224.64 \nL 85.304545 221.329571 \nL 54.868182 221.329571 \nz\n\" style=\"fill:#9467bd;\"/>\n   </g>\n   <g id=\"patch_44\">\n    <path clip-path=\"url(#p06be08b08b)\" d=\"M 85.304545 224.64 \nL 115.740909 224.64 \nL 115.740909 224.64 \nL 85.304545 224.64 \nz\n\" style=\"fill:#9467bd;\"/>\n   </g>\n   <g id=\"patch_45\">\n    <path clip-path=\"url(#p06be08b08b)\" d=\"M 115.740909 224.64 \nL 146.177273 224.64 \nL 146.177273 224.64 \nL 115.740909 224.64 \nz\n\" style=\"fill:#9467bd;\"/>\n   </g>\n   <g id=\"patch_46\">\n    <path clip-path=\"url(#p06be08b08b)\" d=\"M 146.177273 224.64 \nL 176.613636 224.64 \nL 176.613636 224.042284 \nL 146.177273 224.042284 \nz\n\" style=\"fill:#9467bd;\"/>\n   </g>\n   <g id=\"patch_47\">\n    <path clip-path=\"url(#p06be08b08b)\" d=\"M 176.613636 224.64 \nL 207.05 224.64 \nL 207.05 224.64 \nL 176.613636 224.64 \nz\n\" style=\"fill:#9467bd;\"/>\n   </g>\n   <g id=\"patch_48\">\n    <path clip-path=\"url(#p06be08b08b)\" d=\"M 207.05 224.64 \nL 237.486364 224.64 \nL 237.486364 224.64 \nL 207.05 224.64 \nz\n\" style=\"fill:#9467bd;\"/>\n   </g>\n   <g id=\"patch_49\">\n    <path clip-path=\"url(#p06be08b08b)\" d=\"M 237.486364 224.64 \nL 267.922727 224.64 \nL 267.922727 224.088262 \nL 237.486364 224.088262 \nz\n\" style=\"fill:#9467bd;\"/>\n   </g>\n   <g id=\"patch_50\">\n    <path clip-path=\"url(#p06be08b08b)\" d=\"M 267.922727 224.64 \nL 298.359091 224.64 \nL 298.359091 224.64 \nL 267.922727 224.64 \nz\n\" style=\"fill:#9467bd;\"/>\n   </g>\n   <g id=\"patch_51\">\n    <path clip-path=\"url(#p06be08b08b)\" d=\"M 298.359091 224.64 \nL 328.795455 224.64 \nL 328.795455 224.64 \nL 298.359091 224.64 \nz\n\" style=\"fill:#9467bd;\"/>\n   </g>\n   <g id=\"patch_52\">\n    <path clip-path=\"url(#p06be08b08b)\" d=\"M 328.795455 224.64 \nL 359.231818 224.64 \nL 359.231818 224.548044 \nL 328.795455 224.548044 \nz\n\" style=\"fill:#9467bd;\"/>\n   </g>\n   <g id=\"patch_53\">\n    <path clip-path=\"url(#p06be08b08b)\" d=\"M 54.868182 224.64 \nL 85.304545 224.64 \nL 85.304545 223.490546 \nL 54.868182 223.490546 \nz\n\" style=\"fill:#8c564b;\"/>\n   </g>\n   <g id=\"patch_54\">\n    <path clip-path=\"url(#p06be08b08b)\" d=\"M 85.304545 224.64 \nL 115.740909 224.64 \nL 115.740909 224.64 \nL 85.304545 224.64 \nz\n\" style=\"fill:#8c564b;\"/>\n   </g>\n   <g id=\"patch_55\">\n    <path clip-path=\"url(#p06be08b08b)\" d=\"M 115.740909 224.64 \nL 146.177273 224.64 \nL 146.177273 224.64 \nL 115.740909 224.64 \nz\n\" style=\"fill:#8c564b;\"/>\n   </g>\n   <g id=\"patch_56\">\n    <path clip-path=\"url(#p06be08b08b)\" d=\"M 146.177273 224.64 \nL 176.613636 224.64 \nL 176.613636 223.996306 \nL 146.177273 223.996306 \nz\n\" style=\"fill:#8c564b;\"/>\n   </g>\n   <g id=\"patch_57\">\n    <path clip-path=\"url(#p06be08b08b)\" d=\"M 176.613636 224.64 \nL 207.05 224.64 \nL 207.05 224.64 \nL 176.613636 224.64 \nz\n\" style=\"fill:#8c564b;\"/>\n   </g>\n   <g id=\"patch_58\">\n    <path clip-path=\"url(#p06be08b08b)\" d=\"M 207.05 224.64 \nL 237.486364 224.64 \nL 237.486364 224.64 \nL 207.05 224.64 \nz\n\" style=\"fill:#8c564b;\"/>\n   </g>\n   <g id=\"patch_59\">\n    <path clip-path=\"url(#p06be08b08b)\" d=\"M 237.486364 224.64 \nL 267.922727 224.64 \nL 267.922727 223.950327 \nL 237.486364 223.950327 \nz\n\" style=\"fill:#8c564b;\"/>\n   </g>\n   <g id=\"patch_60\">\n    <path clip-path=\"url(#p06be08b08b)\" d=\"M 267.922727 224.64 \nL 298.359091 224.64 \nL 298.359091 224.64 \nL 267.922727 224.64 \nz\n\" style=\"fill:#8c564b;\"/>\n   </g>\n   <g id=\"patch_61\">\n    <path clip-path=\"url(#p06be08b08b)\" d=\"M 298.359091 224.64 \nL 328.795455 224.64 \nL 328.795455 224.64 \nL 298.359091 224.64 \nz\n\" style=\"fill:#8c564b;\"/>\n   </g>\n   <g id=\"patch_62\">\n    <path clip-path=\"url(#p06be08b08b)\" d=\"M 328.795455 224.64 \nL 359.231818 224.64 \nL 359.231818 224.594022 \nL 328.795455 224.594022 \nz\n\" style=\"fill:#8c564b;\"/>\n   </g>\n   <g id=\"patch_63\">\n    <path clip-path=\"url(#p06be08b08b)\" d=\"M 54.868182 224.64 \nL 85.304545 224.64 \nL 85.304545 218.524902 \nL 54.868182 218.524902 \nz\n\" style=\"fill:#e377c2;\"/>\n   </g>\n   <g id=\"patch_64\">\n    <path clip-path=\"url(#p06be08b08b)\" d=\"M 85.304545 224.64 \nL 115.740909 224.64 \nL 115.740909 224.64 \nL 85.304545 224.64 \nz\n\" style=\"fill:#e377c2;\"/>\n   </g>\n   <g id=\"patch_65\">\n    <path clip-path=\"url(#p06be08b08b)\" d=\"M 115.740909 224.64 \nL 146.177273 224.64 \nL 146.177273 224.64 \nL 115.740909 224.64 \nz\n\" style=\"fill:#e377c2;\"/>\n   </g>\n   <g id=\"patch_66\">\n    <path clip-path=\"url(#p06be08b08b)\" d=\"M 146.177273 224.64 \nL 176.613636 224.64 \nL 176.613636 220.823811 \nL 146.177273 220.823811 \nz\n\" style=\"fill:#e377c2;\"/>\n   </g>\n   <g id=\"patch_67\">\n    <path clip-path=\"url(#p06be08b08b)\" d=\"M 176.613636 224.64 \nL 207.05 224.64 \nL 207.05 224.64 \nL 176.613636 224.64 \nz\n\" style=\"fill:#e377c2;\"/>\n   </g>\n   <g id=\"patch_68\">\n    <path clip-path=\"url(#p06be08b08b)\" d=\"M 207.05 224.64 \nL 237.486364 224.64 \nL 237.486364 224.64 \nL 207.05 224.64 \nz\n\" style=\"fill:#e377c2;\"/>\n   </g>\n   <g id=\"patch_69\">\n    <path clip-path=\"url(#p06be08b08b)\" d=\"M 237.486364 224.64 \nL 267.922727 224.64 \nL 267.922727 223.674458 \nL 237.486364 223.674458 \nz\n\" style=\"fill:#e377c2;\"/>\n   </g>\n   <g id=\"patch_70\">\n    <path clip-path=\"url(#p06be08b08b)\" d=\"M 267.922727 224.64 \nL 298.359091 224.64 \nL 298.359091 224.64 \nL 267.922727 224.64 \nz\n\" style=\"fill:#e377c2;\"/>\n   </g>\n   <g id=\"patch_71\">\n    <path clip-path=\"url(#p06be08b08b)\" d=\"M 298.359091 224.64 \nL 328.795455 224.64 \nL 328.795455 224.64 \nL 298.359091 224.64 \nz\n\" style=\"fill:#e377c2;\"/>\n   </g>\n   <g id=\"patch_72\">\n    <path clip-path=\"url(#p06be08b08b)\" d=\"M 328.795455 224.64 \nL 359.231818 224.64 \nL 359.231818 224.456087 \nL 328.795455 224.456087 \nz\n\" style=\"fill:#e377c2;\"/>\n   </g>\n   <g id=\"matplotlib.axis_1\">\n    <g id=\"xtick_1\">\n     <g id=\"line2d_1\">\n      <path clip-path=\"url(#p06be08b08b)\" d=\"M 54.868182 224.64 \nL 54.868182 7.2 \n\" style=\"fill:none;stroke:#b0b0b0;stroke-linecap:square;stroke-width:0.8;\"/>\n     </g>\n     <g id=\"line2d_2\">\n      <defs>\n       <path d=\"M 0 0 \nL 0 3.5 \n\" id=\"m873070c89c\" style=\"stroke:#000000;stroke-width:0.8;\"/>\n      </defs>\n      <g>\n       <use style=\"stroke:#000000;stroke-width:0.8;\" x=\"54.868182\" xlink:href=\"#m873070c89c\" y=\"224.64\"/>\n      </g>\n     </g>\n     <g id=\"text_1\">\n      <!-- 0.0 -->\n      <defs>\n       <path d=\"M 31.78125 66.40625 \nQ 24.171875 66.40625 20.328125 58.90625 \nQ 16.5 51.421875 16.5 36.375 \nQ 16.5 21.390625 20.328125 13.890625 \nQ 24.171875 6.390625 31.78125 6.390625 \nQ 39.453125 6.390625 43.28125 13.890625 \nQ 47.125 21.390625 47.125 36.375 \nQ 47.125 51.421875 43.28125 58.90625 \nQ 39.453125 66.40625 31.78125 66.40625 \nz\nM 31.78125 74.21875 \nQ 44.046875 74.21875 50.515625 64.515625 \nQ 56.984375 54.828125 56.984375 36.375 \nQ 56.984375 17.96875 50.515625 8.265625 \nQ 44.046875 -1.421875 31.78125 -1.421875 \nQ 19.53125 -1.421875 13.0625 8.265625 \nQ 6.59375 17.96875 6.59375 36.375 \nQ 6.59375 54.828125 13.0625 64.515625 \nQ 19.53125 74.21875 31.78125 74.21875 \nz\n\" id=\"DejaVuSans-48\"/>\n       <path d=\"M 10.6875 12.40625 \nL 21 12.40625 \nL 21 0 \nL 10.6875 0 \nz\n\" id=\"DejaVuSans-46\"/>\n      </defs>\n      <g transform=\"translate(46.916619 239.238437)scale(0.1 -0.1)\">\n       <use xlink:href=\"#DejaVuSans-48\"/>\n       <use x=\"63.623047\" xlink:href=\"#DejaVuSans-46\"/>\n       <use x=\"95.410156\" xlink:href=\"#DejaVuSans-48\"/>\n      </g>\n     </g>\n    </g>\n    <g id=\"xtick_2\">\n     <g id=\"line2d_3\">\n      <path clip-path=\"url(#p06be08b08b)\" d=\"M 105.595455 224.64 \nL 105.595455 7.2 \n\" style=\"fill:none;stroke:#b0b0b0;stroke-linecap:square;stroke-width:0.8;\"/>\n     </g>\n     <g id=\"line2d_4\">\n      <g>\n       <use style=\"stroke:#000000;stroke-width:0.8;\" x=\"105.595455\" xlink:href=\"#m873070c89c\" y=\"224.64\"/>\n      </g>\n     </g>\n     <g id=\"text_2\">\n      <!-- 0.5 -->\n      <defs>\n       <path d=\"M 10.796875 72.90625 \nL 49.515625 72.90625 \nL 49.515625 64.59375 \nL 19.828125 64.59375 \nL 19.828125 46.734375 \nQ 21.96875 47.46875 24.109375 47.828125 \nQ 26.265625 48.1875 28.421875 48.1875 \nQ 40.625 48.1875 47.75 41.5 \nQ 54.890625 34.8125 54.890625 23.390625 \nQ 54.890625 11.625 47.5625 5.09375 \nQ 40.234375 -1.421875 26.90625 -1.421875 \nQ 22.3125 -1.421875 17.546875 -0.640625 \nQ 12.796875 0.140625 7.71875 1.703125 \nL 7.71875 11.625 \nQ 12.109375 9.234375 16.796875 8.0625 \nQ 21.484375 6.890625 26.703125 6.890625 \nQ 35.15625 6.890625 40.078125 11.328125 \nQ 45.015625 15.765625 45.015625 23.390625 \nQ 45.015625 31 40.078125 35.4375 \nQ 35.15625 39.890625 26.703125 39.890625 \nQ 22.75 39.890625 18.8125 39.015625 \nQ 14.890625 38.140625 10.796875 36.28125 \nz\n\" id=\"DejaVuSans-53\"/>\n      </defs>\n      <g transform=\"translate(97.643892 239.238437)scale(0.1 -0.1)\">\n       <use xlink:href=\"#DejaVuSans-48\"/>\n       <use x=\"63.623047\" xlink:href=\"#DejaVuSans-46\"/>\n       <use x=\"95.410156\" xlink:href=\"#DejaVuSans-53\"/>\n      </g>\n     </g>\n    </g>\n    <g id=\"xtick_3\">\n     <g id=\"line2d_5\">\n      <path clip-path=\"url(#p06be08b08b)\" d=\"M 156.322727 224.64 \nL 156.322727 7.2 \n\" style=\"fill:none;stroke:#b0b0b0;stroke-linecap:square;stroke-width:0.8;\"/>\n     </g>\n     <g id=\"line2d_6\">\n      <g>\n       <use style=\"stroke:#000000;stroke-width:0.8;\" x=\"156.322727\" xlink:href=\"#m873070c89c\" y=\"224.64\"/>\n      </g>\n     </g>\n     <g id=\"text_3\">\n      <!-- 1.0 -->\n      <defs>\n       <path d=\"M 12.40625 8.296875 \nL 28.515625 8.296875 \nL 28.515625 63.921875 \nL 10.984375 60.40625 \nL 10.984375 69.390625 \nL 28.421875 72.90625 \nL 38.28125 72.90625 \nL 38.28125 8.296875 \nL 54.390625 8.296875 \nL 54.390625 0 \nL 12.40625 0 \nz\n\" id=\"DejaVuSans-49\"/>\n      </defs>\n      <g transform=\"translate(148.371165 239.238437)scale(0.1 -0.1)\">\n       <use xlink:href=\"#DejaVuSans-49\"/>\n       <use x=\"63.623047\" xlink:href=\"#DejaVuSans-46\"/>\n       <use x=\"95.410156\" xlink:href=\"#DejaVuSans-48\"/>\n      </g>\n     </g>\n    </g>\n    <g id=\"xtick_4\">\n     <g id=\"line2d_7\">\n      <path clip-path=\"url(#p06be08b08b)\" d=\"M 207.05 224.64 \nL 207.05 7.2 \n\" style=\"fill:none;stroke:#b0b0b0;stroke-linecap:square;stroke-width:0.8;\"/>\n     </g>\n     <g id=\"line2d_8\">\n      <g>\n       <use style=\"stroke:#000000;stroke-width:0.8;\" x=\"207.05\" xlink:href=\"#m873070c89c\" y=\"224.64\"/>\n      </g>\n     </g>\n     <g id=\"text_4\">\n      <!-- 1.5 -->\n      <g transform=\"translate(199.098438 239.238437)scale(0.1 -0.1)\">\n       <use xlink:href=\"#DejaVuSans-49\"/>\n       <use x=\"63.623047\" xlink:href=\"#DejaVuSans-46\"/>\n       <use x=\"95.410156\" xlink:href=\"#DejaVuSans-53\"/>\n      </g>\n     </g>\n    </g>\n    <g id=\"xtick_5\">\n     <g id=\"line2d_9\">\n      <path clip-path=\"url(#p06be08b08b)\" d=\"M 257.777273 224.64 \nL 257.777273 7.2 \n\" style=\"fill:none;stroke:#b0b0b0;stroke-linecap:square;stroke-width:0.8;\"/>\n     </g>\n     <g id=\"line2d_10\">\n      <g>\n       <use style=\"stroke:#000000;stroke-width:0.8;\" x=\"257.777273\" xlink:href=\"#m873070c89c\" y=\"224.64\"/>\n      </g>\n     </g>\n     <g id=\"text_5\">\n      <!-- 2.0 -->\n      <defs>\n       <path d=\"M 19.1875 8.296875 \nL 53.609375 8.296875 \nL 53.609375 0 \nL 7.328125 0 \nL 7.328125 8.296875 \nQ 12.9375 14.109375 22.625 23.890625 \nQ 32.328125 33.6875 34.8125 36.53125 \nQ 39.546875 41.84375 41.421875 45.53125 \nQ 43.3125 49.21875 43.3125 52.78125 \nQ 43.3125 58.59375 39.234375 62.25 \nQ 35.15625 65.921875 28.609375 65.921875 \nQ 23.96875 65.921875 18.8125 64.3125 \nQ 13.671875 62.703125 7.8125 59.421875 \nL 7.8125 69.390625 \nQ 13.765625 71.78125 18.9375 73 \nQ 24.125 74.21875 28.421875 74.21875 \nQ 39.75 74.21875 46.484375 68.546875 \nQ 53.21875 62.890625 53.21875 53.421875 \nQ 53.21875 48.921875 51.53125 44.890625 \nQ 49.859375 40.875 45.40625 35.40625 \nQ 44.1875 33.984375 37.640625 27.21875 \nQ 31.109375 20.453125 19.1875 8.296875 \nz\n\" id=\"DejaVuSans-50\"/>\n      </defs>\n      <g transform=\"translate(249.82571 239.238437)scale(0.1 -0.1)\">\n       <use xlink:href=\"#DejaVuSans-50\"/>\n       <use x=\"63.623047\" xlink:href=\"#DejaVuSans-46\"/>\n       <use x=\"95.410156\" xlink:href=\"#DejaVuSans-48\"/>\n      </g>\n     </g>\n    </g>\n    <g id=\"xtick_6\">\n     <g id=\"line2d_11\">\n      <path clip-path=\"url(#p06be08b08b)\" d=\"M 308.504545 224.64 \nL 308.504545 7.2 \n\" style=\"fill:none;stroke:#b0b0b0;stroke-linecap:square;stroke-width:0.8;\"/>\n     </g>\n     <g id=\"line2d_12\">\n      <g>\n       <use style=\"stroke:#000000;stroke-width:0.8;\" x=\"308.504545\" xlink:href=\"#m873070c89c\" y=\"224.64\"/>\n      </g>\n     </g>\n     <g id=\"text_6\">\n      <!-- 2.5 -->\n      <g transform=\"translate(300.552983 239.238437)scale(0.1 -0.1)\">\n       <use xlink:href=\"#DejaVuSans-50\"/>\n       <use x=\"63.623047\" xlink:href=\"#DejaVuSans-46\"/>\n       <use x=\"95.410156\" xlink:href=\"#DejaVuSans-53\"/>\n      </g>\n     </g>\n    </g>\n    <g id=\"xtick_7\">\n     <g id=\"line2d_13\">\n      <path clip-path=\"url(#p06be08b08b)\" d=\"M 359.231818 224.64 \nL 359.231818 7.2 \n\" style=\"fill:none;stroke:#b0b0b0;stroke-linecap:square;stroke-width:0.8;\"/>\n     </g>\n     <g id=\"line2d_14\">\n      <g>\n       <use style=\"stroke:#000000;stroke-width:0.8;\" x=\"359.231818\" xlink:href=\"#m873070c89c\" y=\"224.64\"/>\n      </g>\n     </g>\n     <g id=\"text_7\">\n      <!-- 3.0 -->\n      <defs>\n       <path d=\"M 40.578125 39.3125 \nQ 47.65625 37.796875 51.625 33 \nQ 55.609375 28.21875 55.609375 21.1875 \nQ 55.609375 10.40625 48.1875 4.484375 \nQ 40.765625 -1.421875 27.09375 -1.421875 \nQ 22.515625 -1.421875 17.65625 -0.515625 \nQ 12.796875 0.390625 7.625 2.203125 \nL 7.625 11.71875 \nQ 11.71875 9.328125 16.59375 8.109375 \nQ 21.484375 6.890625 26.8125 6.890625 \nQ 36.078125 6.890625 40.9375 10.546875 \nQ 45.796875 14.203125 45.796875 21.1875 \nQ 45.796875 27.640625 41.28125 31.265625 \nQ 36.765625 34.90625 28.71875 34.90625 \nL 20.21875 34.90625 \nL 20.21875 43.015625 \nL 29.109375 43.015625 \nQ 36.375 43.015625 40.234375 45.921875 \nQ 44.09375 48.828125 44.09375 54.296875 \nQ 44.09375 59.90625 40.109375 62.90625 \nQ 36.140625 65.921875 28.71875 65.921875 \nQ 24.65625 65.921875 20.015625 65.03125 \nQ 15.375 64.15625 9.8125 62.3125 \nL 9.8125 71.09375 \nQ 15.4375 72.65625 20.34375 73.4375 \nQ 25.25 74.21875 29.59375 74.21875 \nQ 40.828125 74.21875 47.359375 69.109375 \nQ 53.90625 64.015625 53.90625 55.328125 \nQ 53.90625 49.265625 50.4375 45.09375 \nQ 46.96875 40.921875 40.578125 39.3125 \nz\n\" id=\"DejaVuSans-51\"/>\n      </defs>\n      <g transform=\"translate(351.280256 239.238437)scale(0.1 -0.1)\">\n       <use xlink:href=\"#DejaVuSans-51\"/>\n       <use x=\"63.623047\" xlink:href=\"#DejaVuSans-46\"/>\n       <use x=\"95.410156\" xlink:href=\"#DejaVuSans-48\"/>\n      </g>\n     </g>\n    </g>\n   </g>\n   <g id=\"matplotlib.axis_2\">\n    <g id=\"ytick_1\">\n     <g id=\"line2d_15\">\n      <path clip-path=\"url(#p06be08b08b)\" d=\"M 39.65 224.64 \nL 374.45 224.64 \n\" style=\"fill:none;stroke:#b0b0b0;stroke-linecap:square;stroke-width:0.8;\"/>\n     </g>\n     <g id=\"line2d_16\">\n      <defs>\n       <path d=\"M 0 0 \nL -3.5 0 \n\" id=\"m9d5f05fc78\" style=\"stroke:#000000;stroke-width:0.8;\"/>\n      </defs>\n      <g>\n       <use style=\"stroke:#000000;stroke-width:0.8;\" x=\"39.65\" xlink:href=\"#m9d5f05fc78\" y=\"224.64\"/>\n      </g>\n     </g>\n     <g id=\"text_8\">\n      <!-- 0 -->\n      <g transform=\"translate(26.2875 228.439219)scale(0.1 -0.1)\">\n       <use xlink:href=\"#DejaVuSans-48\"/>\n      </g>\n     </g>\n    </g>\n    <g id=\"ytick_2\">\n     <g id=\"line2d_17\">\n      <path clip-path=\"url(#p06be08b08b)\" d=\"M 39.65 178.661822 \nL 374.45 178.661822 \n\" style=\"fill:none;stroke:#b0b0b0;stroke-linecap:square;stroke-width:0.8;\"/>\n     </g>\n     <g id=\"line2d_18\">\n      <g>\n       <use style=\"stroke:#000000;stroke-width:0.8;\" x=\"39.65\" xlink:href=\"#m9d5f05fc78\" y=\"178.661822\"/>\n      </g>\n     </g>\n     <g id=\"text_9\">\n      <!-- 1000 -->\n      <g transform=\"translate(7.2 182.461041)scale(0.1 -0.1)\">\n       <use xlink:href=\"#DejaVuSans-49\"/>\n       <use x=\"63.623047\" xlink:href=\"#DejaVuSans-48\"/>\n       <use x=\"127.246094\" xlink:href=\"#DejaVuSans-48\"/>\n       <use x=\"190.869141\" xlink:href=\"#DejaVuSans-48\"/>\n      </g>\n     </g>\n    </g>\n    <g id=\"ytick_3\">\n     <g id=\"line2d_19\">\n      <path clip-path=\"url(#p06be08b08b)\" d=\"M 39.65 132.683644 \nL 374.45 132.683644 \n\" style=\"fill:none;stroke:#b0b0b0;stroke-linecap:square;stroke-width:0.8;\"/>\n     </g>\n     <g id=\"line2d_20\">\n      <g>\n       <use style=\"stroke:#000000;stroke-width:0.8;\" x=\"39.65\" xlink:href=\"#m9d5f05fc78\" y=\"132.683644\"/>\n      </g>\n     </g>\n     <g id=\"text_10\">\n      <!-- 2000 -->\n      <g transform=\"translate(7.2 136.482862)scale(0.1 -0.1)\">\n       <use xlink:href=\"#DejaVuSans-50\"/>\n       <use x=\"63.623047\" xlink:href=\"#DejaVuSans-48\"/>\n       <use x=\"127.246094\" xlink:href=\"#DejaVuSans-48\"/>\n       <use x=\"190.869141\" xlink:href=\"#DejaVuSans-48\"/>\n      </g>\n     </g>\n    </g>\n    <g id=\"ytick_4\">\n     <g id=\"line2d_21\">\n      <path clip-path=\"url(#p06be08b08b)\" d=\"M 39.65 86.705466 \nL 374.45 86.705466 \n\" style=\"fill:none;stroke:#b0b0b0;stroke-linecap:square;stroke-width:0.8;\"/>\n     </g>\n     <g id=\"line2d_22\">\n      <g>\n       <use style=\"stroke:#000000;stroke-width:0.8;\" x=\"39.65\" xlink:href=\"#m9d5f05fc78\" y=\"86.705466\"/>\n      </g>\n     </g>\n     <g id=\"text_11\">\n      <!-- 3000 -->\n      <g transform=\"translate(7.2 90.504684)scale(0.1 -0.1)\">\n       <use xlink:href=\"#DejaVuSans-51\"/>\n       <use x=\"63.623047\" xlink:href=\"#DejaVuSans-48\"/>\n       <use x=\"127.246094\" xlink:href=\"#DejaVuSans-48\"/>\n       <use x=\"190.869141\" xlink:href=\"#DejaVuSans-48\"/>\n      </g>\n     </g>\n    </g>\n    <g id=\"ytick_5\">\n     <g id=\"line2d_23\">\n      <path clip-path=\"url(#p06be08b08b)\" d=\"M 39.65 40.727287 \nL 374.45 40.727287 \n\" style=\"fill:none;stroke:#b0b0b0;stroke-linecap:square;stroke-width:0.8;\"/>\n     </g>\n     <g id=\"line2d_24\">\n      <g>\n       <use style=\"stroke:#000000;stroke-width:0.8;\" x=\"39.65\" xlink:href=\"#m9d5f05fc78\" y=\"40.727287\"/>\n      </g>\n     </g>\n     <g id=\"text_12\">\n      <!-- 4000 -->\n      <defs>\n       <path d=\"M 37.796875 64.3125 \nL 12.890625 25.390625 \nL 37.796875 25.390625 \nz\nM 35.203125 72.90625 \nL 47.609375 72.90625 \nL 47.609375 25.390625 \nL 58.015625 25.390625 \nL 58.015625 17.1875 \nL 47.609375 17.1875 \nL 47.609375 0 \nL 37.796875 0 \nL 37.796875 17.1875 \nL 4.890625 17.1875 \nL 4.890625 26.703125 \nz\n\" id=\"DejaVuSans-52\"/>\n      </defs>\n      <g transform=\"translate(7.2 44.526506)scale(0.1 -0.1)\">\n       <use xlink:href=\"#DejaVuSans-52\"/>\n       <use x=\"63.623047\" xlink:href=\"#DejaVuSans-48\"/>\n       <use x=\"127.246094\" xlink:href=\"#DejaVuSans-48\"/>\n       <use x=\"190.869141\" xlink:href=\"#DejaVuSans-48\"/>\n      </g>\n     </g>\n    </g>\n   </g>\n   <g id=\"patch_73\">\n    <path d=\"M 39.65 224.64 \nL 39.65 7.2 \n\" style=\"fill:none;stroke:#000000;stroke-linecap:square;stroke-linejoin:miter;stroke-width:0.8;\"/>\n   </g>\n   <g id=\"patch_74\">\n    <path d=\"M 374.45 224.64 \nL 374.45 7.2 \n\" style=\"fill:none;stroke:#000000;stroke-linecap:square;stroke-linejoin:miter;stroke-width:0.8;\"/>\n   </g>\n   <g id=\"patch_75\">\n    <path d=\"M 39.65 224.64 \nL 374.45 224.64 \n\" style=\"fill:none;stroke:#000000;stroke-linecap:square;stroke-linejoin:miter;stroke-width:0.8;\"/>\n   </g>\n   <g id=\"patch_76\">\n    <path d=\"M 39.65 7.2 \nL 374.45 7.2 \n\" style=\"fill:none;stroke:#000000;stroke-linecap:square;stroke-linejoin:miter;stroke-width:0.8;\"/>\n   </g>\n  </g>\n </g>\n <defs>\n  <clipPath id=\"p06be08b08b\">\n   <rect height=\"217.44\" width=\"334.8\" x=\"39.65\" y=\"7.2\"/>\n  </clipPath>\n </defs>\n</svg>\n",
      "image/png": "[encoded data removed]"
     },
     "metadata": {
      "needs_background": "light"
     }
    }
   ],
   "source": [
    "if ANALYZE_ON:\n",
    "    feature = 'child_situation'\n",
    "\n",
    "    # Display unique values\n",
    "    uniques = obj_train.get_col_uniques(feature)\n",
    "    uniques.sort()\n",
    "    print(\"child_situation possible values:\", *uniques)\n",
    "\n",
    "    # Display distribution\n",
    "    # Obs: Almost any request has child_situation == -1\n",
    "    # hyp: -1 means NaN\n",
    "    dist = obj_train.df[feature].value_counts()\n",
    "    \n",
    "    # Count all non NaNs values\n",
    "    dist_positive = sum(dist[dist.index != -1])\n",
    "    ratio_non_na = dist_positive / obj_train.m\n",
    "    \n",
    "    # Print distribution\n",
    "    print(\"\\nDistribution\\n\", dist)\n",
    "    \n",
    "    # Plot histogram\n",
    "    print(f\"\\n\\nChild_situation non NaN ratio: {round(ratio_non_na * 100, 2)}%\\n\\n\")\n",
    "\n",
    "    # Correlation with target (for non NaNs)\n",
    "    # The proportion of non NaNs is increasing with target values\n",
    "    # The probability of granting more nights is greater when non NaN\n",
    "    dist_grpby = obj_train.df[target].groupby(obj_train.df[feature])\n",
    "    if PLOT_ON:\n",
    "        dist_grpby.hist()\n",
    "        plt.show()\n",
    "\n",
    "    # Study only positive 'child_situation' samples\n",
    "    # TODO: produce a study\n",
    "    mask_pos = obj_train.df['child_situation'] != -1\n",
    "    dist_grpby_pos = obj_train.df[mask_pos][target].groupby(obj_train.df[feature])\n",
    "    if PLOT_ON:\n",
    "        dist_grpby_pos.hist()\n",
    "        plt.show()"
   ]
  },
  {
   "cell_type": "markdown",
   "metadata": {},
   "source": [
    "### victime_of_violence_type"
   ]
  },
  {
   "cell_type": "code",
   "execution_count": null,
   "metadata": {},
   "outputs": [],
   "source": [
    "if ANALYZE_ON:\n",
    "    feature = 'victim_of_violence_type'\n",
    "    feature_base = 'victim_of_violence'\n",
    "\n",
    "    # Inspect a specific group with violence type \"child\"\n",
    "    # ---------------------------------------------------\n",
    "    # TODO: go further this anecdotical impression\n",
    "    # Obs: \n",
    "    # - violence child can counter intuitively be applied on individuals without child, but awaiting a child.\n",
    "    # - requests seem more likely granted when multiple (non granted) requests have been made in the past\n",
    "    # - requests seem less likely granted when a recent request was granted\n",
    "    # => feature engineer measures to represent these observations\n",
    "\n",
    "    # Mask to filter on child violence only\n",
    "    mask_child_violence = obj_train.df[feature] == 'child'\n",
    "\n",
    "    # Mast to filter group1 entries only\n",
    "    mask_group1 = obj_train.df[mask_child_violence]['group_id'] == '8d79d2cd16e886a947158b5f6e2eff43'\n",
    "\n",
    "    # Sort entries by request_creation_date\n",
    "    grp1_sorted_rq_date = obj_train.df[mask_child][mask_group1].sort_values(by='request_creation_date')\n",
    "\n",
    "    # Get dates and housing values along with target\n",
    "    grp1_sorted_rq_date[[target, 'request_creation_date', 'answer_creation_date', 'housing_situation_label']]"
   ]
  },
  {
   "cell_type": "markdown",
   "metadata": {},
   "source": [
    "### animal_presence"
   ]
  },
  {
   "cell_type": "code",
   "execution_count": null,
   "metadata": {},
   "outputs": [],
   "source": [
    "if ANALYZE_ON:\n",
    "    feature = 'animal_presence'\n",
    "    mask = df_train[feature] == 't'\n",
    "    df_train[mask][[feature, target]]"
   ]
  },
  {
   "cell_type": "markdown",
   "metadata": {},
   "source": [
    "### requester_type along with group_main_requester_id\n",
    "if it is an urgentist, used to bring individuals to the service, its groups might have higher granted rates"
   ]
  },
  {
   "cell_type": "code",
   "execution_count": null,
   "metadata": {},
   "outputs": [],
   "source": [
    "# TODO: check"
   ]
  },
  {
   "cell_type": "markdown",
   "metadata": {},
   "source": [
    "### request_backoffice_creator_id\n",
    "this might impact since each people has its own biases (as for the predictions of court decisions)"
   ]
  },
  {
   "cell_type": "code",
   "execution_count": null,
   "metadata": {},
   "outputs": [],
   "source": [
    "# TODO: check"
   ]
  },
  {
   "cell_type": "markdown",
   "metadata": {},
   "source": [
    "# Pre-process data\n",
    "\n",
    "Methodology:\n",
    "\n",
    "- Clean-up request dataset\n",
    "\n",
    "- Feature engineer using indiv dataset"
   ]
  },
  {
   "cell_type": "markdown",
   "metadata": {},
   "source": [
    "## Impute NaNs\n",
    "\n",
    "Methodology:\n",
    "- inspect NaNs on train set\n",
    "\n",
    "- if pattern detected, apply modifications on train and test sets\n",
    "\n",
    "Observations:\n",
    "- reverse engineering: the system seems to derive group_composition_id from group_composition_label, and both are then necessary linked/redondant => drop group_composition_label\n",
    "\n",
    "- there can be multiple individuals by request, and multiple requests by individual\n",
    "\n",
    "Further:\n",
    "- Impute 14 pregnancy NaNs from child_to_come (not useful for the current objective)"
   ]
  },
  {
   "cell_type": "markdown",
   "metadata": {},
   "source": [
    "### NaNs train summary"
   ]
  },
  {
   "cell_type": "code",
   "execution_count": 74,
   "metadata": {},
   "outputs": [
    {
     "output_type": "stream",
     "name": "stdout",
     "text": "Train: NaNs count by feature\n\n child_to_come                145947\nhousing_situation_label       16748\nlong_term_housing_request    165556\ntown                         159959\nvictim_of_violence_type      234175\ndtype: int64\n"
    }
   ],
   "source": [
    "if ANALYZE_ON:\n",
    "    # Get Na counts: by feature, by sample\n",
    "    na_ft_train, na_sp_train = obj_train.get_na_counts()\n",
    "    na_ft_test, na_sp_test = obj_test.get_na_counts()\n",
    "    if PRINT_ON:\n",
    "        print('Train: NaNs count by feature\\n\\n', na_ft_train[na_ft_train!=0])\n",
    "        #print('\\n\\nTest: NaNs count by feature\\n\\n', na_ft_test[na_ft_test!=0])"
   ]
  },
  {
   "cell_type": "markdown",
   "metadata": {},
   "source": [
    "### Impute child_to_come NaNs\n",
    "\n",
    "Observation\n",
    "- There are 145947 NaNs for child_to_come on the train set (in request)\n",
    "\n",
    "- There are only 14 NaNs for pregnancy in train set (in individuals)\n",
    "\n",
    "Hypotheses\n",
    "- Hyp: child_to_come is True if any indiv of the group is pregnant\n",
    "\n",
    "Conclusion\n",
    "- => Impute child_to_come from the pregnancy in the group of indiv of the request\n",
    "\n",
    "Control\n",
    "- Verify that the imputation is not only setting to 'f':\n",
    "- -> successful: from the 145947 requests, 5375 are set to 't'\n"
   ]
  },
  {
   "cell_type": "code",
   "execution_count": null,
   "metadata": {},
   "outputs": [],
   "source": [
    "if ANALYZE_ON:\n",
    "    # Capture the indexes where NaNs\n",
    "    df_train_raw_nas = obj_train.df[obj_train.df['child_to_come'].isna()]\n",
    "    idx_nas = df_train_raw_nas['child_to_come'].index"
   ]
  },
  {
   "cell_type": "code",
   "execution_count": 78,
   "metadata": {},
   "outputs": [],
   "source": [
    "if IMPUTE_NANS:\n",
    "    # TODO: refactor (this takes ±3min)\n",
    "    # Impute train set\n",
    "    obj_train.impute_child_to_come(df_indiv=individuals_train)\n",
    "    # Impute test set\n",
    "    obj_test.impute_child_to_come(df_indiv=individuals_test)"
   ]
  },
  {
   "cell_type": "code",
   "execution_count": null,
   "metadata": {},
   "outputs": [],
   "source": [
    "if ANALYZE_ON:\n",
    "    # Get number of NaNs imputed as False and True\n",
    "    obj_train.df.loc[idx_nas]['child_to_come'].value_counts()"
   ]
  },
  {
   "cell_type": "markdown",
   "metadata": {},
   "source": [
    "### Impute housing_situation_label\n",
    "\n",
    "The following code cells are organized as follows for clarity:\n",
    "- Imputation steps\n",
    "\n",
    "- Analysis\n",
    "\n",
    "Observations\n",
    "\n",
    "A. Meta numbers\n",
    "- ±7% (16,748) NaNs for housing_situation_label (request)\n",
    "\n",
    "- 0 NaN for housing_situation_id (request)\n",
    "\n",
    "- 0 NaN for housing_situation_label_2 (individuals)\n",
    "\n",
    "- 0 NaN for housing_situation_id_2 (individuals)\n",
    "\n",
    "- 21 housing_situation_label (request)\n",
    "\n",
    "- 22 housing_situation_id (request)\n",
    "\n",
    "B. Specific ratios\n",
    "- ±10% (23,309) indiv with NaN at 'housing_situation_label'\n",
    "\n",
    "- ±90% (21,185) of missing housing_situation_label are housing_situation_2_label \"on the street\" \n",
    "\n",
    "C. Analysis 1\n",
    "- housing_situation_id is derived from housing_situation_label\n",
    "\n",
    "- housing_sitaution_label NaNs have their specific id: 170\n",
    "\n",
    "- => there are actually 16748 NaNs for housing_situation_id (request)\n",
    "\n",
    "D. Analysis 2\n",
    "- housing_situation_2_label can be very diverse when housing_situation_label is NaN (17 over 21 cat)\n",
    "\n",
    "- => housing_situation_label NaNs are not produced in a specific housing_situation_2_label situation\n",
    "\n",
    "E. Analysis 3\n",
    "- all individuals of a same request share the same housing_situation_2_label\n",
    "\n",
    "- => NaNs do not come from a problem of aggregating indiv data\n",
    "\n",
    "Hypotheses\n",
    "- Hyp: the housing situation should logically have an impact on the result\n",
    "\n",
    "- Hyp: proba being on the street is significantly high to always impute NaN with 'street'\n",
    "\n",
    "- Hyp: housing_ids are not sorted in any specific order from which a logic could be derived. Thus, having numerical ids is dangereous and could lead to misinterpretations by the model.\n",
    "\n",
    "Conclusion\n",
    "- => Impute housing_situation_label NaNs as 'street'\n",
    "\n",
    "- => Drop housing_situation_id\n",
    "\n",
    "- => one-hot encode housing_situation_label\n",
    "\n",
    "\n",
    "Further improvements\n",
    "- derive more sub-groups: when a group is not housing_situation_label_2 'on the street', impute the request housing_situation_label with its most often matched value"
   ]
  },
  {
   "cell_type": "markdown",
   "metadata": {},
   "source": [
    "#### Impute NaNs with the single value 'street'"
   ]
  },
  {
   "cell_type": "code",
   "execution_count": 77,
   "metadata": {},
   "outputs": [],
   "source": [
    "if IMPUTE_NANS:\n",
    "    # Impute housing_situation_label NaNs as 'street'\n",
    "    obj_train.df.loc[obj_train.df['housing_situation_label'].isna(), 'housing_situation_label'] = 'street'\n",
    "    obj_test.df.loc[obj_test.df['housing_situation_label'].isna(), 'housing_situation_label'] = 'street'\n",
    "\n",
    "    # Drop housing_situation_id\n",
    "    obj_train.df.drop('housing_situation_id', axis=1, inplace=True)\n",
    "    obj_test.df.drop('housing_situation_id', axis=1, inplace=True)\n",
    "\n",
    "    # One-hot encoding is applied later-on"
   ]
  },
  {
   "cell_type": "markdown",
   "metadata": {},
   "source": [
    "#### Get the mapping of housing_situation_id - housing_situation_label\n",
    "- housing_situation_id is derived from housing_situation_label\n",
    "\n",
    "- housing_sitaution_label NaNs have their specific id: 170\n",
    "\n",
    "- => there are actually 16748 NaNs for housing_situation_id (request)\n"
   ]
  },
  {
   "cell_type": "code",
   "execution_count": null,
   "metadata": {},
   "outputs": [],
   "source": [
    "if ANALYZE_ON:\n",
    "    # Get mapping housing_situation_id - housing_situation_label\n",
    "    map_housing_id_label = obj_train.df.loc[:, ['housing_situation_id', 'housing_situation_label']].drop_duplicates()\n",
    "\n",
    "    # Sort and drop index for clarity\n",
    "    map_housing_id_label = map_housing_id_label.sort_values(by='housing_situation_id')\n",
    "    map_housing_id_label.reset_index(drop=True, inplace=True)\n",
    "    map_housing_id_label"
   ]
  },
  {
   "cell_type": "markdown",
   "metadata": {},
   "source": [
    "#### Analyze relation between housing_situation_label (request) and housing_situation_2_label (indiv)\n",
    "\n",
    "Make a temporary dataframe with columns:\n",
    "\n",
    "| request_id | gr_nb_nights | hous_id | hous_lab | indiv_id | hous_2id | hous2_lab"
   ]
  },
  {
   "cell_type": "code",
   "execution_count": null,
   "metadata": {},
   "outputs": [],
   "source": [
    "if ANALYZE_ON:\n",
    "    # request [gr_nb_nights, hous_id, hous_lab]\n",
    "    rq = obj_train.df.loc[:, ['granted_number_of_nights', 'housing_situation_id', 'housing_situation_label']]\n",
    "\n",
    "    # individuals [request_id, indiv_id, hous_2id, hous2_lab]\n",
    "    ind = individuals_train.loc[:, ['request_id', 'individual_id', 'housing_situation_2_id', 'housing_situation_2_label']]\n",
    "    ind.set_index('request_id', inplace=True)\n",
    "\n",
    "    # Merge request and individuals datasets\n",
    "    obj_full_train = pd.merge(rq, ind, on='request_id')"
   ]
  },
  {
   "cell_type": "markdown",
   "metadata": {},
   "source": [
    "Study figures"
   ]
  },
  {
   "cell_type": "code",
   "execution_count": null,
   "metadata": {},
   "outputs": [],
   "source": [
    "if ANALYZE_ON:\n",
    "    # Nb of indivs (an indiv is considered a new indiv at each request)\n",
    "    nb_indivs = obj_full_train.shape[0]\n",
    "\n",
    "    # ±6% (23,309) indiv with NaN at 'housing_situation_label'\n",
    "    obj_full_train[obj_full_train['housing_situation_label'].isna()]\n",
    "\n",
    "    # ±90% (21,185) of missing housing_situation_label are housing_situation_2_label \"on the street\" \n",
    "    df_temp = obj_full_train[obj_full_train[\"housing_situation_label\"].isna()]\n",
    "    df_temp['housing_situation_2_label'].value_counts()"
   ]
  },
  {
   "cell_type": "markdown",
   "metadata": {},
   "source": [
    "Inspect individuals with housing_situation_2_label \"on the street\":\n",
    "\n",
    "- they can have a very diverse housing_situation (17 categories over a total of 21)\n",
    "\n",
    "- => no pattern to derive from this point of view"
   ]
  },
  {
   "cell_type": "code",
   "execution_count": null,
   "metadata": {},
   "outputs": [],
   "source": [
    "if ANALYZE_ON:\n",
    "    q = obj_full_train.query(\"housing_situation_label.isna() and housing_situation_2_label != 'on the street'\")\n",
    "\n",
    "    # Count number of categories for housing_situation_2_label\n",
    "    n_cat_2 = len(q.loc[:, 'housing_situation_2_label'].unique())\n",
    "\n",
    "    # Total categories for the feature\n",
    "    n_cat_1 = len(obj_train.get_col_uniques('housing_situation_label'))"
   ]
  },
  {
   "cell_type": "markdown",
   "metadata": {},
   "source": [
    "Check if housing_situation_label NA exist when indiv within a group have different housing_situation_2\n",
    "\n",
    "- no divergence\n",
    "\n",
    "- => when group, all indiv have the same housing_situation_2_label"
   ]
  },
  {
   "cell_type": "code",
   "execution_count": null,
   "metadata": {},
   "outputs": [],
   "source": [
    "if ANALYZE_ON:\n",
    "    # takes ±1min\n",
    "    if False:\n",
    "        # Get request_id along with its group size\n",
    "        rq_id = obj_full_train.index.value_counts()\n",
    "        for i in range(70000):\n",
    "            # Get ith rq_id\n",
    "            rq_id_i = rq_id.index[0]\n",
    "\n",
    "            # Observe if housing_situation_label same for all the group members\n",
    "            n_uni_grp = len(obj_full_train.loc[rq_id_i]['housing_situation_label'].unique())\n",
    "            n_uni_indiv = len(obj_full_train.loc[rq_id_i]['housing_situation_2_label'].unique())\n",
    "\n",
    "            if n_uni_grp > 1 or n_uni_indiv > 1:\n",
    "                print(i)\n",
    "                print(n_uni_grp, n_uni_indiv)\n",
    "                print(\"\\n\")"
   ]
  },
  {
   "cell_type": "markdown",
   "metadata": {},
   "source": [
    "#### Further improvements: derive the most probable mapping"
   ]
  },
  {
   "cell_type": "code",
   "execution_count": null,
   "metadata": {},
   "outputs": [],
   "source": [
    "if ANALYZE_ON:\n",
    "    # Get mapping housing_situation_label - housing_situation_2_label\n",
    "    obj_full_train_no_na = obj_full_train[~obj_full_train.housing_situation_label.isna()]\n",
    "    map_housing_labels = obj_full_train_no_na.loc[:, ['housing_situation_label', 'housing_situation_2_label']].drop_duplicates()\n",
    "\n",
    "    # Sort and drop index\n",
    "    map_housing_labels = map_housing_labels.sort_values(by='housing_situation_label')\n",
    "    map_housing_labels.reset_index(drop=True, inplace=True)\n",
    "    map_housing_labels"
   ]
  },
  {
   "cell_type": "markdown",
   "metadata": {},
   "source": [
    "### Impute long_term_housing_request NaNs\n",
    "\n",
    "Nb NaNs: 165556"
   ]
  },
  {
   "cell_type": "code",
   "execution_count": null,
   "metadata": {},
   "outputs": [],
   "source": [
    "# TODO"
   ]
  },
  {
   "cell_type": "markdown",
   "metadata": {},
   "source": [
    "### Impute town NaNs\n",
    "\n",
    "Nb NaNs: 159959"
   ]
  },
  {
   "cell_type": "code",
   "execution_count": null,
   "metadata": {},
   "outputs": [],
   "source": [
    "# TODO"
   ]
  },
  {
   "cell_type": "markdown",
   "metadata": {},
   "source": [
    "### Impute victim_of_violence_type NaNs\n",
    "\n",
    "Nb NaNs: 234175\n",
    "\n",
    "Hyp: is NaN if victim_of_violence is 'f'\n",
    "\n",
    "=> Set a specific value to NaNs where victim_of_violence is 'f', which will later be transformed into a boolean\n",
    "\n",
    "=> Set another specific value to NaNs where victim_of_violence is 't', IDEM"
   ]
  },
  {
   "cell_type": "code",
   "execution_count": 209,
   "metadata": {},
   "outputs": [
    {
     "output_type": "stream",
     "name": "stdout",
     "text": "victim bool distribution\n f    233881\nt      4310\nName: victim_of_violence, dtype: int64\n\nvictim type NaNs\n False    238191\nName: victim_of_violence_type, dtype: int64\n\nRemaining Nans\n Series([], Name: granted_number_of_nights, dtype: int64)\n"
    }
   ],
   "source": [
    "feature = 'victim_of_violence_type'\n",
    "feature_base = 'victim_of_violence'\n",
    "\n",
    "if ANALYZE_ON:\n",
    "    # Obs: the grand majority of victim_of_violence_type NaNs comes from the absence of violence (trivial)    \n",
    "    print(\"victim bool distribution\\n\", obj_train.df[feature_base].value_counts())\n",
    "    print(\"\\nvictim type NaNs\\n\", obj_train.df[feature].isna().value_counts())\n",
    "\n",
    "    # Remaining victim_of_violence_type NaNs, while victim_of_violence 't'\n",
    "    # Only half requests are not granted\n",
    "    remaining_nans = obj_train.df[obj_train.df[feature_base] == 't'][obj_train.df[feature].isna()]\n",
    "    print(\"\\nRemaining Nans\\n\", remaining_nans[target].value_counts())\n",
    "\n",
    "if IMPUTE_NANS:\n",
    "    # Impute NaNs corresponding to no violence signaled by 'no violence'\n",
    "    idx_na_no_violence_train = obj_train.df[obj_train.df[feature_base] == 'f'][obj_train.df[feature].isna()].index\n",
    "    idx_na_no_violence_test = obj_test.df[obj_test.df[feature_base] == 'f'][obj_test.df[feature].isna()].index\n",
    "    obj_train.df.loc[idx_na_no_violence_train, feature] = 'no violence'\n",
    "    obj_test.df.loc[idx_na_no_violence_test, feature] = 'no violence'\n",
    "\n",
    "    # Impute NaNs corresponding to a lack of specification, but with violence signaled by 'no detail'\n",
    "    idx_na_no_detail_train = obj_train.df[obj_train.df[feature_base] == 't'][obj_train.df[feature].isna()].index\n",
    "    idx_na_no_detail_test = obj_test.df[obj_test.df[feature_base] == 't'][obj_test.df[feature].isna()].index\n",
    "    obj_train.df.loc[idx_na_no_detail_train, feature] = 'no detail'\n",
    "    obj_test.df.loc[idx_na_no_detail_test, feature] = 'no detail'"
   ]
  },
  {
   "cell_type": "markdown",
   "metadata": {},
   "source": [
    "### Impute child_situation \n",
    "(hyp: -1 values are NaNs)"
   ]
  },
  {
   "cell_type": "code",
   "execution_count": 208,
   "metadata": {},
   "outputs": [],
   "source": [
    "ft = 'child_situation'\n",
    "\n",
    "if ANALYZE_ON:\n",
    "    # child_situation might be linked with:\n",
    "    # - group_composition_id: 58 combinations with ft\n",
    "    # - social_situation_id: no, it is redondant with group_id\n",
    "    # - victim_of_violence_type (if child): 34 combinations with ft (better)\n",
    "    obj_train.df[ft].value_counts()\n",
    "\n",
    "    # Get combinations for child_situation and victim_of_violence_type\n",
    "    df_temp = obj_train.df[[ft, 'victim_of_violence_type']].sort_values(by='victim_of_violence_type')\n",
    "    df_temp.drop_duplicates(ignore_index=True).sort_values(by='victim_of_violence_type')\n",
    "\n",
    "    # victim_of_violence_type\n",
    "    # Obs: only child_situation -1 and 10 (ie. only 10)\n",
    "    ma_child = df_temp['victim_of_violence_type'] == 'child'\n",
    "    df_temp[ma_child]\n",
    "\n",
    "if IMPUTE_NANS:\n",
    "    # Hyp: -1 (NaNs) for child_situation should be 10 when victim_of_violence_type 'child'\n",
    "    # => replace child_situation by 10 when victim_of_violence_type 'child'\n",
    "    idx_child_train = obj_train.df[obj_train.df['victim_of_violence_type'] == 'child'].index\n",
    "    idx_child_test = obj_test.df[obj_test.df['victim_of_violence_type'] == 'child'].index\n",
    "    obj_train.df.loc[idx_child_train, ft] = 10\n",
    "    obj_test.df.loc[idx_child_test, ft] = 10\n",
    "\n",
    "    # Idem for 'family'\n",
    "    idx_family_train = obj_train.df[obj_train.df['victim_of_violence_type'] == 'family'].index\n",
    "    idx_family_test = obj_test.df[obj_test.df['victim_of_violence_type'] == 'family'].index\n",
    "    obj_train.df.loc[idx_family_train, ft] = 10\n",
    "    obj_test.df.loc[idx_family_test, ft] = 10\n",
    "\n",
    "    # TODO: impute the rest (majority :( )"
   ]
  },
  {
   "cell_type": "markdown",
   "metadata": {},
   "source": [
    "### Temporarily drop columns with NaNs remaining\n",
    "(untill imputation methods are implemented)"
   ]
  },
  {
   "cell_type": "code",
   "execution_count": 210,
   "metadata": {},
   "outputs": [],
   "source": [
    "# TODO: impute properly\n",
    "list_drop = [\n",
    "    'long_term_housing_request',\n",
    "    'town'\n",
    "]\n",
    "for col in list_drop:\n",
    "    obj_train.df.drop(col, axis=1, inplace=True)\n",
    "    obj_test.df.drop(col, axis=1, inplace=True)"
   ]
  },
  {
   "cell_type": "code",
   "execution_count": null,
   "metadata": {},
   "outputs": [],
   "source": []
  },
  {
   "cell_type": "markdown",
   "metadata": {},
   "source": [
    "### Drop numerical columns\n",
    "(that can't be used properly, or untill transformation methods are implemented)"
   ]
  },
  {
   "cell_type": "code",
   "execution_count": 218,
   "metadata": {},
   "outputs": [],
   "source": [
    "# TODO: transform before drop (district, request_backoffice_creator_id)\n",
    "list_drop = [\n",
    "    'district',\n",
    "    'group_id',\n",
    "    'group_main_requester_id',\n",
    "    'request_backoffice_creator_id',\n",
    "    'social_situation_id'\n",
    "]\n",
    "\n",
    "for feature in list_drop:\n",
    "    obj_train.df.drop(feature, axis=1, inplace=True)\n",
    "    obj_test.df.drop(feature, axis=1, inplace=True)"
   ]
  },
  {
   "cell_type": "markdown",
   "metadata": {},
   "source": [
    "## Impute remaining test set NaNs\n",
    "(that have no equivalent in train set, and thus can't be studied to build a clever imputation method)"
   ]
  },
  {
   "cell_type": "code",
   "execution_count": 219,
   "metadata": {},
   "outputs": [],
   "source": [
    "# TODO: implement method based on train set logic for any feature\n",
    "obj_train.set_default_na_vals()\n",
    "\n",
    "# Transfer default NaNs to test object\n",
    "obj_test.default_na_vals = obj_train.default_na_vals\n",
    "\n",
    "# Impute any remaining NaN based on its default value\n",
    "obj_test.impute_nans()"
   ]
  },
  {
   "cell_type": "markdown",
   "metadata": {},
   "source": [
    "## Outliers"
   ]
  },
  {
   "cell_type": "markdown",
   "metadata": {},
   "source": [
    "### Drop answer creation date\n",
    "hyp: the variable is not available at prediction time"
   ]
  },
  {
   "cell_type": "code",
   "execution_count": null,
   "metadata": {},
   "outputs": [],
   "source": [
    "# For the purpose of the competition, is it expected to be used?\n",
    "if FUTURE_PRED:\n",
    "    obj_train.df.drop('answer_creation_date', axis=1, inplace=True)\n",
    "    obj_test.df.drop('answer_creation_date', axis=1, inplace=True)"
   ]
  },
  {
   "cell_type": "markdown",
   "metadata": {},
   "source": [
    "### Delete old samples\n",
    "(if it was to predict future requests (> 2020))\n",
    "- Train/test split being done randomly (≠ historically), it is important for this competition to train the model on the whole train set (don't remove old samples)\n",
    "- Delete samples with group_creation_date < 2015, since it is very unlikely that current demands are treated like +5 years ago (social services evolve)\n",
    "- Threshold date: see if later is better, potential gains from domain knowledge"
   ]
  },
  {
   "cell_type": "code",
   "execution_count": null,
   "metadata": {},
   "outputs": [],
   "source": [
    "if FUTURE_PRED:\n",
    "    # Drop samples with year < 2015\n",
    "    old_samples = obj_train.df[obj_train.df.group_creation_date.dt.year < 2015]\n",
    "    obj_train.df.drop(old_samples.index, axis=0, inplace=True)"
   ]
  },
  {
   "cell_type": "markdown",
   "metadata": {},
   "source": [
    "### Gender\n",
    "\n",
    "- => Only females are possibly pregnant, thus 30 males have made a mistake"
   ]
  },
  {
   "cell_type": "code",
   "execution_count": null,
   "metadata": {},
   "outputs": [],
   "source": [
    "# TODO: Retrieve the individual ids, and correct for male -> pregnancy = 0\n",
    "#obj_train.df['gender'].groupby(obj_train.df['pregnancy']).value_counts()"
   ]
  },
  {
   "cell_type": "markdown",
   "metadata": {},
   "source": [
    "## Feature Engineering\n"
   ]
  },
  {
   "cell_type": "markdown",
   "metadata": {},
   "source": [
    "### Clusterize large categorical features"
   ]
  },
  {
   "cell_type": "code",
   "execution_count": null,
   "metadata": {},
   "outputs": [],
   "source": [
    "# TODO: make clusters then transform using one-hot encoding"
   ]
  },
  {
   "cell_type": "markdown",
   "metadata": {},
   "source": [
    "### Transform dates\n",
    "- into linear numerical features (year, month)\n",
    "\n",
    "- and into categorical features (hot_season, col_season:T/F)"
   ]
  },
  {
   "cell_type": "markdown",
   "metadata": {},
   "source": [
    "#### Features: Dates to year, month"
   ]
  },
  {
   "cell_type": "code",
   "execution_count": 220,
   "metadata": {},
   "outputs": [],
   "source": [
    "# List of columns of date type\n",
    "list_date_cols = [\n",
    "    'request_creation_date',\n",
    "    'group_creation_date'\n",
    "]\n",
    "\n",
    "# Don't use the feature if trying to build robust in-production model\n",
    "if not FUTURE_PRED:\n",
    "    list_date_cols.append('answer_creation_date')\n",
    "\n",
    "# Transform date type: string to timestamp\n",
    "for col in list_date_cols:\n",
    "    obj_train.df[col] = pd.to_datetime(obj_train.df[col])\n",
    "    obj_test.df[col] = pd.to_datetime(obj_test.df[col])\n",
    "\n",
    "# Create feature: 'year'\n",
    "for col in list_date_cols:\n",
    "    obj_train.df[col[:-4]+'year'] = obj_train.df[col].dt.year\n",
    "    obj_test.df[col[:-4]+'year'] = obj_test.df[col].dt.year\n",
    "\n",
    "# Create feature: 'month'\n",
    "for col in list_date_cols:\n",
    "    obj_train.df[col[:-4]+'month'] = obj_train.df[col].dt.month\n",
    "    obj_test.df[col[:-4]+'month'] = obj_test.df[col].dt.month\n",
    "\n",
    "# Drop raw features of type date\n",
    "for col in list_date_cols:\n",
    "    obj_train.df.drop(col, axis=1, inplace=True)\n",
    "    obj_test.df.drop(col, axis=1, inplace=True)"
   ]
  },
  {
   "cell_type": "markdown",
   "metadata": {},
   "source": [
    "#### New Feats: hot_season, col_season"
   ]
  },
  {
   "cell_type": "code",
   "execution_count": null,
   "metadata": {},
   "outputs": [],
   "source": [
    "# TODO\n",
    "hot_months = [7, 8]\n",
    "col_months = [1, 1, 11, 12]"
   ]
  },
  {
   "cell_type": "markdown",
   "metadata": {},
   "source": [
    "### Transform Town and District to regions"
   ]
  },
  {
   "cell_type": "code",
   "execution_count": null,
   "metadata": {},
   "outputs": [],
   "source": [
    "# TODO"
   ]
  },
  {
   "cell_type": "markdown",
   "metadata": {},
   "source": [
    "### New Feat: nb of indivs in the group"
   ]
  },
  {
   "cell_type": "code",
   "execution_count": null,
   "metadata": {},
   "outputs": [],
   "source": [
    "# TODO"
   ]
  },
  {
   "cell_type": "markdown",
   "metadata": {},
   "source": [
    "### New Feat: nb of past requests by indivs forming the group of the request"
   ]
  },
  {
   "cell_type": "code",
   "execution_count": null,
   "metadata": {},
   "outputs": [],
   "source": [
    "# TODO\n",
    "\n",
    "# Single individual\n",
    "\n",
    "# Get number of ALL requests of indiv with max n_requests\n",
    "#ind_id = obj_full_train['individual_id'].value_counts().index[0]\n",
    "\n",
    "# Watch request made by the same indiv\n",
    "#obj_full_train[obj_full_train['individual_id'] == ind_id]\n",
    "\n",
    "# TODO: Past requests only"
   ]
  },
  {
   "cell_type": "markdown",
   "metadata": {},
   "source": [
    "### New Feat: nb of past granted request by indivs forming the group"
   ]
  },
  {
   "cell_type": "code",
   "execution_count": null,
   "metadata": {},
   "outputs": [],
   "source": [
    "# TODO"
   ]
  },
  {
   "cell_type": "markdown",
   "metadata": {},
   "source": [
    "## Transform categorical features\n",
    "Prepare data to feed models\n",
    "\n",
    "- booleans: replace by (1, 0)\n",
    "\n",
    "- 2 < cats < 11: one-hot encoding\n",
    "\n",
    "- No transform on features with more than 11 categories"
   ]
  },
  {
   "cell_type": "code",
   "execution_count": 691,
   "metadata": {},
   "outputs": [],
   "source": [
    "# Show standard data type: True\n",
    "# Show personalized (provide insight on information level)\n",
    "STANDARD = False\n",
    "\n",
    "if ANALYZE_ON:\n",
    "    if STANDARD:\n",
    "        # Display standard data types\n",
    "        print(obj_train.df.dtypes)\n",
    "    else:\n",
    "        # Display col name along its type (bool, cat, num, empty)\n",
    "        for col, col_type in zip(obj_train.df.columns, obj_train.get_cols_type()):\n",
    "            print(col_type, col)"
   ]
  },
  {
   "cell_type": "markdown",
   "metadata": {},
   "source": [
    "### Transform all categorical features"
   ]
  },
  {
   "cell_type": "code",
   "execution_count": null,
   "metadata": {},
   "outputs": [],
   "source": [
    "# Traform categorical features:\n",
    "# - booleans: ('t', 't') into (1, 0)\n",
    "# - categorical with few/med classes: one-hot encoding\n",
    "bools_train, failed_train = obj_train.transform_categories(\n",
    "                                        target=obj_train.target)\n",
    "bools_test, failed_test = obj_test.transform_categories(\n",
    "                                        target=obj_test.target)\n",
    "\n",
    "# Preprocess specific cat columns\n",
    "obj_train.convert_to_bool(col='group_type',\n",
    "                            true_val='group',\n",
    "                            false_val='individual')\n",
    "\n",
    "# Preprocess specific cat columns\n",
    "obj_test.convert_to_bool(col='group_type',\n",
    "                            true_val='group',\n",
    "                            false_val='individual')\n",
    "\n",
    "# Export data\n",
    "if EXPORT_DATA:\n",
    "    obj_train.export_data('data/data_train_preprocessed.csv')\n",
    "    obj_test.export_data('data/data_test_preprocessed.csv')"
   ]
  },
  {
   "cell_type": "markdown",
   "metadata": {},
   "source": [
    "# Analysis II\n",
    "(df_train)\n",
    "\n",
    "Analysis focused on impact of one-hot encoded variables and new engineered features"
   ]
  },
  {
   "cell_type": "code",
   "execution_count": null,
   "metadata": {},
   "outputs": [],
   "source": [
    "# TODO"
   ]
  },
  {
   "cell_type": "markdown",
   "metadata": {},
   "source": [
    "### Dates\n",
    "Link btw group_creation_date and request_creation_date\n"
   ]
  },
  {
   "cell_type": "code",
   "execution_count": null,
   "metadata": {},
   "outputs": [],
   "source": [
    "# TODO\n",
    "#pd.DataFrame([rq_crea_dt_seconds, grp_crea_dt_seconds]).corr()"
   ]
  },
  {
   "cell_type": "markdown",
   "metadata": {},
   "source": [
    "# Predict"
   ]
  },
  {
   "cell_type": "markdown",
   "metadata": {},
   "source": [
    "## Build models"
   ]
  },
  {
   "cell_type": "markdown",
   "metadata": {},
   "source": [
    "### Select features"
   ]
  },
  {
   "cell_type": "code",
   "execution_count": 458,
   "metadata": {},
   "outputs": [],
   "source": [
    "# Create backup to enable later selection of other features\n",
    "# without re-running the whole notebook\n",
    "df_train = obj_train.df.copy()\n",
    "df_test = obj_test.df.copy()"
   ]
  },
  {
   "cell_type": "code",
   "execution_count": 459,
   "metadata": {},
   "outputs": [],
   "source": [
    "# Choose between dropping or selecting columns\n",
    "DROP = True\n",
    "\n",
    "# Drop only the following features, keep the others\n",
    "if DROP:\n",
    "    drop_features = [\n",
    "        'request_creation_year',\n",
    "        'group_creation_year',\n",
    "        'answer_creation_year'\n",
    "    ]\n",
    "    df_train.drop(*[drop_features], axis=1, inplace=True)\n",
    "    df_test.drop(*[drop_features], axis=1, inplace=True)\n",
    "\n",
    "else:\n",
    "    # Select and keep only the following features\n",
    "    use_features = [\n",
    "        # Positive impact\n",
    "        'child_to_come',\n",
    "        # Negative impact\n",
    "    ]\n",
    "\n",
    "    # Append target col to the list of columns to keep\n",
    "    use_cols = use_features + [obj_train.target]\n",
    "    \n",
    "    # Create df with selected cols only\n",
    "    df_train = df_train[use_cols]\n",
    "    df_test = df_test[use_cols]"
   ]
  },
  {
   "cell_type": "markdown",
   "metadata": {},
   "source": [
    "### Prepare data sets"
   ]
  },
  {
   "cell_type": "code",
   "execution_count": 463,
   "metadata": {},
   "outputs": [],
   "source": [
    "# Set train/cross-validation split:\n",
    "# .8 means 80% of samples in the train set,\n",
    "# and the remaining, 20%, in validation set\n",
    "TRAIN_VAL_SPLIT = .8\n",
    "\n",
    "# Reset the target feature\n",
    "# (in case it has been changed during debugging)\n",
    "target = obj_train.target\n",
    "\n",
    "# Mask - select all features columns but the target\n",
    "ma_ft = df_train.columns != target\n",
    "\n",
    "# Separate target and features\n",
    "X_train = df_train[ma_ft]\n",
    "X_test = df_test[ma_ft]\n",
    "Y_train = df_train[target]\n",
    "Y_test = df_test[target]\n",
    "\n",
    "# Split train into: train / cross-val sets\n",
    "n_train = round(X.shape[0] * TRAIN_VAL_SPLIT)\n",
    "X_train = X_train[:n_train]\n",
    "X_val = X_train[n_train:]\n",
    "Y_train = Y[:n_train]\n",
    "Y_val = Y[n_train:]\n",
    "\n",
    "# Transform pandas dataframes into torch tensors\n",
    "X_train = torch.from_numpy(X_train.values)\n",
    "X_val = torch.from_numpy(X_val.values)\n",
    "X_test = torch.from_numpy(X_test.values)\n",
    "Y_train = torch.from_numpy(Y_train.values)\n",
    "Y_val = torch.from_numpy(Y_val.values)\n",
    "Y_test = torch.from_numpy(Y_test.values)\n",
    "\n",
    "# Cast all to float type\n",
    "X_train = X_train.float()\n",
    "X_val = X_val.float()\n",
    "X_test = X_test.float()\n",
    "Y_train = Y_train.float()\n",
    "Y_val = Y_val.float()\n",
    "Y_test = Y_test.float()"
   ]
  },
  {
   "cell_type": "markdown",
   "metadata": {},
   "source": [
    "### Set dataloaders"
   ]
  },
  {
   "cell_type": "code",
   "execution_count": 464,
   "metadata": {},
   "outputs": [],
   "source": [
    "# Instantiate datasets\n",
    "dataset_train = cobra.Dataset(X=X_train, Y=Y_train)\n",
    "dataset_val = cobra.Dataset(X=X_val, Y=Y_val)\n",
    "dataset_test = cobra.Dataset(X=X_test, Y=Y_test)\n",
    "\n",
    "# Instantiate data loaders\n",
    "dataloader_train = torch.utils.data.DataLoader(\n",
    "    dataset_train, batch_size = dataset_train.len)\n",
    "dataloader_val = torch.utils.data.DataLoader(\n",
    "    dataset_val, batch_size = dataset_val.len)\n",
    "dataloader_test = torch.utils.data.DataLoader(\n",
    "    dataset_test, batch_size = dataset_test.len)"
   ]
  },
  {
   "cell_type": "markdown",
   "metadata": {},
   "source": [
    "### Build NN model"
   ]
  },
  {
   "cell_type": "code",
   "execution_count": 648,
   "metadata": {},
   "outputs": [],
   "source": [
    "# Set evaluation weights, penalize higher values harder\n",
    "y_vals = [0, 1, 2, 3]\n",
    "weights = [10**y for y in y_vals]\n",
    "class_weights = torch.FloatTensor(weights)\n",
    "\n",
    "# Set evaluation weighted criterion\n",
    "criterion = nn.CrossEntropyLoss(weight=class_weights)\n",
    "\n",
    "# Set hidden layers number and size\n",
    "layers = [X_train.shape[1], 55, 55, 4]\n",
    "\n",
    "# Initialize model and weights\n",
    "model = cobra.NN(layers, p=0)\n",
    "\n",
    "# Set optimizer\n",
    "optimizer = optim.SGD(model.parameters(),\n",
    "                        lr=0.1,\n",
    "                        momentum=0.5,\n",
    "                        weight_decay=0)\n",
    "\n",
    "# Reset loss history\n",
    "loss_epochs = {'train': [],\n",
    "                'eval': []}"
   ]
  },
  {
   "cell_type": "markdown",
   "metadata": {},
   "source": [
    "### Train model"
   ]
  },
  {
   "cell_type": "code",
   "execution_count": 679,
   "metadata": {
    "tags": [
     "outputPrepend",
     "outputPrepend",
     "outputPrepend",
     "outputPrepend",
     "outputPrepend",
     "outputPrepend",
     "outputPrepend",
     "outputPrepend"
    ]
   },
   "outputs": [
    {
     "output_type": "stream",
     "name": "stdout",
     "text": "Avg epoch 0\nloss train: 0.9872 - eval: 0.9906\nAvg epoch 1\nloss train: 0.9871 - eval: 0.9925\nAvg epoch 2\nloss train: 0.9879 - eval: 0.9917\nAvg epoch 3\nloss train: 0.987 - eval: 0.9895\nAvg epoch 4\nloss train: 0.9868 - eval: 0.9955\nAvg epoch 5\nloss train: 0.9905 - eval: 0.9938\nAvg epoch 6\nloss train: 0.9895 - eval: 0.9922\nAvg epoch 7\nloss train: 0.9872 - eval: 0.991\nAvg epoch 8\nloss train: 0.9851 - eval: 0.9897\nAvg epoch 9\nloss train: 0.9853 - eval: 0.9886\nAvg epoch 10\nloss train: 0.9839 - eval: 0.9875\nAvg epoch 11\nloss train: 0.9836 - eval: 0.9893\nAvg epoch 12\nloss train: 0.9837 - eval: 0.99\nAvg epoch 13\nloss train: 0.9875 - eval: 1.0001\nAvg epoch 14\nloss train: 0.9931 - eval: 0.9953\nAvg epoch 15\nloss train: 0.9897 - eval: 0.992\nAvg epoch 16\nloss train: 0.9871 - eval: 0.9913\nAvg epoch 17\nloss train: 0.9856 - eval: 0.9911\nAvg epoch 18\nloss train: 0.9855 - eval: 0.9893\nAvg epoch 19\nloss train: 0.9848 - eval: 0.989\n"
    }
   ],
   "source": [
    "# Train model\n",
    "n_epochs = 20\n",
    "\n",
    "# Loop over epochs\n",
    "for epoch in range(n_epochs):\n",
    "\n",
    "    # Lists batchs loss\n",
    "    loss_batchs = {'train': [],\n",
    "                    'eval': []}\n",
    "\n",
    "    # Training\n",
    "    # --------\n",
    "    for n_batch, (x, labels) in enumerate(dataloader_train):\n",
    "\n",
    "        # Predict\n",
    "        predictions = model(x)\n",
    "\n",
    "        # Evaluate\n",
    "        loss = criterion(predictions, labels)\n",
    "\n",
    "        # Compute gradients\n",
    "        optimizer.zero_grad()\n",
    "        loss.backward()\n",
    "\n",
    "        # Backpropagate\n",
    "        optimizer.step()\n",
    "\n",
    "        # Add batch loss to the list of current epoch\n",
    "        loss_batchs['train'].append(round(loss.item(), 4))\n",
    "        loss_batchs_compet['train'].append(round(loss_compet, 4))\n",
    "\n",
    "        #print('epoch {}, batch {}, loss {}'.format(epoch, n_batch, round(loss.item(), 4)))\n",
    "\n",
    "\n",
    "    # Validation\n",
    "    # ----------\n",
    "    with torch.no_grad():\n",
    "        for n_batch, (x, labels) in enumerate(dataloader_val):\n",
    "            \n",
    "            # Predict on the eval set\n",
    "            predictions = model(x)\n",
    "            \n",
    "            # Compute batch loss\n",
    "            loss = criterion(predictions, labels)\n",
    "            \n",
    "            # Add batch loss to the list of current epoch\n",
    "            loss_batchs['eval'].append(round(loss.item(), 4))\n",
    "\n",
    "\n",
    "    # Compute train and eval losses for the epoch, and add to epochs list\n",
    "    for set_name in ['train', 'eval']:\n",
    "        loss_epoch = torch.tensor(loss_batchs[set_name], dtype=float).mean()\n",
    "        loss_epochs[set_name].append(round(loss_epoch.item(), 4))\n",
    "\n",
    "\n",
    "    print(f\"Avg epoch {epoch}\")\n",
    "    print(f\"loss train: {loss_epochs['train'][-1]} - eval: {loss_epochs['eval'][-1]}\")"
   ]
  },
  {
   "cell_type": "markdown",
   "metadata": {},
   "source": [
    "### Monitor training"
   ]
  },
  {
   "cell_type": "markdown",
   "metadata": {},
   "source": [
    "#### Plot loss history"
   ]
  },
  {
   "cell_type": "code",
   "execution_count": 685,
   "metadata": {},
   "outputs": [
    {
     "output_type": "display_data",
     "data": {
      "text/plain": "<Figure size 432x288 with 1 Axes>",
      "image/svg+xml": "<?xml version=\"1.0\" encoding=\"utf-8\" standalone=\"no\"?>\n<!DOCTYPE svg PUBLIC \"-//W3C//DTD SVG 1.1//EN\"\n  \"http://www.w3.org/Graphics/SVG/1.1/DTD/svg11.dtd\">\n<!-- Created with matplotlib (https://matplotlib.org/) -->\n<svg height=\"248.518125pt\" version=\"1.1\" viewBox=\"0 0 372.103125 248.518125\" width=\"372.103125pt\" xmlns=\"http://www.w3.org/2000/svg\" xmlns:xlink=\"http://www.w3.org/1999/xlink\">\n <defs>\n  <style type=\"text/css\">\n*{stroke-linecap:butt;stroke-linejoin:round;}\n  </style>\n </defs>\n <g id=\"figure_1\">\n  <g id=\"patch_1\">\n   <path d=\"M 0 248.518125 \nL 372.103125 248.518125 \nL 372.103125 0 \nL 0 0 \nz\n\" style=\"fill:none;\"/>\n  </g>\n  <g id=\"axes_1\">\n   <g id=\"patch_2\">\n    <path d=\"M 30.103125 224.64 \nL 364.903125 224.64 \nL 364.903125 7.2 \nL 30.103125 7.2 \nz\n\" style=\"fill:#ffffff;\"/>\n   </g>\n   <g id=\"matplotlib.axis_1\">\n    <g id=\"xtick_1\">\n     <g id=\"line2d_1\">\n      <defs>\n       <path d=\"M 0 0 \nL 0 3.5 \n\" id=\"mb0bd7b81b7\" style=\"stroke:#000000;stroke-width:0.8;\"/>\n      </defs>\n      <g>\n       <use style=\"stroke:#000000;stroke-width:0.8;\" x=\"45.321307\" xlink:href=\"#mb0bd7b81b7\" y=\"224.64\"/>\n      </g>\n     </g>\n     <g id=\"text_1\">\n      <!-- 0 -->\n      <defs>\n       <path d=\"M 31.78125 66.40625 \nQ 24.171875 66.40625 20.328125 58.90625 \nQ 16.5 51.421875 16.5 36.375 \nQ 16.5 21.390625 20.328125 13.890625 \nQ 24.171875 6.390625 31.78125 6.390625 \nQ 39.453125 6.390625 43.28125 13.890625 \nQ 47.125 21.390625 47.125 36.375 \nQ 47.125 51.421875 43.28125 58.90625 \nQ 39.453125 66.40625 31.78125 66.40625 \nz\nM 31.78125 74.21875 \nQ 44.046875 74.21875 50.515625 64.515625 \nQ 56.984375 54.828125 56.984375 36.375 \nQ 56.984375 17.96875 50.515625 8.265625 \nQ 44.046875 -1.421875 31.78125 -1.421875 \nQ 19.53125 -1.421875 13.0625 8.265625 \nQ 6.59375 17.96875 6.59375 36.375 \nQ 6.59375 54.828125 13.0625 64.515625 \nQ 19.53125 74.21875 31.78125 74.21875 \nz\n\" id=\"DejaVuSans-48\"/>\n      </defs>\n      <g transform=\"translate(42.140057 239.238437)scale(0.1 -0.1)\">\n       <use xlink:href=\"#DejaVuSans-48\"/>\n      </g>\n     </g>\n    </g>\n    <g id=\"xtick_2\">\n     <g id=\"line2d_2\">\n      <g>\n       <use style=\"stroke:#000000;stroke-width:0.8;\" x=\"92.509467\" xlink:href=\"#mb0bd7b81b7\" y=\"224.64\"/>\n      </g>\n     </g>\n     <g id=\"text_2\">\n      <!-- 20 -->\n      <defs>\n       <path d=\"M 19.1875 8.296875 \nL 53.609375 8.296875 \nL 53.609375 0 \nL 7.328125 0 \nL 7.328125 8.296875 \nQ 12.9375 14.109375 22.625 23.890625 \nQ 32.328125 33.6875 34.8125 36.53125 \nQ 39.546875 41.84375 41.421875 45.53125 \nQ 43.3125 49.21875 43.3125 52.78125 \nQ 43.3125 58.59375 39.234375 62.25 \nQ 35.15625 65.921875 28.609375 65.921875 \nQ 23.96875 65.921875 18.8125 64.3125 \nQ 13.671875 62.703125 7.8125 59.421875 \nL 7.8125 69.390625 \nQ 13.765625 71.78125 18.9375 73 \nQ 24.125 74.21875 28.421875 74.21875 \nQ 39.75 74.21875 46.484375 68.546875 \nQ 53.21875 62.890625 53.21875 53.421875 \nQ 53.21875 48.921875 51.53125 44.890625 \nQ 49.859375 40.875 45.40625 35.40625 \nQ 44.1875 33.984375 37.640625 27.21875 \nQ 31.109375 20.453125 19.1875 8.296875 \nz\n\" id=\"DejaVuSans-50\"/>\n      </defs>\n      <g transform=\"translate(86.146967 239.238437)scale(0.1 -0.1)\">\n       <use xlink:href=\"#DejaVuSans-50\"/>\n       <use x=\"63.623047\" xlink:href=\"#DejaVuSans-48\"/>\n      </g>\n     </g>\n    </g>\n    <g id=\"xtick_3\">\n     <g id=\"line2d_3\">\n      <g>\n       <use style=\"stroke:#000000;stroke-width:0.8;\" x=\"139.697628\" xlink:href=\"#mb0bd7b81b7\" y=\"224.64\"/>\n      </g>\n     </g>\n     <g id=\"text_3\">\n      <!-- 40 -->\n      <defs>\n       <path d=\"M 37.796875 64.3125 \nL 12.890625 25.390625 \nL 37.796875 25.390625 \nz\nM 35.203125 72.90625 \nL 47.609375 72.90625 \nL 47.609375 25.390625 \nL 58.015625 25.390625 \nL 58.015625 17.1875 \nL 47.609375 17.1875 \nL 47.609375 0 \nL 37.796875 0 \nL 37.796875 17.1875 \nL 4.890625 17.1875 \nL 4.890625 26.703125 \nz\n\" id=\"DejaVuSans-52\"/>\n      </defs>\n      <g transform=\"translate(133.335128 239.238437)scale(0.1 -0.1)\">\n       <use xlink:href=\"#DejaVuSans-52\"/>\n       <use x=\"63.623047\" xlink:href=\"#DejaVuSans-48\"/>\n      </g>\n     </g>\n    </g>\n    <g id=\"xtick_4\">\n     <g id=\"line2d_4\">\n      <g>\n       <use style=\"stroke:#000000;stroke-width:0.8;\" x=\"186.885789\" xlink:href=\"#mb0bd7b81b7\" y=\"224.64\"/>\n      </g>\n     </g>\n     <g id=\"text_4\">\n      <!-- 60 -->\n      <defs>\n       <path d=\"M 33.015625 40.375 \nQ 26.375 40.375 22.484375 35.828125 \nQ 18.609375 31.296875 18.609375 23.390625 \nQ 18.609375 15.53125 22.484375 10.953125 \nQ 26.375 6.390625 33.015625 6.390625 \nQ 39.65625 6.390625 43.53125 10.953125 \nQ 47.40625 15.53125 47.40625 23.390625 \nQ 47.40625 31.296875 43.53125 35.828125 \nQ 39.65625 40.375 33.015625 40.375 \nz\nM 52.59375 71.296875 \nL 52.59375 62.3125 \nQ 48.875 64.0625 45.09375 64.984375 \nQ 41.3125 65.921875 37.59375 65.921875 \nQ 27.828125 65.921875 22.671875 59.328125 \nQ 17.53125 52.734375 16.796875 39.40625 \nQ 19.671875 43.65625 24.015625 45.921875 \nQ 28.375 48.1875 33.59375 48.1875 \nQ 44.578125 48.1875 50.953125 41.515625 \nQ 57.328125 34.859375 57.328125 23.390625 \nQ 57.328125 12.15625 50.6875 5.359375 \nQ 44.046875 -1.421875 33.015625 -1.421875 \nQ 20.359375 -1.421875 13.671875 8.265625 \nQ 6.984375 17.96875 6.984375 36.375 \nQ 6.984375 53.65625 15.1875 63.9375 \nQ 23.390625 74.21875 37.203125 74.21875 \nQ 40.921875 74.21875 44.703125 73.484375 \nQ 48.484375 72.75 52.59375 71.296875 \nz\n\" id=\"DejaVuSans-54\"/>\n      </defs>\n      <g transform=\"translate(180.523289 239.238437)scale(0.1 -0.1)\">\n       <use xlink:href=\"#DejaVuSans-54\"/>\n       <use x=\"63.623047\" xlink:href=\"#DejaVuSans-48\"/>\n      </g>\n     </g>\n    </g>\n    <g id=\"xtick_5\">\n     <g id=\"line2d_5\">\n      <g>\n       <use style=\"stroke:#000000;stroke-width:0.8;\" x=\"234.07395\" xlink:href=\"#mb0bd7b81b7\" y=\"224.64\"/>\n      </g>\n     </g>\n     <g id=\"text_5\">\n      <!-- 80 -->\n      <defs>\n       <path d=\"M 31.78125 34.625 \nQ 24.75 34.625 20.71875 30.859375 \nQ 16.703125 27.09375 16.703125 20.515625 \nQ 16.703125 13.921875 20.71875 10.15625 \nQ 24.75 6.390625 31.78125 6.390625 \nQ 38.8125 6.390625 42.859375 10.171875 \nQ 46.921875 13.96875 46.921875 20.515625 \nQ 46.921875 27.09375 42.890625 30.859375 \nQ 38.875 34.625 31.78125 34.625 \nz\nM 21.921875 38.8125 \nQ 15.578125 40.375 12.03125 44.71875 \nQ 8.5 49.078125 8.5 55.328125 \nQ 8.5 64.0625 14.71875 69.140625 \nQ 20.953125 74.21875 31.78125 74.21875 \nQ 42.671875 74.21875 48.875 69.140625 \nQ 55.078125 64.0625 55.078125 55.328125 \nQ 55.078125 49.078125 51.53125 44.71875 \nQ 48 40.375 41.703125 38.8125 \nQ 48.828125 37.15625 52.796875 32.3125 \nQ 56.78125 27.484375 56.78125 20.515625 \nQ 56.78125 9.90625 50.3125 4.234375 \nQ 43.84375 -1.421875 31.78125 -1.421875 \nQ 19.734375 -1.421875 13.25 4.234375 \nQ 6.78125 9.90625 6.78125 20.515625 \nQ 6.78125 27.484375 10.78125 32.3125 \nQ 14.796875 37.15625 21.921875 38.8125 \nz\nM 18.3125 54.390625 \nQ 18.3125 48.734375 21.84375 45.5625 \nQ 25.390625 42.390625 31.78125 42.390625 \nQ 38.140625 42.390625 41.71875 45.5625 \nQ 45.3125 48.734375 45.3125 54.390625 \nQ 45.3125 60.0625 41.71875 63.234375 \nQ 38.140625 66.40625 31.78125 66.40625 \nQ 25.390625 66.40625 21.84375 63.234375 \nQ 18.3125 60.0625 18.3125 54.390625 \nz\n\" id=\"DejaVuSans-56\"/>\n      </defs>\n      <g transform=\"translate(227.71145 239.238437)scale(0.1 -0.1)\">\n       <use xlink:href=\"#DejaVuSans-56\"/>\n       <use x=\"63.623047\" xlink:href=\"#DejaVuSans-48\"/>\n      </g>\n     </g>\n    </g>\n    <g id=\"xtick_6\">\n     <g id=\"line2d_6\">\n      <g>\n       <use style=\"stroke:#000000;stroke-width:0.8;\" x=\"281.26211\" xlink:href=\"#mb0bd7b81b7\" y=\"224.64\"/>\n      </g>\n     </g>\n     <g id=\"text_6\">\n      <!-- 100 -->\n      <defs>\n       <path d=\"M 12.40625 8.296875 \nL 28.515625 8.296875 \nL 28.515625 63.921875 \nL 10.984375 60.40625 \nL 10.984375 69.390625 \nL 28.421875 72.90625 \nL 38.28125 72.90625 \nL 38.28125 8.296875 \nL 54.390625 8.296875 \nL 54.390625 0 \nL 12.40625 0 \nz\n\" id=\"DejaVuSans-49\"/>\n      </defs>\n      <g transform=\"translate(271.71836 239.238437)scale(0.1 -0.1)\">\n       <use xlink:href=\"#DejaVuSans-49\"/>\n       <use x=\"63.623047\" xlink:href=\"#DejaVuSans-48\"/>\n       <use x=\"127.246094\" xlink:href=\"#DejaVuSans-48\"/>\n      </g>\n     </g>\n    </g>\n    <g id=\"xtick_7\">\n     <g id=\"line2d_7\">\n      <g>\n       <use style=\"stroke:#000000;stroke-width:0.8;\" x=\"328.450271\" xlink:href=\"#mb0bd7b81b7\" y=\"224.64\"/>\n      </g>\n     </g>\n     <g id=\"text_7\">\n      <!-- 120 -->\n      <g transform=\"translate(318.906521 239.238437)scale(0.1 -0.1)\">\n       <use xlink:href=\"#DejaVuSans-49\"/>\n       <use x=\"63.623047\" xlink:href=\"#DejaVuSans-50\"/>\n       <use x=\"127.246094\" xlink:href=\"#DejaVuSans-48\"/>\n      </g>\n     </g>\n    </g>\n   </g>\n   <g id=\"matplotlib.axis_2\">\n    <g id=\"ytick_1\">\n     <g id=\"line2d_8\">\n      <defs>\n       <path d=\"M 0 0 \nL -3.5 0 \n\" id=\"m421f4de019\" style=\"stroke:#000000;stroke-width:0.8;\"/>\n      </defs>\n      <g>\n       <use style=\"stroke:#000000;stroke-width:0.8;\" x=\"30.103125\" xlink:href=\"#m421f4de019\" y=\"208.780635\"/>\n      </g>\n     </g>\n     <g id=\"text_8\">\n      <!-- 1.0 -->\n      <defs>\n       <path d=\"M 10.6875 12.40625 \nL 21 12.40625 \nL 21 0 \nL 10.6875 0 \nz\n\" id=\"DejaVuSans-46\"/>\n      </defs>\n      <g transform=\"translate(7.2 212.579854)scale(0.1 -0.1)\">\n       <use xlink:href=\"#DejaVuSans-49\"/>\n       <use x=\"63.623047\" xlink:href=\"#DejaVuSans-46\"/>\n       <use x=\"95.410156\" xlink:href=\"#DejaVuSans-48\"/>\n      </g>\n     </g>\n    </g>\n    <g id=\"ytick_2\">\n     <g id=\"line2d_9\">\n      <g>\n       <use style=\"stroke:#000000;stroke-width:0.8;\" x=\"30.103125\" xlink:href=\"#m421f4de019\" y=\"172.343266\"/>\n      </g>\n     </g>\n     <g id=\"text_9\">\n      <!-- 1.1 -->\n      <g transform=\"translate(7.2 176.142485)scale(0.1 -0.1)\">\n       <use xlink:href=\"#DejaVuSans-49\"/>\n       <use x=\"63.623047\" xlink:href=\"#DejaVuSans-46\"/>\n       <use x=\"95.410156\" xlink:href=\"#DejaVuSans-49\"/>\n      </g>\n     </g>\n    </g>\n    <g id=\"ytick_3\">\n     <g id=\"line2d_10\">\n      <g>\n       <use style=\"stroke:#000000;stroke-width:0.8;\" x=\"30.103125\" xlink:href=\"#m421f4de019\" y=\"135.905897\"/>\n      </g>\n     </g>\n     <g id=\"text_10\">\n      <!-- 1.2 -->\n      <g transform=\"translate(7.2 139.705116)scale(0.1 -0.1)\">\n       <use xlink:href=\"#DejaVuSans-49\"/>\n       <use x=\"63.623047\" xlink:href=\"#DejaVuSans-46\"/>\n       <use x=\"95.410156\" xlink:href=\"#DejaVuSans-50\"/>\n      </g>\n     </g>\n    </g>\n    <g id=\"ytick_4\">\n     <g id=\"line2d_11\">\n      <g>\n       <use style=\"stroke:#000000;stroke-width:0.8;\" x=\"30.103125\" xlink:href=\"#m421f4de019\" y=\"99.468528\"/>\n      </g>\n     </g>\n     <g id=\"text_11\">\n      <!-- 1.3 -->\n      <defs>\n       <path d=\"M 40.578125 39.3125 \nQ 47.65625 37.796875 51.625 33 \nQ 55.609375 28.21875 55.609375 21.1875 \nQ 55.609375 10.40625 48.1875 4.484375 \nQ 40.765625 -1.421875 27.09375 -1.421875 \nQ 22.515625 -1.421875 17.65625 -0.515625 \nQ 12.796875 0.390625 7.625 2.203125 \nL 7.625 11.71875 \nQ 11.71875 9.328125 16.59375 8.109375 \nQ 21.484375 6.890625 26.8125 6.890625 \nQ 36.078125 6.890625 40.9375 10.546875 \nQ 45.796875 14.203125 45.796875 21.1875 \nQ 45.796875 27.640625 41.28125 31.265625 \nQ 36.765625 34.90625 28.71875 34.90625 \nL 20.21875 34.90625 \nL 20.21875 43.015625 \nL 29.109375 43.015625 \nQ 36.375 43.015625 40.234375 45.921875 \nQ 44.09375 48.828125 44.09375 54.296875 \nQ 44.09375 59.90625 40.109375 62.90625 \nQ 36.140625 65.921875 28.71875 65.921875 \nQ 24.65625 65.921875 20.015625 65.03125 \nQ 15.375 64.15625 9.8125 62.3125 \nL 9.8125 71.09375 \nQ 15.4375 72.65625 20.34375 73.4375 \nQ 25.25 74.21875 29.59375 74.21875 \nQ 40.828125 74.21875 47.359375 69.109375 \nQ 53.90625 64.015625 53.90625 55.328125 \nQ 53.90625 49.265625 50.4375 45.09375 \nQ 46.96875 40.921875 40.578125 39.3125 \nz\n\" id=\"DejaVuSans-51\"/>\n      </defs>\n      <g transform=\"translate(7.2 103.267747)scale(0.1 -0.1)\">\n       <use xlink:href=\"#DejaVuSans-49\"/>\n       <use x=\"63.623047\" xlink:href=\"#DejaVuSans-46\"/>\n       <use x=\"95.410156\" xlink:href=\"#DejaVuSans-51\"/>\n      </g>\n     </g>\n    </g>\n    <g id=\"ytick_5\">\n     <g id=\"line2d_12\">\n      <g>\n       <use style=\"stroke:#000000;stroke-width:0.8;\" x=\"30.103125\" xlink:href=\"#m421f4de019\" y=\"63.031159\"/>\n      </g>\n     </g>\n     <g id=\"text_12\">\n      <!-- 1.4 -->\n      <g transform=\"translate(7.2 66.830378)scale(0.1 -0.1)\">\n       <use xlink:href=\"#DejaVuSans-49\"/>\n       <use x=\"63.623047\" xlink:href=\"#DejaVuSans-46\"/>\n       <use x=\"95.410156\" xlink:href=\"#DejaVuSans-52\"/>\n      </g>\n     </g>\n    </g>\n    <g id=\"ytick_6\">\n     <g id=\"line2d_13\">\n      <g>\n       <use style=\"stroke:#000000;stroke-width:0.8;\" x=\"30.103125\" xlink:href=\"#m421f4de019\" y=\"26.59379\"/>\n      </g>\n     </g>\n     <g id=\"text_13\">\n      <!-- 1.5 -->\n      <defs>\n       <path d=\"M 10.796875 72.90625 \nL 49.515625 72.90625 \nL 49.515625 64.59375 \nL 19.828125 64.59375 \nL 19.828125 46.734375 \nQ 21.96875 47.46875 24.109375 47.828125 \nQ 26.265625 48.1875 28.421875 48.1875 \nQ 40.625 48.1875 47.75 41.5 \nQ 54.890625 34.8125 54.890625 23.390625 \nQ 54.890625 11.625 47.5625 5.09375 \nQ 40.234375 -1.421875 26.90625 -1.421875 \nQ 22.3125 -1.421875 17.546875 -0.640625 \nQ 12.796875 0.140625 7.71875 1.703125 \nL 7.71875 11.625 \nQ 12.109375 9.234375 16.796875 8.0625 \nQ 21.484375 6.890625 26.703125 6.890625 \nQ 35.15625 6.890625 40.078125 11.328125 \nQ 45.015625 15.765625 45.015625 23.390625 \nQ 45.015625 31 40.078125 35.4375 \nQ 35.15625 39.890625 26.703125 39.890625 \nQ 22.75 39.890625 18.8125 39.015625 \nQ 14.890625 38.140625 10.796875 36.28125 \nz\n\" id=\"DejaVuSans-53\"/>\n      </defs>\n      <g transform=\"translate(7.2 30.393008)scale(0.1 -0.1)\">\n       <use xlink:href=\"#DejaVuSans-49\"/>\n       <use x=\"63.623047\" xlink:href=\"#DejaVuSans-46\"/>\n       <use x=\"95.410156\" xlink:href=\"#DejaVuSans-53\"/>\n      </g>\n     </g>\n    </g>\n   </g>\n   <g id=\"line2d_14\">\n    <path clip-path=\"url(#p8a4f0a644b)\" d=\"M 45.321307 17.083636 \nL 47.680715 42.079672 \nL 50.040123 68.569639 \nL 52.399531 83.144587 \nL 54.758939 94.549483 \nL 57.118347 108.614307 \nL 61.837163 124.100189 \nL 64.196571 130.476729 \nL 66.555979 136.197396 \nL 68.915387 141.225753 \nL 73.634203 150.189346 \nL 75.993611 154.088144 \nL 78.353019 155.618514 \nL 80.712427 160.355372 \nL 83.071835 163.233924 \nL 85.431243 166.731911 \nL 87.790651 169.646901 \nL 94.868876 177.335186 \nL 99.587692 182.072044 \nL 101.9471 184.148974 \nL 111.384732 191.472885 \nL 113.74414 191.983008 \nL 116.103548 193.549815 \nL 120.822364 195.918244 \nL 123.181772 185.387844 \nL 125.54118 195.153059 \nL 127.900588 196.136868 \nL 130.259996 197.412176 \nL 134.978812 199.561981 \nL 137.33822 200.363603 \nL 139.697628 200.946601 \nL 142.057036 201.78466 \nL 149.13526 203.424342 \nL 151.494668 202.841344 \nL 153.854076 197.266426 \nL 156.213484 200.035667 \nL 158.572892 202.149034 \nL 160.9323 202.804907 \nL 163.291709 204.116652 \nL 165.651117 204.808962 \nL 168.010525 205.209773 \nL 172.729341 206.448643 \nL 177.448157 206.849455 \nL 179.807565 207.396015 \nL 182.166973 207.068079 \nL 184.526381 207.578202 \nL 186.885789 207.833264 \nL 189.245197 208.744198 \nL 191.604605 209.217884 \nL 193.964013 209.436508 \nL 196.323421 207.979013 \nL 198.682829 207.396015 \nL 201.042237 205.756333 \nL 203.401645 207.687514 \nL 208.120461 208.525574 \nL 210.479869 209.217884 \nL 212.839277 209.655132 \nL 215.198685 203.934465 \nL 217.558093 200.837289 \nL 219.917501 204.298839 \nL 222.276909 207.177391 \nL 229.355133 209.072134 \nL 231.714541 209.254321 \nL 234.07395 209.910194 \nL 238.792766 210.347442 \nL 241.152174 210.675378 \nL 243.511582 210.857565 \nL 248.230398 211.003315 \nL 250.589806 211.149064 \nL 260.027438 212.606559 \nL 262.386846 211.659187 \nL 264.746254 211.003315 \nL 267.105662 210.055943 \nL 269.46507 211.440563 \nL 271.824478 211.513438 \nL 274.183886 212.096436 \nL 276.543294 212.096436 \nL 278.902702 212.533684 \nL 281.26211 212.351497 \nL 283.621518 212.351497 \nL 285.980926 212.132873 \nL 288.340334 212.642996 \nL 293.05915 212.898058 \nL 307.215599 213.481056 \nL 309.575007 213.189557 \nL 311.934415 213.517493 \nL 314.293823 213.590368 \nL 316.653231 212.242185 \nL 319.012639 212.606559 \nL 323.731455 214.209803 \nL 326.090863 214.136928 \nL 328.450271 214.647052 \nL 330.809679 214.756364 \nL 333.169087 214.719926 \nL 335.528495 213.335306 \nL 337.887903 211.294814 \nL 340.247311 212.533684 \nL 342.606719 213.481056 \nL 344.966127 214.027616 \nL 347.325535 214.064054 \nL 349.684943 214.319115 \nL 349.684943 214.319115 \n\" style=\"fill:none;stroke:#1f77b4;stroke-linecap:square;stroke-width:1.5;\"/>\n   </g>\n   <g id=\"line2d_15\">\n    <path clip-path=\"url(#p8a4f0a644b)\" d=\"M 45.321307 40.039179 \nL 47.680715 62.59391 \nL 50.040123 79.573724 \nL 52.399531 92.290366 \nL 54.758939 107.958435 \nL 57.118347 115.64672 \nL 59.477755 122.788444 \nL 61.837163 129.128546 \nL 64.196571 134.667026 \nL 66.555979 139.731821 \nL 68.915387 144.432241 \nL 71.274795 148.804726 \nL 73.634203 152.630649 \nL 75.993611 154.015269 \nL 78.353019 158.752127 \nL 80.712427 161.48493 \nL 85.431243 167.314909 \nL 87.790651 169.974837 \nL 94.868876 177.262311 \nL 99.587692 181.634795 \nL 104.306508 185.424282 \nL 106.665916 187.282587 \nL 109.025324 188.995144 \nL 111.384732 189.723891 \nL 113.74414 191.472885 \nL 116.103548 192.675318 \nL 118.462956 193.367628 \nL 120.822364 190.525513 \nL 123.181772 192.711755 \nL 127.900588 195.517433 \nL 134.978812 198.614609 \nL 144.416444 201.893972 \nL 146.775852 202.294783 \nL 149.13526 201.857535 \nL 151.494668 195.517433 \nL 153.854076 199.999229 \nL 156.213484 200.764414 \nL 158.572892 201.055913 \nL 160.9323 202.841344 \nL 163.291709 204.043777 \nL 165.651117 204.298839 \nL 168.010525 204.335276 \nL 170.369933 205.209773 \nL 172.729341 205.756333 \nL 177.448157 206.412206 \nL 179.807565 205.24621 \nL 182.166973 207.031641 \nL 184.526381 206.958767 \nL 186.885789 207.796826 \nL 191.604605 207.906138 \nL 196.323421 205.902083 \nL 198.682829 204.153089 \nL 201.042237 206.813017 \nL 203.401645 207.250266 \nL 205.761053 207.286703 \nL 208.120461 208.124762 \nL 210.479869 208.70776 \nL 212.839277 198.286673 \nL 215.198685 202.003284 \nL 217.558093 206.375769 \nL 219.917501 207.541765 \nL 222.276909 206.885892 \nL 224.636317 207.723951 \nL 226.995725 208.744198 \nL 229.355133 209.108571 \nL 234.07395 209.108571 \nL 241.152174 209.946631 \nL 243.511582 210.128818 \nL 245.87099 210.128818 \nL 248.230398 210.274567 \nL 250.589806 210.602504 \nL 252.949214 211.440563 \nL 255.308622 210.93044 \nL 257.66803 211.477 \nL 260.027438 210.019506 \nL 262.386846 210.529629 \nL 264.746254 207.723951 \nL 267.105662 210.201693 \nL 269.46507 210.857565 \nL 271.824478 211.149064 \nL 274.183886 210.638941 \nL 276.543294 210.966877 \nL 278.902702 211.440563 \nL 281.26211 211.62275 \nL 283.621518 210.894003 \nL 285.980926 211.477 \nL 288.340334 211.549875 \nL 290.699742 211.477 \nL 295.418558 211.804937 \nL 297.777966 211.695625 \nL 300.137374 212.023561 \nL 304.856191 212.205748 \nL 307.215599 211.513438 \nL 309.575007 211.804937 \nL 311.934415 212.606559 \nL 314.293823 210.420317 \nL 319.012639 211.62275 \nL 328.450271 213.335306 \nL 330.809679 212.679434 \nL 333.169087 212.424372 \nL 335.528495 208.744198 \nL 337.887903 210.493191 \nL 340.247311 211.695625 \nL 342.606719 211.950686 \nL 344.966127 212.023561 \nL 347.325535 212.679434 \nL 349.684943 212.788746 \nL 349.684943 212.788746 \n\" style=\"fill:none;stroke:#ff7f0e;stroke-linecap:square;stroke-width:1.5;\"/>\n   </g>\n   <g id=\"patch_3\">\n    <path d=\"M 30.103125 224.64 \nL 30.103125 7.2 \n\" style=\"fill:none;stroke:#000000;stroke-linecap:square;stroke-linejoin:miter;stroke-width:0.8;\"/>\n   </g>\n   <g id=\"patch_4\">\n    <path d=\"M 364.903125 224.64 \nL 364.903125 7.2 \n\" style=\"fill:none;stroke:#000000;stroke-linecap:square;stroke-linejoin:miter;stroke-width:0.8;\"/>\n   </g>\n   <g id=\"patch_5\">\n    <path d=\"M 30.103125 224.64 \nL 364.903125 224.64 \n\" style=\"fill:none;stroke:#000000;stroke-linecap:square;stroke-linejoin:miter;stroke-width:0.8;\"/>\n   </g>\n   <g id=\"patch_6\">\n    <path d=\"M 30.103125 7.2 \nL 364.903125 7.2 \n\" style=\"fill:none;stroke:#000000;stroke-linecap:square;stroke-linejoin:miter;stroke-width:0.8;\"/>\n   </g>\n  </g>\n </g>\n <defs>\n  <clipPath id=\"p8a4f0a644b\">\n   <rect height=\"217.44\" width=\"334.8\" x=\"30.103125\" y=\"7.2\"/>\n  </clipPath>\n </defs>\n</svg>\n",
      "image/png": "[encoded data removed]"
     },
     "metadata": {
      "needs_background": "light"
     }
    }
   ],
   "source": [
    "# Plot train and validation losses history\n",
    "plt.plot(loss_epochs['train'])\n",
    "plt.plot(loss_epochs['eval'])\n",
    "plt.show()"
   ]
  },
  {
   "cell_type": "markdown",
   "metadata": {},
   "source": [
    "#### Inspect predicted values"
   ]
  },
  {
   "cell_type": "code",
   "execution_count": 686,
   "metadata": {
    "tags": [
     "outputPrepend",
     "outputPrepend",
     "outputPrepend",
     "outputPrepend",
     "outputPrepend",
     "outputPrepend",
     "outputPrepend",
     "outputPrepend",
     "outputPrepend",
     "outputPrepend",
     "outputPrepend",
     "outputPrepend",
     "outputPrepend",
     "outputPrepend",
     "outputPrepend",
     "outputPrepend",
     "outputPrepend",
     "outputPrepend",
     "outputPrepend",
     "outputPrepend",
     "outputPrepend",
     "outputPrepend",
     "outputPrepend",
     "outputPrepend",
     "outputPrepend",
     "outputPrepend",
     "outputPrepend",
     "outputPrepend",
     "outputPrepend"
    ]
   },
   "outputs": [
    {
     "output_type": "stream",
     "name": "stdout",
     "text": "\nProbas predicted:\n [[0.02620969 0.05318082 0.50775355 0.4128559 ]\n [0.05750762 0.08611216 0.6065422  0.24983802]\n [0.02167793 0.22079498 0.46652716 0.29099998]\n ...\n [0.02260969 0.22729631 0.55711585 0.19297817]\n [0.04705549 0.15119019 0.5033323  0.29842204]\n [0.0278794  0.12538011 0.57998395 0.26675647]]\n\nvalues used for predictions:\n 0 1 2 3\n\nAccuracy model 12.8721%\n\n\nPredictions:\n2    39987\n3     7646\n0        4\n1        1\nName: y_pred, dtype: int64\n\ntarget:\n0    23217\n1    16407\n2     7497\n3      517\nName: y, dtype: int64\n"
    }
   ],
   "source": [
    "# Transform tensors to numpy arrays\n",
    "y_pred = F.softmax(predictions).detach().numpy()\n",
    "y = labels.numpy()\n",
    "\n",
    "# Display probas predicted\n",
    "print('\\nProbas predicted:\\n', y_pred)\n",
    "\n",
    "# Transform array of predicted probas into vector of ints\n",
    "y_pred = y_pred.argmax(axis=1)\n",
    "random_pred = random_preds_val.argmax(axis=1)\n",
    "\n",
    "# Values used\n",
    "print('\\nvalues used for predictions:\\n', *np.unique(y_pred))\n",
    "\n",
    "# Transform arrays into dataframes\n",
    "df_results = pd.DataFrame({'y': y, 'y_pred': y_pred})\n",
    "\n",
    "# Compute accuracy ratio\n",
    "print(f'\\nAccuracy model {round(100 * sum(y_pred == y)/len(y), 4)}%')\n",
    "\n",
    "# Display value counts\n",
    "print('\\n\\nPredictions:')\n",
    "print(df_results['y_pred'].value_counts())\n",
    "print('\\ntarget:')\n",
    "print(df_results['y'].value_counts())"
   ]
  },
  {
   "cell_type": "markdown",
   "metadata": {},
   "source": [
    "### Test model\n",
    "\n",
    "On the test set (rather than validation set)"
   ]
  },
  {
   "cell_type": "code",
   "execution_count": 687,
   "metadata": {},
   "outputs": [
    {
     "output_type": "stream",
     "name": "stdout",
     "text": "Avg loss test: 0.994\n\ncompet loss: 0.9942\n"
    }
   ],
   "source": [
    "# Lists batchs loss\n",
    "loss_batchs = {'test': []}\n",
    "\n",
    "# Test set\n",
    "# --------\n",
    "with torch.no_grad():\n",
    "    for n_batch, (x, labels) in enumerate(dataloader_test):\n",
    "        # Predict on the test set\n",
    "        predictions = model(x)\n",
    "        \n",
    "        # Compute batch loss\n",
    "        loss = criterion(predictions, labels)\n",
    "        loss_compet = competition_scorer(labels.numpy(), F.softmax(predictions).detach().numpy())\n",
    "        \n",
    "        # Add batch loss to the list of current epoch\n",
    "        loss_batchs['test'].append(round(loss.item(), 4))\n",
    "\n",
    "# Compute train and test losses for the epoch, and add to epochs list\n",
    "loss_test = torch.tensor(loss_batchs['test'], dtype=float).mean()\n",
    "loss_test = round(loss_test.item(), 4)\n",
    "\n",
    "print(f\"Avg loss test: {loss_test}\\n\")\n",
    "print(f\"compet loss: {round(loss_compet, 4)}\")"
   ]
  },
  {
   "cell_type": "markdown",
   "metadata": {},
   "source": [
    "#### Save model's weights"
   ]
  },
  {
   "cell_type": "code",
   "execution_count": 688,
   "metadata": {},
   "outputs": [],
   "source": [
    "torch.save(model.state_dict(), 'weights/weights_new.pt')"
   ]
  },
  {
   "cell_type": "markdown",
   "metadata": {},
   "source": [
    "#### Benchmark preds on val set"
   ]
  },
  {
   "cell_type": "code",
   "execution_count": 490,
   "metadata": {},
   "outputs": [],
   "source": [
    "# Random uniform train/test\n",
    "random_preds_train = np.random.uniform(size=(Y_train.shape[0], 4))\n",
    "random_preds_val = np.random.uniform(size=(Y_val.shape[0], 4))\n",
    "random_preds_test = np.random.uniform(size=(Y_test.shape[0], 4))"
   ]
  },
  {
   "cell_type": "markdown",
   "metadata": {},
   "source": [
    "### Sklearn Tree and RF models"
   ]
  },
  {
   "cell_type": "code",
   "execution_count": 572,
   "metadata": {},
   "outputs": [
    {
     "output_type": "stream",
     "name": "stdout",
     "text": "tree\ntrain score: 1.38\nval score: 1.41\ntest score: 1.41\n\nrforest\ntrain score: 1.43\nval score: 1.42\ntest score: 1.42\n"
    }
   ],
   "source": [
    "# Set model' parameters\n",
    "clf_tree = tree.DecisionTreeClassifier(\n",
    "    criterion='gini',\n",
    "    splitter='best',\n",
    "    max_depth=None,\n",
    "    min_samples_split=2,\n",
    "    min_samples_leaf=1,\n",
    "    max_features=None,\n",
    "    max_leaf_nodes=None,\n",
    "    class_weight=None)\n",
    "\n",
    "from sklearn.ensemble import RandomForestClassifier\n",
    "clf_rforest = RandomForestClassifier(\n",
    "    max_depth=2,\n",
    "    random_state=0,\n",
    "    n_estimators=300)\n",
    "\n",
    "# Transform type from tensor to numpy\n",
    "if False:\n",
    "    X_train = X_train.numpy()\n",
    "    X_val = X_val.numpy()\n",
    "    X_test = X_test.numpy()\n",
    "    Y_train = Y_train.numpy()\n",
    "    Y_val = Y_val.numpy()\n",
    "    Y_test = Y_test.numpy()\n",
    "\n",
    "# Transform categorical target into a one-hot vector\n",
    "if False:\n",
    "    Y_train = to_one_hot(Y_train, min_val=0, max_val=1, to_int=True)\n",
    "    Y_val = to_one_hot(Y_val, min_val=0, max_val=1, to_int=True)\n",
    "    Y_test = to_one_hot(Y_test, min_val=0, max_val=1, to_int=True)\n",
    "\n",
    "# Train the tree model\n",
    "clf_tree = clf_tree.fit(X_train, Y_train)\n",
    "clf_rforest = clf_rforest.fit(X_train, Y_train)\n",
    "\n",
    "# Yield tree train/val/test predictions\n",
    "preds_train_tree = clf_tree.predict(X_train)\n",
    "preds_val_tree = clf_tree.predict(X_val)\n",
    "preds_test_tree = clf_tree.predict(X_test)\n",
    "\n",
    "# Yield rforest train/val/test predictions\n",
    "preds_train_rforest = clf_rforest.predict(X_train)\n",
    "preds_val_rforest = clf_rforest.predict(X_val)\n",
    "preds_test_rforest = clf_rforest.predict(X_test)\n",
    "\n",
    "# Clip tree predictions to enhance score without changing predicted label\n",
    "preds_train_tree = preds_train_tree.clip(.45, .75)\n",
    "preds_val_tree = preds_val_tree.clip(.45, .75)\n",
    "preds_test_tree = preds_test_tree.clip(.45, .75)\n",
    "\n",
    "# Clip rforest predictions to enhance score without changing predicted label\n",
    "preds_train_rforest = preds_train_rforest.clip(.45, .75)\n",
    "preds_val_rforest = preds_val_rforest.clip(.45, .75)\n",
    "preds_test_rforest = preds_test_rforest.clip(.45, .75)\n",
    "\n",
    "# Evaluate tree train/val/test\n",
    "score_train_tree = competition_scorer(Y_train.argmax(axis=1), preds_train_tree)\n",
    "score_val_tree = competition_scorer(Y_val.argmax(axis=1), preds_val_tree)\n",
    "score_test_tree = competition_scorer(Y_test.argmax(axis=1), preds_test_tree)\n",
    "\n",
    "# Evaluate rforest train/val/test\n",
    "score_train_rforest = competition_scorer(Y_train.argmax(axis=1), preds_train_rforest)\n",
    "score_val_rforest = competition_scorer(Y_val.argmax(axis=1), preds_val_rforest)\n",
    "score_test_rforest = competition_scorer(Y_test.argmax(axis=1), preds_test_rforest)\n",
    "\n",
    "# Display results\n",
    "print(\"tree\")\n",
    "print(f'train score: {score_train_tree:.2f}')\n",
    "print(f'val score: {score_val_tree:.2f}')\n",
    "print(f'test score: {score_test_tree:.2f}')\n",
    "print(\"\\nrforest\")\n",
    "print(f'train score: {score_train_rforest:.2f}')\n",
    "print(f'val score: {score_val_rforest:.2f}')\n",
    "print(f'test score: {score_test_rforest:.2f}')"
   ]
  }
 ],
 "metadata": {
  "language_info": {
   "codemirror_mode": {
    "name": "ipython",
    "version": 3
   },
   "file_extension": ".py",
   "mimetype": "text/x-python",
   "name": "python",
   "nbconvert_exporter": "python",
   "pygments_lexer": "ipython3",
   "version": "3.6.2-final"
  },
  "orig_nbformat": 2,
  "kernelspec": {
   "name": "python36264bitpytorchvirtualenvb2c3f00e98dc48dba8e2131dc30ce6c5",
   "display_name": "Python 3.6.2 64-bit ('pytorch': virtualenv)"
  }
 },
 "nbformat": 4,
 "nbformat_minor": 2
}